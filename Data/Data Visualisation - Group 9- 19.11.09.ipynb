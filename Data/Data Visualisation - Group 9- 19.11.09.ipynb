{
 "cells": [
  {
   "cell_type": "markdown",
   "metadata": {},
   "source": [
    "# Import relevant libraries"
   ]
  },
  {
   "cell_type": "code",
   "execution_count": 47,
   "metadata": {
    "ExecuteTime": {
     "end_time": "2019-11-09T13:51:31.259826Z",
     "start_time": "2019-11-09T13:51:29.738724Z"
    }
   },
   "outputs": [],
   "source": [
    "#set up\n",
    "import json\n",
    "import gzip\n",
    "import pandas as pd \n",
    "import numpy as np\n",
    "import matplotlib.pyplot as plt\n",
    "import matplotlib.gridspec as gridspec\n",
    "import datetime\n",
    "from scipy import stats\n",
    "\n",
    "plt.style.use('fivethirtyeight')"
   ]
  },
  {
   "cell_type": "markdown",
   "metadata": {
    "ExecuteTime": {
     "end_time": "2019-10-30T16:31:59.325160Z",
     "start_time": "2019-10-30T16:31:59.319178Z"
    }
   },
   "source": [
    "# Read data"
   ]
  },
  {
   "cell_type": "code",
   "execution_count": 3,
   "metadata": {
    "ExecuteTime": {
     "end_time": "2019-11-09T13:18:52.754958Z",
     "start_time": "2019-11-09T13:18:52.744986Z"
    }
   },
   "outputs": [],
   "source": [
    "def parse(path):\n",
    "    g = gzip.open(path, 'rb')\n",
    "    for i in g:\n",
    "        yield json.loads(i)\n",
    "        \n",
    "def getDF(path):\n",
    "    i = 0\n",
    "    df = {}\n",
    "    for d in parse(path):\n",
    "        df[i] = d\n",
    "        i += 1\n",
    "    return pd.DataFrame.from_dict(df, orient = 'index')"
   ]
  },
  {
   "cell_type": "code",
   "execution_count": 4,
   "metadata": {
    "ExecuteTime": {
     "end_time": "2019-11-09T13:19:44.454031Z",
     "start_time": "2019-11-09T13:18:53.954237Z"
    }
   },
   "outputs": [],
   "source": [
    "ab_r = getDF('All_Beauty.json.gz')\n",
    "ab_m = getDF('meta_All_Beauty.json.gz')\n",
    "lb_r = getDF('Luxury_Beauty.json.gz')\n",
    "lb_m = getDF('meta_Luxury_Beauty.json.gz')"
   ]
  },
  {
   "cell_type": "code",
   "execution_count": 5,
   "metadata": {
    "ExecuteTime": {
     "end_time": "2019-11-09T13:20:18.089660Z",
     "start_time": "2019-11-09T13:20:16.116013Z"
    }
   },
   "outputs": [],
   "source": [
    "# merge the data\n",
    "\n",
    "ab_merged = pd.merge(ab_r, ab_m, how='inner', on ='asin')\n",
    "lb_merged = pd.merge(lb_r, lb_m, how='inner', on ='asin')"
   ]
  },
  {
   "cell_type": "markdown",
   "metadata": {},
   "source": [
    "# Data Cleaning"
   ]
  },
  {
   "cell_type": "code",
   "execution_count": 7,
   "metadata": {
    "ExecuteTime": {
     "end_time": "2019-11-09T13:20:26.681966Z",
     "start_time": "2019-11-09T13:20:25.394533Z"
    }
   },
   "outputs": [],
   "source": [
    "# data cleaning\n",
    "to_drop = ['vote','reviewText', 'reviewerName', 'summary','image_x', 'image_y', 'description', 'details']\n",
    "ab_merged.drop(to_drop, inplace=True, axis=1)\n",
    "lb_merged.drop(to_drop, inplace=True, axis=1)"
   ]
  },
  {
   "cell_type": "code",
   "execution_count": 8,
   "metadata": {
    "ExecuteTime": {
     "end_time": "2019-11-09T13:20:27.166196Z",
     "start_time": "2019-11-09T13:20:26.885932Z"
    }
   },
   "outputs": [],
   "source": [
    "## drop NaN\n",
    "\n",
    "lb_merged_non = lb_merged.dropna(subset=['price'])\n",
    "ab_merged_non = ab_merged.dropna(subset=['price'])"
   ]
  },
  {
   "cell_type": "code",
   "execution_count": 441,
   "metadata": {
    "ExecuteTime": {
     "end_time": "2019-11-09T16:50:39.270771Z",
     "start_time": "2019-11-09T16:50:39.201993Z"
    }
   },
   "outputs": [
    {
     "name": "stderr",
     "output_type": "stream",
     "text": [
      "C:\\Users\\Tunky\\Anaconda3\\envs\\smn635\\lib\\site-packages\\ipykernel_launcher.py:2: SettingWithCopyWarning: \n",
      "A value is trying to be set on a copy of a slice from a DataFrame.\n",
      "Try using .loc[row_indexer,col_indexer] = value instead\n",
      "\n",
      "See the caveats in the documentation: http://pandas.pydata.org/pandas-docs/stable/user_guide/indexing.html#returning-a-view-versus-a-copy\n",
      "  \n",
      "C:\\Users\\Tunky\\Anaconda3\\envs\\smn635\\lib\\site-packages\\ipykernel_launcher.py:3: SettingWithCopyWarning: \n",
      "A value is trying to be set on a copy of a slice from a DataFrame.\n",
      "Try using .loc[row_indexer,col_indexer] = value instead\n",
      "\n",
      "See the caveats in the documentation: http://pandas.pydata.org/pandas-docs/stable/user_guide/indexing.html#returning-a-view-versus-a-copy\n",
      "  This is separate from the ipykernel package so we can avoid doing imports until\n"
     ]
    }
   ],
   "source": [
    "## Convert unixReviewTime to the datetime\n",
    "ab_merged_non['DatetimeIndex'] = pd.to_datetime(ab_merged_non['unixReviewTime'],unit='s')\n",
    "lb_merged_non['DatetimeIndex'] = pd.to_datetime(lb_merged_non['unixReviewTime'],unit='s')"
   ]
  },
  {
   "cell_type": "code",
   "execution_count": 512,
   "metadata": {
    "ExecuteTime": {
     "end_time": "2019-11-09T17:25:26.152929Z",
     "start_time": "2019-11-09T17:25:26.135653Z"
    }
   },
   "outputs": [],
   "source": [
    "## build a conver_currency function\n",
    "def conver_currency(value):\n",
    "    \"\"\"\n",
    "    =============================\n",
    "    Argument: string\n",
    "    convert currency \n",
    "    - remove $\n",
    "    - convert string to float\n",
    "    \n",
    "    Return: float\n",
    "    =============================\n",
    "    \n",
    "    \"\"\"\n",
    "    new_value = value.replace(',','').replace('$','')\n",
    "    return np.float(new_value)\n",
    "\n",
    "## build a to float function\n",
    "def to_float(x):\n",
    "    return np.float(x)\n",
    "\n",
    "## build a function to remove outliers\n",
    "def remove_outlier(df_in, col_name):\n",
    "    q1 = df_in[col_name].quantile(0.05)\n",
    "    q3 = df_in[col_name].quantile(0.95)\n",
    "    iqr = q3-q1 #Interquartile range\n",
    "    fence_low  = q1-1.5*iqr\n",
    "    fence_high = q3+1.5*iqr\n",
    "    df_out = df_in.loc[(df_in[col_name] > fence_low) & (df_in[col_name] < fence_high)]\n",
    "    return df_out\n",
    "\n",
    "#Identify outliers\n",
    "def detect_outlier(data_1):\n",
    "    outliers=[]\n",
    "    threshold=4\n",
    "    mean_1 = np.mean(data_1)\n",
    "    std_1 =np.std(data_1)\n",
    "    \n",
    "    for y in data_1:\n",
    "        z_score= (y - mean_1)/std_1 \n",
    "        if np.abs(z_score) > threshold:\n",
    "            outliers.append(y)\n",
    "    return outliers"
   ]
  },
  {
   "cell_type": "code",
   "execution_count": 513,
   "metadata": {
    "ExecuteTime": {
     "end_time": "2019-11-09T17:28:40.124205Z",
     "start_time": "2019-11-09T17:25:43.117981Z"
    }
   },
   "outputs": [
    {
     "name": "stderr",
     "output_type": "stream",
     "text": [
      "ERROR:root:Internal Python error in the inspect module.\n",
      "Below is the traceback from this internal error.\n",
      "\n"
     ]
    },
    {
     "name": "stdout",
     "output_type": "stream",
     "text": [
      "Traceback (most recent call last):\n",
      "  File \"C:\\Users\\Tunky\\Anaconda3\\envs\\smn635\\lib\\site-packages\\pandas\\core\\nanops.py\", line 120, in f\n",
      "    result = alt(values, axis=axis, skipna=skipna, **kwds)\n",
      "  File \"C:\\Users\\Tunky\\Anaconda3\\envs\\smn635\\lib\\site-packages\\pandas\\core\\nanops.py\", line 551, in nanmean\n",
      "    the_sum = _ensure_numeric(values.sum(axis, dtype=dtype_sum))\n",
      "  File \"C:\\Users\\Tunky\\Anaconda3\\envs\\smn635\\lib\\site-packages\\numpy\\core\\_methods.py\", line 36, in _sum\n",
      "    return umr_sum(a, axis, dtype, out, keepdims, initial)\n",
      "TypeError: can only concatenate list (not \"int\") to list\n",
      "\n",
      "During handling of the above exception, another exception occurred:\n",
      "\n",
      "Traceback (most recent call last):\n",
      "  File \"C:\\Users\\Tunky\\Anaconda3\\envs\\smn635\\lib\\site-packages\\IPython\\core\\interactiveshell.py\", line 3326, in run_code\n",
      "    exec(code_obj, self.user_global_ns, self.user_ns)\n",
      "  File \"<ipython-input-513-4588a7e9e0f7>\", line 1, in <module>\n",
      "    detect_outlier(df_ab)\n",
      "  File \"<ipython-input-512-6070b661721b>\", line 35, in detect_outlier\n",
      "    mean_1 = np.mean(data_1)\n",
      "  File \"C:\\Users\\Tunky\\Anaconda3\\envs\\smn635\\lib\\site-packages\\numpy\\core\\fromnumeric.py\", line 3115, in mean\n",
      "    return mean(axis=axis, dtype=dtype, out=out, **kwargs)\n",
      "  File \"C:\\Users\\Tunky\\Anaconda3\\envs\\smn635\\lib\\site-packages\\pandas\\core\\generic.py\", line 11618, in stat_func\n",
      "    f, name, axis=axis, skipna=skipna, numeric_only=numeric_only\n",
      "  File \"C:\\Users\\Tunky\\Anaconda3\\envs\\smn635\\lib\\site-packages\\pandas\\core\\frame.py\", line 7909, in _reduce\n",
      "    result = f(values)\n",
      "  File \"C:\\Users\\Tunky\\Anaconda3\\envs\\smn635\\lib\\site-packages\\pandas\\core\\frame.py\", line 7893, in f\n",
      "    return op(x, axis=axis, skipna=skipna, **kwds)\n",
      "  File \"C:\\Users\\Tunky\\Anaconda3\\envs\\smn635\\lib\\site-packages\\pandas\\core\\nanops.py\", line 70, in _f\n",
      "    return f(*args, **kwargs)\n",
      "  File \"C:\\Users\\Tunky\\Anaconda3\\envs\\smn635\\lib\\site-packages\\pandas\\core\\nanops.py\", line 121, in f\n",
      "    except Exception:\n",
      "KeyboardInterrupt\n",
      "\n",
      "During handling of the above exception, another exception occurred:\n",
      "\n",
      "Traceback (most recent call last):\n",
      "  File \"C:\\Users\\Tunky\\Anaconda3\\envs\\smn635\\lib\\site-packages\\IPython\\core\\interactiveshell.py\", line 2040, in showtraceback\n",
      "    stb = value._render_traceback_()\n",
      "AttributeError: 'KeyboardInterrupt' object has no attribute '_render_traceback_'\n",
      "\n",
      "During handling of the above exception, another exception occurred:\n",
      "\n",
      "Traceback (most recent call last):\n",
      "  File \"C:\\Users\\Tunky\\Anaconda3\\envs\\smn635\\lib\\site-packages\\IPython\\core\\ultratb.py\", line 1101, in get_records\n",
      "    return _fixed_getinnerframes(etb, number_of_lines_of_context, tb_offset)\n",
      "  File \"C:\\Users\\Tunky\\Anaconda3\\envs\\smn635\\lib\\site-packages\\IPython\\core\\ultratb.py\", line 319, in wrapped\n",
      "    return f(*args, **kwargs)\n",
      "  File \"C:\\Users\\Tunky\\Anaconda3\\envs\\smn635\\lib\\site-packages\\IPython\\core\\ultratb.py\", line 353, in _fixed_getinnerframes\n",
      "    records = fix_frame_records_filenames(inspect.getinnerframes(etb, context))\n",
      "  File \"C:\\Users\\Tunky\\Anaconda3\\envs\\smn635\\lib\\inspect.py\", line 1502, in getinnerframes\n",
      "    frameinfo = (tb.tb_frame,) + getframeinfo(tb, context)\n",
      "  File \"C:\\Users\\Tunky\\Anaconda3\\envs\\smn635\\lib\\inspect.py\", line 1460, in getframeinfo\n",
      "    filename = getsourcefile(frame) or getfile(frame)\n",
      "  File \"C:\\Users\\Tunky\\Anaconda3\\envs\\smn635\\lib\\inspect.py\", line 693, in getsourcefile\n",
      "    if os.path.exists(filename):\n",
      "  File \"C:\\Users\\Tunky\\Anaconda3\\envs\\smn635\\lib\\genericpath.py\", line 19, in exists\n",
      "    os.stat(path)\n",
      "KeyboardInterrupt\n"
     ]
    },
    {
     "ename": "TypeError",
     "evalue": "can only concatenate str (not \"list\") to str",
     "output_type": "error",
     "traceback": [
      "\u001b[1;31m---------------------------------------------------------------------------\u001b[0m",
      "\u001b[1;31mTypeError\u001b[0m                                 Traceback (most recent call last)",
      "\u001b[1;32m~\\Anaconda3\\envs\\smn635\\lib\\site-packages\\pandas\\core\\nanops.py\u001b[0m in \u001b[0;36mf\u001b[1;34m(values, axis, skipna, **kwds)\u001b[0m\n\u001b[0;32m    119\u001b[0m                 \u001b[1;32melse\u001b[0m\u001b[1;33m:\u001b[0m\u001b[1;33m\u001b[0m\u001b[1;33m\u001b[0m\u001b[0m\n\u001b[1;32m--> 120\u001b[1;33m                     \u001b[0mresult\u001b[0m \u001b[1;33m=\u001b[0m \u001b[0malt\u001b[0m\u001b[1;33m(\u001b[0m\u001b[0mvalues\u001b[0m\u001b[1;33m,\u001b[0m \u001b[0maxis\u001b[0m\u001b[1;33m=\u001b[0m\u001b[0maxis\u001b[0m\u001b[1;33m,\u001b[0m \u001b[0mskipna\u001b[0m\u001b[1;33m=\u001b[0m\u001b[0mskipna\u001b[0m\u001b[1;33m,\u001b[0m \u001b[1;33m**\u001b[0m\u001b[0mkwds\u001b[0m\u001b[1;33m)\u001b[0m\u001b[1;33m\u001b[0m\u001b[1;33m\u001b[0m\u001b[0m\n\u001b[0m\u001b[0;32m    121\u001b[0m             \u001b[1;32mexcept\u001b[0m \u001b[0mException\u001b[0m\u001b[1;33m:\u001b[0m\u001b[1;33m\u001b[0m\u001b[1;33m\u001b[0m\u001b[0m\n",
      "\u001b[1;32m~\\Anaconda3\\envs\\smn635\\lib\\site-packages\\pandas\\core\\nanops.py\u001b[0m in \u001b[0;36mnanmean\u001b[1;34m(values, axis, skipna, mask)\u001b[0m\n\u001b[0;32m    550\u001b[0m     \u001b[0mcount\u001b[0m \u001b[1;33m=\u001b[0m \u001b[0m_get_counts\u001b[0m\u001b[1;33m(\u001b[0m\u001b[0mvalues\u001b[0m\u001b[1;33m.\u001b[0m\u001b[0mshape\u001b[0m\u001b[1;33m,\u001b[0m \u001b[0mmask\u001b[0m\u001b[1;33m,\u001b[0m \u001b[0maxis\u001b[0m\u001b[1;33m,\u001b[0m \u001b[0mdtype\u001b[0m\u001b[1;33m=\u001b[0m\u001b[0mdtype_count\u001b[0m\u001b[1;33m)\u001b[0m\u001b[1;33m\u001b[0m\u001b[1;33m\u001b[0m\u001b[0m\n\u001b[1;32m--> 551\u001b[1;33m     \u001b[0mthe_sum\u001b[0m \u001b[1;33m=\u001b[0m \u001b[0m_ensure_numeric\u001b[0m\u001b[1;33m(\u001b[0m\u001b[0mvalues\u001b[0m\u001b[1;33m.\u001b[0m\u001b[0msum\u001b[0m\u001b[1;33m(\u001b[0m\u001b[0maxis\u001b[0m\u001b[1;33m,\u001b[0m \u001b[0mdtype\u001b[0m\u001b[1;33m=\u001b[0m\u001b[0mdtype_sum\u001b[0m\u001b[1;33m)\u001b[0m\u001b[1;33m)\u001b[0m\u001b[1;33m\u001b[0m\u001b[1;33m\u001b[0m\u001b[0m\n\u001b[0m\u001b[0;32m    552\u001b[0m \u001b[1;33m\u001b[0m\u001b[0m\n",
      "\u001b[1;32m~\\Anaconda3\\envs\\smn635\\lib\\site-packages\\numpy\\core\\_methods.py\u001b[0m in \u001b[0;36m_sum\u001b[1;34m(a, axis, dtype, out, keepdims, initial)\u001b[0m\n\u001b[0;32m     35\u001b[0m          initial=_NoValue):\n\u001b[1;32m---> 36\u001b[1;33m     \u001b[1;32mreturn\u001b[0m \u001b[0mumr_sum\u001b[0m\u001b[1;33m(\u001b[0m\u001b[0ma\u001b[0m\u001b[1;33m,\u001b[0m \u001b[0maxis\u001b[0m\u001b[1;33m,\u001b[0m \u001b[0mdtype\u001b[0m\u001b[1;33m,\u001b[0m \u001b[0mout\u001b[0m\u001b[1;33m,\u001b[0m \u001b[0mkeepdims\u001b[0m\u001b[1;33m,\u001b[0m \u001b[0minitial\u001b[0m\u001b[1;33m)\u001b[0m\u001b[1;33m\u001b[0m\u001b[1;33m\u001b[0m\u001b[0m\n\u001b[0m\u001b[0;32m     37\u001b[0m \u001b[1;33m\u001b[0m\u001b[0m\n",
      "\u001b[1;31mTypeError\u001b[0m: can only concatenate list (not \"int\") to list",
      "\nDuring handling of the above exception, another exception occurred:\n",
      "\u001b[1;31mKeyboardInterrupt\u001b[0m                         Traceback (most recent call last)",
      "\u001b[1;32m~\\Anaconda3\\envs\\smn635\\lib\\site-packages\\IPython\\core\\interactiveshell.py\u001b[0m in \u001b[0;36mrun_code\u001b[1;34m(self, code_obj, result, async_)\u001b[0m\n\u001b[0;32m   3325\u001b[0m                 \u001b[1;32melse\u001b[0m\u001b[1;33m:\u001b[0m\u001b[1;33m\u001b[0m\u001b[1;33m\u001b[0m\u001b[0m\n\u001b[1;32m-> 3326\u001b[1;33m                     \u001b[0mexec\u001b[0m\u001b[1;33m(\u001b[0m\u001b[0mcode_obj\u001b[0m\u001b[1;33m,\u001b[0m \u001b[0mself\u001b[0m\u001b[1;33m.\u001b[0m\u001b[0muser_global_ns\u001b[0m\u001b[1;33m,\u001b[0m \u001b[0mself\u001b[0m\u001b[1;33m.\u001b[0m\u001b[0muser_ns\u001b[0m\u001b[1;33m)\u001b[0m\u001b[1;33m\u001b[0m\u001b[1;33m\u001b[0m\u001b[0m\n\u001b[0m\u001b[0;32m   3327\u001b[0m             \u001b[1;32mfinally\u001b[0m\u001b[1;33m:\u001b[0m\u001b[1;33m\u001b[0m\u001b[1;33m\u001b[0m\u001b[0m\n",
      "\u001b[1;32m<ipython-input-513-4588a7e9e0f7>\u001b[0m in \u001b[0;36m<module>\u001b[1;34m\u001b[0m\n\u001b[1;32m----> 1\u001b[1;33m \u001b[0mdetect_outlier\u001b[0m\u001b[1;33m(\u001b[0m\u001b[0mdf_ab\u001b[0m\u001b[1;33m)\u001b[0m\u001b[1;33m\u001b[0m\u001b[1;33m\u001b[0m\u001b[0m\n\u001b[0m",
      "\u001b[1;32m<ipython-input-512-6070b661721b>\u001b[0m in \u001b[0;36mdetect_outlier\u001b[1;34m(data_1)\u001b[0m\n\u001b[0;32m     34\u001b[0m     \u001b[0mthreshold\u001b[0m\u001b[1;33m=\u001b[0m\u001b[1;36m4\u001b[0m\u001b[1;33m\u001b[0m\u001b[1;33m\u001b[0m\u001b[0m\n\u001b[1;32m---> 35\u001b[1;33m     \u001b[0mmean_1\u001b[0m \u001b[1;33m=\u001b[0m \u001b[0mnp\u001b[0m\u001b[1;33m.\u001b[0m\u001b[0mmean\u001b[0m\u001b[1;33m(\u001b[0m\u001b[0mdata_1\u001b[0m\u001b[1;33m)\u001b[0m\u001b[1;33m\u001b[0m\u001b[1;33m\u001b[0m\u001b[0m\n\u001b[0m\u001b[0;32m     36\u001b[0m     \u001b[0mstd_1\u001b[0m \u001b[1;33m=\u001b[0m\u001b[0mnp\u001b[0m\u001b[1;33m.\u001b[0m\u001b[0mstd\u001b[0m\u001b[1;33m(\u001b[0m\u001b[0mdata_1\u001b[0m\u001b[1;33m)\u001b[0m\u001b[1;33m\u001b[0m\u001b[1;33m\u001b[0m\u001b[0m\n",
      "\u001b[1;32m~\\Anaconda3\\envs\\smn635\\lib\\site-packages\\numpy\\core\\fromnumeric.py\u001b[0m in \u001b[0;36mmean\u001b[1;34m(a, axis, dtype, out, keepdims)\u001b[0m\n\u001b[0;32m   3114\u001b[0m         \u001b[1;32melse\u001b[0m\u001b[1;33m:\u001b[0m\u001b[1;33m\u001b[0m\u001b[1;33m\u001b[0m\u001b[0m\n\u001b[1;32m-> 3115\u001b[1;33m             \u001b[1;32mreturn\u001b[0m \u001b[0mmean\u001b[0m\u001b[1;33m(\u001b[0m\u001b[0maxis\u001b[0m\u001b[1;33m=\u001b[0m\u001b[0maxis\u001b[0m\u001b[1;33m,\u001b[0m \u001b[0mdtype\u001b[0m\u001b[1;33m=\u001b[0m\u001b[0mdtype\u001b[0m\u001b[1;33m,\u001b[0m \u001b[0mout\u001b[0m\u001b[1;33m=\u001b[0m\u001b[0mout\u001b[0m\u001b[1;33m,\u001b[0m \u001b[1;33m**\u001b[0m\u001b[0mkwargs\u001b[0m\u001b[1;33m)\u001b[0m\u001b[1;33m\u001b[0m\u001b[1;33m\u001b[0m\u001b[0m\n\u001b[0m\u001b[0;32m   3116\u001b[0m \u001b[1;33m\u001b[0m\u001b[0m\n",
      "\u001b[1;32m~\\Anaconda3\\envs\\smn635\\lib\\site-packages\\pandas\\core\\generic.py\u001b[0m in \u001b[0;36mstat_func\u001b[1;34m(self, axis, skipna, level, numeric_only, **kwargs)\u001b[0m\n\u001b[0;32m  11617\u001b[0m         return self._reduce(\n\u001b[1;32m> 11618\u001b[1;33m             \u001b[0mf\u001b[0m\u001b[1;33m,\u001b[0m \u001b[0mname\u001b[0m\u001b[1;33m,\u001b[0m \u001b[0maxis\u001b[0m\u001b[1;33m=\u001b[0m\u001b[0maxis\u001b[0m\u001b[1;33m,\u001b[0m \u001b[0mskipna\u001b[0m\u001b[1;33m=\u001b[0m\u001b[0mskipna\u001b[0m\u001b[1;33m,\u001b[0m \u001b[0mnumeric_only\u001b[0m\u001b[1;33m=\u001b[0m\u001b[0mnumeric_only\u001b[0m\u001b[1;33m\u001b[0m\u001b[1;33m\u001b[0m\u001b[0m\n\u001b[0m\u001b[0;32m  11619\u001b[0m         )\n",
      "\u001b[1;32m~\\Anaconda3\\envs\\smn635\\lib\\site-packages\\pandas\\core\\frame.py\u001b[0m in \u001b[0;36m_reduce\u001b[1;34m(self, op, name, axis, skipna, numeric_only, filter_type, **kwds)\u001b[0m\n\u001b[0;32m   7908\u001b[0m                 \u001b[0mvalues\u001b[0m \u001b[1;33m=\u001b[0m \u001b[0mself\u001b[0m\u001b[1;33m.\u001b[0m\u001b[0mvalues\u001b[0m\u001b[1;33m\u001b[0m\u001b[1;33m\u001b[0m\u001b[0m\n\u001b[1;32m-> 7909\u001b[1;33m                 \u001b[0mresult\u001b[0m \u001b[1;33m=\u001b[0m \u001b[0mf\u001b[0m\u001b[1;33m(\u001b[0m\u001b[0mvalues\u001b[0m\u001b[1;33m)\u001b[0m\u001b[1;33m\u001b[0m\u001b[1;33m\u001b[0m\u001b[0m\n\u001b[0m\u001b[0;32m   7910\u001b[0m \u001b[1;33m\u001b[0m\u001b[0m\n",
      "\u001b[1;32m~\\Anaconda3\\envs\\smn635\\lib\\site-packages\\pandas\\core\\frame.py\u001b[0m in \u001b[0;36mf\u001b[1;34m(x)\u001b[0m\n\u001b[0;32m   7892\u001b[0m         \u001b[1;32mdef\u001b[0m \u001b[0mf\u001b[0m\u001b[1;33m(\u001b[0m\u001b[0mx\u001b[0m\u001b[1;33m)\u001b[0m\u001b[1;33m:\u001b[0m\u001b[1;33m\u001b[0m\u001b[1;33m\u001b[0m\u001b[0m\n\u001b[1;32m-> 7893\u001b[1;33m             \u001b[1;32mreturn\u001b[0m \u001b[0mop\u001b[0m\u001b[1;33m(\u001b[0m\u001b[0mx\u001b[0m\u001b[1;33m,\u001b[0m \u001b[0maxis\u001b[0m\u001b[1;33m=\u001b[0m\u001b[0maxis\u001b[0m\u001b[1;33m,\u001b[0m \u001b[0mskipna\u001b[0m\u001b[1;33m=\u001b[0m\u001b[0mskipna\u001b[0m\u001b[1;33m,\u001b[0m \u001b[1;33m**\u001b[0m\u001b[0mkwds\u001b[0m\u001b[1;33m)\u001b[0m\u001b[1;33m\u001b[0m\u001b[1;33m\u001b[0m\u001b[0m\n\u001b[0m\u001b[0;32m   7894\u001b[0m \u001b[1;33m\u001b[0m\u001b[0m\n",
      "\u001b[1;32m~\\Anaconda3\\envs\\smn635\\lib\\site-packages\\pandas\\core\\nanops.py\u001b[0m in \u001b[0;36m_f\u001b[1;34m(*args, **kwargs)\u001b[0m\n\u001b[0;32m     69\u001b[0m                 \u001b[1;32mwith\u001b[0m \u001b[0mnp\u001b[0m\u001b[1;33m.\u001b[0m\u001b[0merrstate\u001b[0m\u001b[1;33m(\u001b[0m\u001b[0minvalid\u001b[0m\u001b[1;33m=\u001b[0m\u001b[1;34m\"ignore\"\u001b[0m\u001b[1;33m)\u001b[0m\u001b[1;33m:\u001b[0m\u001b[1;33m\u001b[0m\u001b[1;33m\u001b[0m\u001b[0m\n\u001b[1;32m---> 70\u001b[1;33m                     \u001b[1;32mreturn\u001b[0m \u001b[0mf\u001b[0m\u001b[1;33m(\u001b[0m\u001b[1;33m*\u001b[0m\u001b[0margs\u001b[0m\u001b[1;33m,\u001b[0m \u001b[1;33m**\u001b[0m\u001b[0mkwargs\u001b[0m\u001b[1;33m)\u001b[0m\u001b[1;33m\u001b[0m\u001b[1;33m\u001b[0m\u001b[0m\n\u001b[0m\u001b[0;32m     71\u001b[0m             \u001b[1;32mexcept\u001b[0m \u001b[0mValueError\u001b[0m \u001b[1;32mas\u001b[0m \u001b[0me\u001b[0m\u001b[1;33m:\u001b[0m\u001b[1;33m\u001b[0m\u001b[1;33m\u001b[0m\u001b[0m\n",
      "\u001b[1;32m~\\Anaconda3\\envs\\smn635\\lib\\site-packages\\pandas\\core\\nanops.py\u001b[0m in \u001b[0;36mf\u001b[1;34m(values, axis, skipna, **kwds)\u001b[0m\n\u001b[0;32m    120\u001b[0m                     \u001b[0mresult\u001b[0m \u001b[1;33m=\u001b[0m \u001b[0malt\u001b[0m\u001b[1;33m(\u001b[0m\u001b[0mvalues\u001b[0m\u001b[1;33m,\u001b[0m \u001b[0maxis\u001b[0m\u001b[1;33m=\u001b[0m\u001b[0maxis\u001b[0m\u001b[1;33m,\u001b[0m \u001b[0mskipna\u001b[0m\u001b[1;33m=\u001b[0m\u001b[0mskipna\u001b[0m\u001b[1;33m,\u001b[0m \u001b[1;33m**\u001b[0m\u001b[0mkwds\u001b[0m\u001b[1;33m)\u001b[0m\u001b[1;33m\u001b[0m\u001b[1;33m\u001b[0m\u001b[0m\n\u001b[1;32m--> 121\u001b[1;33m             \u001b[1;32mexcept\u001b[0m \u001b[0mException\u001b[0m\u001b[1;33m:\u001b[0m\u001b[1;33m\u001b[0m\u001b[1;33m\u001b[0m\u001b[0m\n\u001b[0m\u001b[0;32m    122\u001b[0m                 \u001b[1;32mtry\u001b[0m\u001b[1;33m:\u001b[0m\u001b[1;33m\u001b[0m\u001b[1;33m\u001b[0m\u001b[0m\n",
      "\u001b[1;31mKeyboardInterrupt\u001b[0m: ",
      "\nDuring handling of the above exception, another exception occurred:\n",
      "\u001b[1;31mAttributeError\u001b[0m                            Traceback (most recent call last)",
      "\u001b[1;32m~\\Anaconda3\\envs\\smn635\\lib\\site-packages\\IPython\\core\\interactiveshell.py\u001b[0m in \u001b[0;36mshowtraceback\u001b[1;34m(self, exc_tuple, filename, tb_offset, exception_only, running_compiled_code)\u001b[0m\n\u001b[0;32m   2039\u001b[0m                         \u001b[1;31m# in the engines. This should return a list of strings.\u001b[0m\u001b[1;33m\u001b[0m\u001b[1;33m\u001b[0m\u001b[1;33m\u001b[0m\u001b[0m\n\u001b[1;32m-> 2040\u001b[1;33m                         \u001b[0mstb\u001b[0m \u001b[1;33m=\u001b[0m \u001b[0mvalue\u001b[0m\u001b[1;33m.\u001b[0m\u001b[0m_render_traceback_\u001b[0m\u001b[1;33m(\u001b[0m\u001b[1;33m)\u001b[0m\u001b[1;33m\u001b[0m\u001b[1;33m\u001b[0m\u001b[0m\n\u001b[0m\u001b[0;32m   2041\u001b[0m                     \u001b[1;32mexcept\u001b[0m \u001b[0mException\u001b[0m\u001b[1;33m:\u001b[0m\u001b[1;33m\u001b[0m\u001b[1;33m\u001b[0m\u001b[0m\n",
      "\u001b[1;31mAttributeError\u001b[0m: 'KeyboardInterrupt' object has no attribute '_render_traceback_'",
      "\nDuring handling of the above exception, another exception occurred:\n",
      "\u001b[1;31mTypeError\u001b[0m                                 Traceback (most recent call last)",
      "\u001b[1;32m~\\Anaconda3\\envs\\smn635\\lib\\site-packages\\IPython\\core\\interactiveshell.py\u001b[0m in \u001b[0;36mrun_code\u001b[1;34m(self, code_obj, result, async_)\u001b[0m\n\u001b[0;32m   3341\u001b[0m             \u001b[1;32mif\u001b[0m \u001b[0mresult\u001b[0m \u001b[1;32mis\u001b[0m \u001b[1;32mnot\u001b[0m \u001b[1;32mNone\u001b[0m\u001b[1;33m:\u001b[0m\u001b[1;33m\u001b[0m\u001b[1;33m\u001b[0m\u001b[0m\n\u001b[0;32m   3342\u001b[0m                 \u001b[0mresult\u001b[0m\u001b[1;33m.\u001b[0m\u001b[0merror_in_exec\u001b[0m \u001b[1;33m=\u001b[0m \u001b[0msys\u001b[0m\u001b[1;33m.\u001b[0m\u001b[0mexc_info\u001b[0m\u001b[1;33m(\u001b[0m\u001b[1;33m)\u001b[0m\u001b[1;33m[\u001b[0m\u001b[1;36m1\u001b[0m\u001b[1;33m]\u001b[0m\u001b[1;33m\u001b[0m\u001b[1;33m\u001b[0m\u001b[0m\n\u001b[1;32m-> 3343\u001b[1;33m             \u001b[0mself\u001b[0m\u001b[1;33m.\u001b[0m\u001b[0mshowtraceback\u001b[0m\u001b[1;33m(\u001b[0m\u001b[0mrunning_compiled_code\u001b[0m\u001b[1;33m=\u001b[0m\u001b[1;32mTrue\u001b[0m\u001b[1;33m)\u001b[0m\u001b[1;33m\u001b[0m\u001b[1;33m\u001b[0m\u001b[0m\n\u001b[0m\u001b[0;32m   3344\u001b[0m         \u001b[1;32melse\u001b[0m\u001b[1;33m:\u001b[0m\u001b[1;33m\u001b[0m\u001b[1;33m\u001b[0m\u001b[0m\n\u001b[0;32m   3345\u001b[0m             \u001b[0moutflag\u001b[0m \u001b[1;33m=\u001b[0m \u001b[1;32mFalse\u001b[0m\u001b[1;33m\u001b[0m\u001b[1;33m\u001b[0m\u001b[0m\n",
      "\u001b[1;32m~\\Anaconda3\\envs\\smn635\\lib\\site-packages\\IPython\\core\\interactiveshell.py\u001b[0m in \u001b[0;36mshowtraceback\u001b[1;34m(self, exc_tuple, filename, tb_offset, exception_only, running_compiled_code)\u001b[0m\n\u001b[0;32m   2041\u001b[0m                     \u001b[1;32mexcept\u001b[0m \u001b[0mException\u001b[0m\u001b[1;33m:\u001b[0m\u001b[1;33m\u001b[0m\u001b[1;33m\u001b[0m\u001b[0m\n\u001b[0;32m   2042\u001b[0m                         stb = self.InteractiveTB.structured_traceback(etype,\n\u001b[1;32m-> 2043\u001b[1;33m                                             value, tb, tb_offset=tb_offset)\n\u001b[0m\u001b[0;32m   2044\u001b[0m \u001b[1;33m\u001b[0m\u001b[0m\n\u001b[0;32m   2045\u001b[0m                     \u001b[0mself\u001b[0m\u001b[1;33m.\u001b[0m\u001b[0m_showtraceback\u001b[0m\u001b[1;33m(\u001b[0m\u001b[0metype\u001b[0m\u001b[1;33m,\u001b[0m \u001b[0mvalue\u001b[0m\u001b[1;33m,\u001b[0m \u001b[0mstb\u001b[0m\u001b[1;33m)\u001b[0m\u001b[1;33m\u001b[0m\u001b[1;33m\u001b[0m\u001b[0m\n",
      "\u001b[1;32m~\\Anaconda3\\envs\\smn635\\lib\\site-packages\\IPython\\core\\ultratb.py\u001b[0m in \u001b[0;36mstructured_traceback\u001b[1;34m(self, etype, value, tb, tb_offset, number_of_lines_of_context)\u001b[0m\n\u001b[0;32m   1383\u001b[0m         \u001b[0mself\u001b[0m\u001b[1;33m.\u001b[0m\u001b[0mtb\u001b[0m \u001b[1;33m=\u001b[0m \u001b[0mtb\u001b[0m\u001b[1;33m\u001b[0m\u001b[1;33m\u001b[0m\u001b[0m\n\u001b[0;32m   1384\u001b[0m         return FormattedTB.structured_traceback(\n\u001b[1;32m-> 1385\u001b[1;33m             self, etype, value, tb, tb_offset, number_of_lines_of_context)\n\u001b[0m\u001b[0;32m   1386\u001b[0m \u001b[1;33m\u001b[0m\u001b[0m\n\u001b[0;32m   1387\u001b[0m \u001b[1;33m\u001b[0m\u001b[0m\n",
      "\u001b[1;32m~\\Anaconda3\\envs\\smn635\\lib\\site-packages\\IPython\\core\\ultratb.py\u001b[0m in \u001b[0;36mstructured_traceback\u001b[1;34m(self, etype, value, tb, tb_offset, number_of_lines_of_context)\u001b[0m\n\u001b[0;32m   1286\u001b[0m             \u001b[1;31m# Verbose modes need a full traceback\u001b[0m\u001b[1;33m\u001b[0m\u001b[1;33m\u001b[0m\u001b[1;33m\u001b[0m\u001b[0m\n\u001b[0;32m   1287\u001b[0m             return VerboseTB.structured_traceback(\n\u001b[1;32m-> 1288\u001b[1;33m                 \u001b[0mself\u001b[0m\u001b[1;33m,\u001b[0m \u001b[0metype\u001b[0m\u001b[1;33m,\u001b[0m \u001b[0mvalue\u001b[0m\u001b[1;33m,\u001b[0m \u001b[0mtb\u001b[0m\u001b[1;33m,\u001b[0m \u001b[0mtb_offset\u001b[0m\u001b[1;33m,\u001b[0m \u001b[0mnumber_of_lines_of_context\u001b[0m\u001b[1;33m\u001b[0m\u001b[1;33m\u001b[0m\u001b[0m\n\u001b[0m\u001b[0;32m   1289\u001b[0m             )\n\u001b[0;32m   1290\u001b[0m         \u001b[1;32melif\u001b[0m \u001b[0mmode\u001b[0m \u001b[1;33m==\u001b[0m \u001b[1;34m'Minimal'\u001b[0m\u001b[1;33m:\u001b[0m\u001b[1;33m\u001b[0m\u001b[1;33m\u001b[0m\u001b[0m\n",
      "\u001b[1;32m~\\Anaconda3\\envs\\smn635\\lib\\site-packages\\IPython\\core\\ultratb.py\u001b[0m in \u001b[0;36mstructured_traceback\u001b[1;34m(self, etype, evalue, etb, tb_offset, number_of_lines_of_context)\u001b[0m\n\u001b[0;32m   1148\u001b[0m         \u001b[0mexception\u001b[0m \u001b[1;33m=\u001b[0m \u001b[0mself\u001b[0m\u001b[1;33m.\u001b[0m\u001b[0mget_parts_of_chained_exception\u001b[0m\u001b[1;33m(\u001b[0m\u001b[0mevalue\u001b[0m\u001b[1;33m)\u001b[0m\u001b[1;33m\u001b[0m\u001b[1;33m\u001b[0m\u001b[0m\n\u001b[0;32m   1149\u001b[0m         \u001b[1;32mif\u001b[0m \u001b[0mexception\u001b[0m\u001b[1;33m:\u001b[0m\u001b[1;33m\u001b[0m\u001b[1;33m\u001b[0m\u001b[0m\n\u001b[1;32m-> 1150\u001b[1;33m             \u001b[0mformatted_exceptions\u001b[0m \u001b[1;33m+=\u001b[0m \u001b[0mself\u001b[0m\u001b[1;33m.\u001b[0m\u001b[0mprepare_chained_exception_message\u001b[0m\u001b[1;33m(\u001b[0m\u001b[0mevalue\u001b[0m\u001b[1;33m.\u001b[0m\u001b[0m__cause__\u001b[0m\u001b[1;33m)\u001b[0m\u001b[1;33m\u001b[0m\u001b[1;33m\u001b[0m\u001b[0m\n\u001b[0m\u001b[0;32m   1151\u001b[0m             \u001b[0metype\u001b[0m\u001b[1;33m,\u001b[0m \u001b[0mevalue\u001b[0m\u001b[1;33m,\u001b[0m \u001b[0metb\u001b[0m \u001b[1;33m=\u001b[0m \u001b[0mexception\u001b[0m\u001b[1;33m\u001b[0m\u001b[1;33m\u001b[0m\u001b[0m\n\u001b[0;32m   1152\u001b[0m         \u001b[1;32melse\u001b[0m\u001b[1;33m:\u001b[0m\u001b[1;33m\u001b[0m\u001b[1;33m\u001b[0m\u001b[0m\n",
      "\u001b[1;31mTypeError\u001b[0m: can only concatenate str (not \"list\") to str"
     ]
    }
   ],
   "source": []
  },
  {
   "cell_type": "code",
   "execution_count": 443,
   "metadata": {
    "ExecuteTime": {
     "end_time": "2019-11-09T16:50:40.862559Z",
     "start_time": "2019-11-09T16:50:40.695936Z"
    }
   },
   "outputs": [
    {
     "ename": "ValueError",
     "evalue": "could not convert string to float: '12.90 - 169.95'",
     "output_type": "error",
     "traceback": [
      "\u001b[1;31m---------------------------------------------------------------------------\u001b[0m",
      "\u001b[1;31mValueError\u001b[0m                                Traceback (most recent call last)",
      "\u001b[1;32m<ipython-input-443-af04b1c23784>\u001b[0m in \u001b[0;36m<module>\u001b[1;34m\u001b[0m\n\u001b[0;32m      1\u001b[0m \u001b[1;31m## convert string to float\u001b[0m\u001b[1;33m\u001b[0m\u001b[1;33m\u001b[0m\u001b[1;33m\u001b[0m\u001b[0m\n\u001b[1;32m----> 2\u001b[1;33m \u001b[0mab_merged_non\u001b[0m\u001b[1;33m[\u001b[0m\u001b[1;34m'price'\u001b[0m\u001b[1;33m]\u001b[0m \u001b[1;33m=\u001b[0m \u001b[0mab_merged_non\u001b[0m\u001b[1;33m[\u001b[0m\u001b[1;34m'price'\u001b[0m\u001b[1;33m]\u001b[0m\u001b[1;33m.\u001b[0m\u001b[0mapply\u001b[0m\u001b[1;33m(\u001b[0m\u001b[0mconver_currency\u001b[0m\u001b[1;33m)\u001b[0m\u001b[1;33m\u001b[0m\u001b[1;33m\u001b[0m\u001b[0m\n\u001b[0m\u001b[0;32m      3\u001b[0m \u001b[0mlb_merged_non\u001b[0m\u001b[1;33m[\u001b[0m\u001b[1;34m'price'\u001b[0m\u001b[1;33m]\u001b[0m \u001b[1;33m=\u001b[0m \u001b[0mlb_merged_non\u001b[0m\u001b[1;33m[\u001b[0m\u001b[1;34m'price'\u001b[0m\u001b[1;33m]\u001b[0m\u001b[1;33m.\u001b[0m\u001b[0mapply\u001b[0m\u001b[1;33m(\u001b[0m\u001b[0mconver_currency\u001b[0m\u001b[1;33m)\u001b[0m\u001b[1;33m\u001b[0m\u001b[1;33m\u001b[0m\u001b[0m\n",
      "\u001b[1;32m~\\Anaconda3\\envs\\smn635\\lib\\site-packages\\pandas\\core\\series.py\u001b[0m in \u001b[0;36mapply\u001b[1;34m(self, func, convert_dtype, args, **kwds)\u001b[0m\n\u001b[0;32m   4040\u001b[0m             \u001b[1;32melse\u001b[0m\u001b[1;33m:\u001b[0m\u001b[1;33m\u001b[0m\u001b[1;33m\u001b[0m\u001b[0m\n\u001b[0;32m   4041\u001b[0m                 \u001b[0mvalues\u001b[0m \u001b[1;33m=\u001b[0m \u001b[0mself\u001b[0m\u001b[1;33m.\u001b[0m\u001b[0mastype\u001b[0m\u001b[1;33m(\u001b[0m\u001b[0mobject\u001b[0m\u001b[1;33m)\u001b[0m\u001b[1;33m.\u001b[0m\u001b[0mvalues\u001b[0m\u001b[1;33m\u001b[0m\u001b[1;33m\u001b[0m\u001b[0m\n\u001b[1;32m-> 4042\u001b[1;33m                 \u001b[0mmapped\u001b[0m \u001b[1;33m=\u001b[0m \u001b[0mlib\u001b[0m\u001b[1;33m.\u001b[0m\u001b[0mmap_infer\u001b[0m\u001b[1;33m(\u001b[0m\u001b[0mvalues\u001b[0m\u001b[1;33m,\u001b[0m \u001b[0mf\u001b[0m\u001b[1;33m,\u001b[0m \u001b[0mconvert\u001b[0m\u001b[1;33m=\u001b[0m\u001b[0mconvert_dtype\u001b[0m\u001b[1;33m)\u001b[0m\u001b[1;33m\u001b[0m\u001b[1;33m\u001b[0m\u001b[0m\n\u001b[0m\u001b[0;32m   4043\u001b[0m \u001b[1;33m\u001b[0m\u001b[0m\n\u001b[0;32m   4044\u001b[0m         \u001b[1;32mif\u001b[0m \u001b[0mlen\u001b[0m\u001b[1;33m(\u001b[0m\u001b[0mmapped\u001b[0m\u001b[1;33m)\u001b[0m \u001b[1;32mand\u001b[0m \u001b[0misinstance\u001b[0m\u001b[1;33m(\u001b[0m\u001b[0mmapped\u001b[0m\u001b[1;33m[\u001b[0m\u001b[1;36m0\u001b[0m\u001b[1;33m]\u001b[0m\u001b[1;33m,\u001b[0m \u001b[0mSeries\u001b[0m\u001b[1;33m)\u001b[0m\u001b[1;33m:\u001b[0m\u001b[1;33m\u001b[0m\u001b[1;33m\u001b[0m\u001b[0m\n",
      "\u001b[1;32mpandas\\_libs\\lib.pyx\u001b[0m in \u001b[0;36mpandas._libs.lib.map_infer\u001b[1;34m()\u001b[0m\n",
      "\u001b[1;32m<ipython-input-442-45c74887c96f>\u001b[0m in \u001b[0;36mconver_currency\u001b[1;34m(value)\u001b[0m\n\u001b[0;32m     13\u001b[0m     \"\"\"\n\u001b[0;32m     14\u001b[0m     \u001b[0mnew_value\u001b[0m \u001b[1;33m=\u001b[0m \u001b[0mvalue\u001b[0m\u001b[1;33m.\u001b[0m\u001b[0mreplace\u001b[0m\u001b[1;33m(\u001b[0m\u001b[1;34m','\u001b[0m\u001b[1;33m,\u001b[0m\u001b[1;34m''\u001b[0m\u001b[1;33m)\u001b[0m\u001b[1;33m.\u001b[0m\u001b[0mreplace\u001b[0m\u001b[1;33m(\u001b[0m\u001b[1;34m'$'\u001b[0m\u001b[1;33m,\u001b[0m\u001b[1;34m''\u001b[0m\u001b[1;33m)\u001b[0m\u001b[1;33m\u001b[0m\u001b[1;33m\u001b[0m\u001b[0m\n\u001b[1;32m---> 15\u001b[1;33m     \u001b[1;32mreturn\u001b[0m \u001b[0mnp\u001b[0m\u001b[1;33m.\u001b[0m\u001b[0mfloat\u001b[0m\u001b[1;33m(\u001b[0m\u001b[0mnew_value\u001b[0m\u001b[1;33m)\u001b[0m\u001b[1;33m\u001b[0m\u001b[1;33m\u001b[0m\u001b[0m\n\u001b[0m\u001b[0;32m     16\u001b[0m \u001b[1;33m\u001b[0m\u001b[0m\n\u001b[0;32m     17\u001b[0m \u001b[1;32mdef\u001b[0m \u001b[0mto_float\u001b[0m\u001b[1;33m(\u001b[0m\u001b[0mx\u001b[0m\u001b[1;33m)\u001b[0m\u001b[1;33m:\u001b[0m\u001b[1;33m\u001b[0m\u001b[1;33m\u001b[0m\u001b[0m\n",
      "\u001b[1;31mValueError\u001b[0m: could not convert string to float: '12.90 - 169.95'"
     ]
    }
   ],
   "source": [
    "## convert string to float\n",
    "ab_merged_non['price'] = ab_merged_non['price'].apply(conver_currency)\n",
    "lb_merged_non['price'] = lb_merged_non['price'].apply(conver_currency)\n",
    "\n",
    "# Due to one of the lines having a range in price, namely '12.90 - 169.95', the function skips this value\n",
    "## Maybe we can try to drop these values"
   ]
  },
  {
   "cell_type": "markdown",
   "metadata": {},
   "source": [
    "## extract products that have reviews over 6 months"
   ]
  },
  {
   "cell_type": "code",
   "execution_count": 444,
   "metadata": {
    "ExecuteTime": {
     "end_time": "2019-11-09T16:50:45.258265Z",
     "start_time": "2019-11-09T16:50:42.149969Z"
    }
   },
   "outputs": [],
   "source": [
    "# Find the lastest date\n",
    "lb_edate = min(lb_merged_non['DatetimeIndex'])\n",
    "lb_ldate = max(lb_merged_non['DatetimeIndex'])\n",
    "lb_threshold = lb_ldate - datetime.timedelta(days=180)\n",
    "ab_edate = min(ab_merged_non['DatetimeIndex'])\n",
    "ab_ldate = max(ab_merged_non['DatetimeIndex'])\n",
    "ab_threshold = ab_ldate - datetime.timedelta(days=180)"
   ]
  },
  {
   "cell_type": "code",
   "execution_count": 445,
   "metadata": {
    "ExecuteTime": {
     "end_time": "2019-11-09T16:50:46.029760Z",
     "start_time": "2019-11-09T16:50:45.800742Z"
    }
   },
   "outputs": [],
   "source": [
    "# creat start_date and end_date column \n",
    "ab_sdate = ab_merged_non.groupby(by=['asin'], as_index=False)['DatetimeIndex'].min()\n",
    "ab_sdate.rename(columns={'DatetimeIndex': 'start_date'}, inplace=True)\n",
    "lb_sdate = lb_merged_non.groupby(by=['asin'], as_index=False)['DatetimeIndex'].min()\n",
    "lb_sdate.rename(columns={'DatetimeIndex': 'start_date'}, inplace=True)"
   ]
  },
  {
   "cell_type": "code",
   "execution_count": null,
   "metadata": {
    "ExecuteTime": {
     "end_time": "2019-11-09T17:28:40.136174Z",
     "start_time": "2019-11-09T17:26:56.870Z"
    }
   },
   "outputs": [],
   "source": [
    "# Defining and applying 6 months time span\n",
    "cal_6months = lambda x: (x+ datetime.timedelta(days=180))\n",
    "ab_sdate['end_date'] = ab_sdate['start_date'].apply(cal_6months)\n",
    "lb_sdate['end_date'] = lb_sdate['start_date'].apply(cal_6months)"
   ]
  },
  {
   "cell_type": "code",
   "execution_count": 447,
   "metadata": {
    "ExecuteTime": {
     "end_time": "2019-11-09T16:50:48.126427Z",
     "start_time": "2019-11-09T16:50:47.332769Z"
    }
   },
   "outputs": [],
   "source": [
    "# merge the dataframe \n",
    "df_lb = pd.merge(lb_merged_non, lb_sdate, how='inner', on ='asin')\n",
    "df_ab = pd.merge(ab_merged_non, ab_sdate, how='inner', on ='asin')"
   ]
  },
  {
   "cell_type": "code",
   "execution_count": 448,
   "metadata": {
    "ExecuteTime": {
     "end_time": "2019-11-09T16:50:49.695144Z",
     "start_time": "2019-11-09T16:50:49.112278Z"
    }
   },
   "outputs": [],
   "source": [
    "# Exclude products whose first score has been posted by less than six months\n",
    "df_lb = df_lb[df_lb['start_date'] < lb_threshold]\n",
    "df_ab = df_ab[df_ab['start_date'] < ab_threshold]"
   ]
  },
  {
   "cell_type": "code",
   "execution_count": 449,
   "metadata": {
    "ExecuteTime": {
     "end_time": "2019-11-09T16:50:50.565399Z",
     "start_time": "2019-11-09T16:50:50.460606Z"
    }
   },
   "outputs": [],
   "source": [
    "# the very first reviews up to six months later\n",
    "df_lb = df_lb[df_lb['DatetimeIndex'] < df_lb['end_date']]\n",
    "df_ab = df_ab[df_ab['DatetimeIndex'] < df_ab['end_date']]\n"
   ]
  },
  {
   "cell_type": "code",
   "execution_count": 450,
   "metadata": {
    "ExecuteTime": {
     "end_time": "2019-11-09T16:50:51.624951Z",
     "start_time": "2019-11-09T16:50:51.058532Z"
    }
   },
   "outputs": [],
   "source": [
    "# Calculate difference in days between first and last review of each product\n",
    "df_lb['#Days'] = df_lb['DatetimeIndex'] - df_lb['start_date']\n",
    "df_lb['#Days'] = df_lb['#Days'].apply(lambda x: x.days)\n",
    "df_ab['#Days'] = df_ab['DatetimeIndex'] - df_ab['start_date']\n",
    "df_ab['#Days'] = df_ab['#Days'].apply(lambda x: x.days)"
   ]
  },
  {
   "cell_type": "code",
   "execution_count": 451,
   "metadata": {
    "ExecuteTime": {
     "end_time": "2019-11-09T16:50:52.856630Z",
     "start_time": "2019-11-09T16:50:52.125287Z"
    }
   },
   "outputs": [],
   "source": [
    "#Max date within 6 months\n",
    "series_lb = df_lb.groupby(by=['asin'], as_index=False)['DatetimeIndex'].max()\n",
    "series_lb.rename(columns={'DatetimeIndex': 'last_review'}, inplace=True)\n",
    "series_ab = df_ab.groupby(by=['asin'], as_index=False)['DatetimeIndex'].max()\n",
    "series_ab.rename(columns={'DatetimeIndex': 'last_review'}, inplace=True)\n",
    "\n",
    "df_lb = pd.merge(df_lb, series_lb, how='inner', on ='asin')\n",
    "df_ab = pd.merge(df_ab, series_ab, how='inner', on ='asin')\n",
    "\n",
    "# calculate between first review and last reviws\n",
    "df_lb['review_gap'] = df_lb['last_review'] - df_lb['start_date']\n",
    "df_lb['review_gap'] = df_lb['review_gap'].apply(lambda x: x.days)\n",
    "df_ab['review_gap'] = df_ab['last_review'] - df_ab['start_date']\n",
    "df_ab['review_gap'] = df_ab['review_gap'].apply(lambda x: x.days)"
   ]
  },
  {
   "cell_type": "code",
   "execution_count": 454,
   "metadata": {
    "ExecuteTime": {
     "end_time": "2019-11-09T16:50:54.777585Z",
     "start_time": "2019-11-09T16:50:54.672108Z"
    }
   },
   "outputs": [],
   "source": [
    "#dataset for plot 4\n",
    "df4_lb=pd.DataFrame(df_lb.groupby(by=['asin','review_gap'],as_index=False)['overall'].count())\n",
    "df4_ab=pd.DataFrame(df_ab.groupby(by=['asin','review_gap'],as_index=False)['overall'].count())"
   ]
  },
  {
   "cell_type": "code",
   "execution_count": 455,
   "metadata": {
    "ExecuteTime": {
     "end_time": "2019-11-09T16:50:55.336215Z",
     "start_time": "2019-11-09T16:50:55.301049Z"
    }
   },
   "outputs": [],
   "source": [
    "# Calculate average pace based on the gap between first and last review and number of reviews in that period\n",
    "df4_lb['average pace']=df4_lb['review_gap']/df4_lb['overall']\n",
    "df4_ab['average pace']=df4_ab['review_gap']/df4_ab['overall']\n",
    "# Round average pace in order to group the data for the average trend line\n",
    "df4_lb['round avg pace'] = df4_lb['average pace'].round()\n",
    "df4_ab['round avg pace'] = df4_ab['average pace'].round()\n",
    "df4_lb_avg = pd.DataFrame(df4_lb.groupby(by=['round avg pace'], as_index=False)['overall'].aggregate(np.sum))\n",
    "df4_ab_avg = pd.DataFrame(df4_ab.groupby(by=['round avg pace'], as_index=False)['overall'].aggregate(np.sum))\n",
    "# Temporary Dataframe\n",
    "df4_lb_com = df4_lb.groupby(by=['round avg pace'], as_index=False)['overall'].count()\n",
    "df4_ab_com = df4_ab.groupby(by=['round avg pace'], as_index=False)['overall'].count()\n",
    "# Convert int to float\n",
    "df4_lb_avg['round avg pace'] = df4_lb_avg['round avg pace'].apply(to_float)\n",
    "df4_ab_avg['round avg pace'] = df4_ab_avg['round avg pace'].apply(to_float)"
   ]
  },
  {
   "cell_type": "code",
   "execution_count": 481,
   "metadata": {
    "ExecuteTime": {
     "end_time": "2019-11-09T16:52:51.022741Z",
     "start_time": "2019-11-09T16:52:51.009791Z"
    }
   },
   "outputs": [
    {
     "data": {
      "text/html": [
       "<div>\n",
       "<style scoped>\n",
       "    .dataframe tbody tr th:only-of-type {\n",
       "        vertical-align: middle;\n",
       "    }\n",
       "\n",
       "    .dataframe tbody tr th {\n",
       "        vertical-align: top;\n",
       "    }\n",
       "\n",
       "    .dataframe thead th {\n",
       "        text-align: right;\n",
       "    }\n",
       "</style>\n",
       "<table border=\"1\" class=\"dataframe\">\n",
       "  <thead>\n",
       "    <tr style=\"text-align: right;\">\n",
       "      <th></th>\n",
       "      <th>round avg pace</th>\n",
       "      <th>overall</th>\n",
       "    </tr>\n",
       "  </thead>\n",
       "  <tbody>\n",
       "    <tr>\n",
       "      <td>0</td>\n",
       "      <td>0.0</td>\n",
       "      <td>6441</td>\n",
       "    </tr>\n",
       "    <tr>\n",
       "      <td>1</td>\n",
       "      <td>1.0</td>\n",
       "      <td>28</td>\n",
       "    </tr>\n",
       "    <tr>\n",
       "      <td>2</td>\n",
       "      <td>2.0</td>\n",
       "      <td>52</td>\n",
       "    </tr>\n",
       "    <tr>\n",
       "      <td>3</td>\n",
       "      <td>3.0</td>\n",
       "      <td>46</td>\n",
       "    </tr>\n",
       "    <tr>\n",
       "      <td>4</td>\n",
       "      <td>4.0</td>\n",
       "      <td>71</td>\n",
       "    </tr>\n",
       "    <tr>\n",
       "      <td>...</td>\n",
       "      <td>...</td>\n",
       "      <td>...</td>\n",
       "    </tr>\n",
       "    <tr>\n",
       "      <td>86</td>\n",
       "      <td>86.0</td>\n",
       "      <td>31</td>\n",
       "    </tr>\n",
       "    <tr>\n",
       "      <td>87</td>\n",
       "      <td>87.0</td>\n",
       "      <td>8</td>\n",
       "    </tr>\n",
       "    <tr>\n",
       "      <td>88</td>\n",
       "      <td>88.0</td>\n",
       "      <td>21</td>\n",
       "    </tr>\n",
       "    <tr>\n",
       "      <td>89</td>\n",
       "      <td>89.0</td>\n",
       "      <td>7</td>\n",
       "    </tr>\n",
       "    <tr>\n",
       "      <td>90</td>\n",
       "      <td>90.0</td>\n",
       "      <td>9</td>\n",
       "    </tr>\n",
       "  </tbody>\n",
       "</table>\n",
       "<p>91 rows × 2 columns</p>\n",
       "</div>"
      ],
      "text/plain": [
       "    round avg pace  overall\n",
       "0              0.0     6441\n",
       "1              1.0       28\n",
       "2              2.0       52\n",
       "3              3.0       46\n",
       "4              4.0       71\n",
       "..             ...      ...\n",
       "86            86.0       31\n",
       "87            87.0        8\n",
       "88            88.0       21\n",
       "89            89.0        7\n",
       "90            90.0        9\n",
       "\n",
       "[91 rows x 2 columns]"
      ]
     },
     "execution_count": 481,
     "metadata": {},
     "output_type": "execute_result"
    }
   ],
   "source": [
    "df4_ab_com"
   ]
  },
  {
   "cell_type": "code",
   "execution_count": 457,
   "metadata": {
    "ExecuteTime": {
     "end_time": "2019-11-09T16:50:57.158199Z",
     "start_time": "2019-11-09T16:50:57.151401Z"
    }
   },
   "outputs": [],
   "source": [
    "# Calculate average number of reviews per product to use in showing general trend\n",
    "df4_lb_avg['average count']=df4_lb_avg['overall']/df4_lb_com['overall']\n",
    "df4_ab_avg['average count']=df4_ab_avg['overall']/df4_ab_com['overall']"
   ]
  },
  {
   "cell_type": "code",
   "execution_count": 459,
   "metadata": {
    "ExecuteTime": {
     "end_time": "2019-11-09T16:51:04.615252Z",
     "start_time": "2019-11-09T16:51:04.568379Z"
    }
   },
   "outputs": [],
   "source": [
    "# Calculating number of weeks to use as x axis for visualisation\n",
    "df_lb['#Weeks'] = df_lb['#Days'].apply(lambda x: int(x/7))\n",
    "df_ab['#Weeks'] = df_ab['#Days'].apply(lambda x: int(x/7))"
   ]
  },
  {
   "cell_type": "code",
   "execution_count": 460,
   "metadata": {
    "ExecuteTime": {
     "end_time": "2019-11-09T16:51:05.353430Z",
     "start_time": "2019-11-09T16:51:05.270129Z"
    }
   },
   "outputs": [],
   "source": [
    "# set the datetime as indext\n",
    "df_lb.set_index('DatetimeIndex', inplace=True)\n",
    "df_ab.set_index('DatetimeIndex', inplace=True)\n",
    "# Groupby \n",
    "df_lb_g=pd.DataFrame(df_lb.groupby(['asin','#Weeks'])['overall'].count())\n",
    "df_ab_g=pd.DataFrame(df_ab.groupby(['asin','#Weeks'])['overall'].count())"
   ]
  },
  {
   "cell_type": "code",
   "execution_count": 504,
   "metadata": {
    "ExecuteTime": {
     "end_time": "2019-11-09T17:10:01.467795Z",
     "start_time": "2019-11-09T17:10:01.335149Z"
    }
   },
   "outputs": [
    {
     "data": {
      "text/html": [
       "<div>\n",
       "<style scoped>\n",
       "    .dataframe tbody tr th:only-of-type {\n",
       "        vertical-align: middle;\n",
       "    }\n",
       "\n",
       "    .dataframe tbody tr th {\n",
       "        vertical-align: top;\n",
       "    }\n",
       "\n",
       "    .dataframe thead th {\n",
       "        text-align: right;\n",
       "    }\n",
       "</style>\n",
       "<table border=\"1\" class=\"dataframe\">\n",
       "  <thead>\n",
       "    <tr style=\"text-align: right;\">\n",
       "      <th></th>\n",
       "      <th>overall</th>\n",
       "      <th>verified</th>\n",
       "      <th>reviewTime</th>\n",
       "      <th>reviewerID</th>\n",
       "      <th>asin</th>\n",
       "      <th>unixReviewTime</th>\n",
       "      <th>style</th>\n",
       "      <th>title</th>\n",
       "      <th>also_buy</th>\n",
       "      <th>rank</th>\n",
       "      <th>...</th>\n",
       "      <th>main_cat</th>\n",
       "      <th>price</th>\n",
       "      <th>brand</th>\n",
       "      <th>feature</th>\n",
       "      <th>start_date</th>\n",
       "      <th>end_date</th>\n",
       "      <th>#Days</th>\n",
       "      <th>last_review</th>\n",
       "      <th>review_gap</th>\n",
       "      <th>#Weeks</th>\n",
       "    </tr>\n",
       "    <tr>\n",
       "      <th>DatetimeIndex</th>\n",
       "      <th></th>\n",
       "      <th></th>\n",
       "      <th></th>\n",
       "      <th></th>\n",
       "      <th></th>\n",
       "      <th></th>\n",
       "      <th></th>\n",
       "      <th></th>\n",
       "      <th></th>\n",
       "      <th></th>\n",
       "      <th></th>\n",
       "      <th></th>\n",
       "      <th></th>\n",
       "      <th></th>\n",
       "      <th></th>\n",
       "      <th></th>\n",
       "      <th></th>\n",
       "      <th></th>\n",
       "      <th></th>\n",
       "      <th></th>\n",
       "      <th></th>\n",
       "    </tr>\n",
       "  </thead>\n",
       "  <tbody>\n",
       "    <tr>\n",
       "      <td>2010-06-15</td>\n",
       "      <td>2.0</td>\n",
       "      <td>True</td>\n",
       "      <td>06 15, 2010</td>\n",
       "      <td>A1Q6MUU0B2ZDQG</td>\n",
       "      <td>B00004U9V2</td>\n",
       "      <td>1276560000</td>\n",
       "      <td>NaN</td>\n",
       "      <td>Crabtree &amp; Evelyn - Gardener's Ultra-Moisturis...</td>\n",
       "      <td>[B00GHX7H0A, B00FRERO7G, B00R68QXCS, B000Z65AZ...</td>\n",
       "      <td>4,324inBeautyPersonalCare(</td>\n",
       "      <td>...</td>\n",
       "      <td>Luxury Beauty</td>\n",
       "      <td>$30.00</td>\n",
       "      <td>No brand</td>\n",
       "      <td>NaN</td>\n",
       "      <td>2010-01-07</td>\n",
       "      <td>2010-07-06</td>\n",
       "      <td>159</td>\n",
       "      <td>2010-06-15</td>\n",
       "      <td>159</td>\n",
       "      <td>22</td>\n",
       "    </tr>\n",
       "    <tr>\n",
       "      <td>2010-06-15</td>\n",
       "      <td>2.0</td>\n",
       "      <td>True</td>\n",
       "      <td>06 15, 2010</td>\n",
       "      <td>A1Q6MUU0B2ZDQG</td>\n",
       "      <td>B00004U9V2</td>\n",
       "      <td>1276560000</td>\n",
       "      <td>NaN</td>\n",
       "      <td>Crabtree &amp; Evelyn - Gardener's Ultra-Moisturis...</td>\n",
       "      <td>[B00GHX7H0A, B00FRERO7G, B00R68QXCS, B000Z65AZ...</td>\n",
       "      <td>4,324inBeautyPersonalCare(</td>\n",
       "      <td>...</td>\n",
       "      <td>Luxury Beauty</td>\n",
       "      <td>$30.00</td>\n",
       "      <td>No brand</td>\n",
       "      <td>NaN</td>\n",
       "      <td>2010-01-07</td>\n",
       "      <td>2010-07-06</td>\n",
       "      <td>159</td>\n",
       "      <td>2010-06-15</td>\n",
       "      <td>159</td>\n",
       "      <td>22</td>\n",
       "    </tr>\n",
       "    <tr>\n",
       "      <td>2010-01-07</td>\n",
       "      <td>5.0</td>\n",
       "      <td>True</td>\n",
       "      <td>01 7, 2010</td>\n",
       "      <td>A3HO2SQDCZIE9S</td>\n",
       "      <td>B00004U9V2</td>\n",
       "      <td>1262822400</td>\n",
       "      <td>NaN</td>\n",
       "      <td>Crabtree &amp; Evelyn - Gardener's Ultra-Moisturis...</td>\n",
       "      <td>[B00GHX7H0A, B00FRERO7G, B00R68QXCS, B000Z65AZ...</td>\n",
       "      <td>4,324inBeautyPersonalCare(</td>\n",
       "      <td>...</td>\n",
       "      <td>Luxury Beauty</td>\n",
       "      <td>$30.00</td>\n",
       "      <td>No brand</td>\n",
       "      <td>NaN</td>\n",
       "      <td>2010-01-07</td>\n",
       "      <td>2010-07-06</td>\n",
       "      <td>0</td>\n",
       "      <td>2010-06-15</td>\n",
       "      <td>159</td>\n",
       "      <td>0</td>\n",
       "    </tr>\n",
       "    <tr>\n",
       "      <td>2010-01-07</td>\n",
       "      <td>5.0</td>\n",
       "      <td>True</td>\n",
       "      <td>01 7, 2010</td>\n",
       "      <td>A3HO2SQDCZIE9S</td>\n",
       "      <td>B00004U9V2</td>\n",
       "      <td>1262822400</td>\n",
       "      <td>NaN</td>\n",
       "      <td>Crabtree &amp; Evelyn - Gardener's Ultra-Moisturis...</td>\n",
       "      <td>[B00GHX7H0A, B00FRERO7G, B00R68QXCS, B000Z65AZ...</td>\n",
       "      <td>4,324inBeautyPersonalCare(</td>\n",
       "      <td>...</td>\n",
       "      <td>Luxury Beauty</td>\n",
       "      <td>$30.00</td>\n",
       "      <td>No brand</td>\n",
       "      <td>NaN</td>\n",
       "      <td>2010-01-07</td>\n",
       "      <td>2010-07-06</td>\n",
       "      <td>0</td>\n",
       "      <td>2010-06-15</td>\n",
       "      <td>159</td>\n",
       "      <td>0</td>\n",
       "    </tr>\n",
       "    <tr>\n",
       "      <td>2013-04-22</td>\n",
       "      <td>4.0</td>\n",
       "      <td>True</td>\n",
       "      <td>04 22, 2013</td>\n",
       "      <td>A3TXIN5QWZMHCH</td>\n",
       "      <td>B00005A77F</td>\n",
       "      <td>1366588800</td>\n",
       "      <td>NaN</td>\n",
       "      <td>Crabtree &amp; Evelyn Hand Soap, Gardeners, 10.1 f...</td>\n",
       "      <td>NaN</td>\n",
       "      <td>NaN</td>\n",
       "      <td>...</td>\n",
       "      <td>Luxury Beauty</td>\n",
       "      <td>$15.99</td>\n",
       "      <td>No brand</td>\n",
       "      <td>NaN</td>\n",
       "      <td>2012-10-31</td>\n",
       "      <td>2013-04-29</td>\n",
       "      <td>173</td>\n",
       "      <td>2013-04-22</td>\n",
       "      <td>173</td>\n",
       "      <td>24</td>\n",
       "    </tr>\n",
       "    <tr>\n",
       "      <td>...</td>\n",
       "      <td>...</td>\n",
       "      <td>...</td>\n",
       "      <td>...</td>\n",
       "      <td>...</td>\n",
       "      <td>...</td>\n",
       "      <td>...</td>\n",
       "      <td>...</td>\n",
       "      <td>...</td>\n",
       "      <td>...</td>\n",
       "      <td>...</td>\n",
       "      <td>...</td>\n",
       "      <td>...</td>\n",
       "      <td>...</td>\n",
       "      <td>...</td>\n",
       "      <td>...</td>\n",
       "      <td>...</td>\n",
       "      <td>...</td>\n",
       "      <td>...</td>\n",
       "      <td>...</td>\n",
       "      <td>...</td>\n",
       "      <td>...</td>\n",
       "    </tr>\n",
       "    <tr>\n",
       "      <td>2017-07-21</td>\n",
       "      <td>3.0</td>\n",
       "      <td>True</td>\n",
       "      <td>07 21, 2017</td>\n",
       "      <td>A1UKPVDCE6VGN</td>\n",
       "      <td>B01HIIO7Q4</td>\n",
       "      <td>1500595200</td>\n",
       "      <td>{'Size:': ' 1.6 fl. oz.'}</td>\n",
       "      <td>Klorane Conditioner with Pomegranate - Color-T...</td>\n",
       "      <td>[B01KLCQV90, B000A408T4, B002KPE8W4, B01LWLCZZ...</td>\n",
       "      <td>139,076inBeautyPersonalCare(</td>\n",
       "      <td>...</td>\n",
       "      <td>Luxury Beauty</td>\n",
       "      <td>$20.00</td>\n",
       "      <td>No brand</td>\n",
       "      <td>NaN</td>\n",
       "      <td>2017-02-01</td>\n",
       "      <td>2017-07-31</td>\n",
       "      <td>170</td>\n",
       "      <td>2017-07-21</td>\n",
       "      <td>170</td>\n",
       "      <td>24</td>\n",
       "    </tr>\n",
       "    <tr>\n",
       "      <td>2017-04-15</td>\n",
       "      <td>5.0</td>\n",
       "      <td>True</td>\n",
       "      <td>04 15, 2017</td>\n",
       "      <td>AOUIF4QULQVXO</td>\n",
       "      <td>B01HIIO7Q4</td>\n",
       "      <td>1492214400</td>\n",
       "      <td>{'Size:': ' 6.7 fl. oz.'}</td>\n",
       "      <td>Klorane Conditioner with Pomegranate - Color-T...</td>\n",
       "      <td>[B01KLCQV90, B000A408T4, B002KPE8W4, B01LWLCZZ...</td>\n",
       "      <td>139,076inBeautyPersonalCare(</td>\n",
       "      <td>...</td>\n",
       "      <td>Luxury Beauty</td>\n",
       "      <td>$20.00</td>\n",
       "      <td>No brand</td>\n",
       "      <td>NaN</td>\n",
       "      <td>2017-02-01</td>\n",
       "      <td>2017-07-31</td>\n",
       "      <td>73</td>\n",
       "      <td>2017-07-21</td>\n",
       "      <td>170</td>\n",
       "      <td>10</td>\n",
       "    </tr>\n",
       "    <tr>\n",
       "      <td>2017-02-01</td>\n",
       "      <td>3.0</td>\n",
       "      <td>True</td>\n",
       "      <td>02 1, 2017</td>\n",
       "      <td>AY8WT4WMDDUX0</td>\n",
       "      <td>B01HIIO7Q4</td>\n",
       "      <td>1485907200</td>\n",
       "      <td>{'Size:': ' 1.6 fl. oz.'}</td>\n",
       "      <td>Klorane Conditioner with Pomegranate - Color-T...</td>\n",
       "      <td>[B01KLCQV90, B000A408T4, B002KPE8W4, B01LWLCZZ...</td>\n",
       "      <td>139,076inBeautyPersonalCare(</td>\n",
       "      <td>...</td>\n",
       "      <td>Luxury Beauty</td>\n",
       "      <td>$20.00</td>\n",
       "      <td>No brand</td>\n",
       "      <td>NaN</td>\n",
       "      <td>2017-02-01</td>\n",
       "      <td>2017-07-31</td>\n",
       "      <td>0</td>\n",
       "      <td>2017-07-21</td>\n",
       "      <td>170</td>\n",
       "      <td>0</td>\n",
       "    </tr>\n",
       "    <tr>\n",
       "      <td>2016-12-05</td>\n",
       "      <td>1.0</td>\n",
       "      <td>True</td>\n",
       "      <td>12 5, 2016</td>\n",
       "      <td>A23DRCOMC2RIXF</td>\n",
       "      <td>B01HJ2UY0W</td>\n",
       "      <td>1480896000</td>\n",
       "      <td>{'Size:': ' 1.7 Fluid Ounce', 'Color:': ' Multi'}</td>\n",
       "      <td>Juicy Couture I Love Juicy Couture, 1.7 fl. Oz...</td>\n",
       "      <td>NaN</td>\n",
       "      <td>490,755inBeautyPersonalCare(</td>\n",
       "      <td>...</td>\n",
       "      <td>Luxury Beauty</td>\n",
       "      <td>$76.00</td>\n",
       "      <td>No brand</td>\n",
       "      <td>NaN</td>\n",
       "      <td>2016-12-05</td>\n",
       "      <td>2017-06-03</td>\n",
       "      <td>0</td>\n",
       "      <td>2016-12-05</td>\n",
       "      <td>0</td>\n",
       "      <td>0</td>\n",
       "    </tr>\n",
       "    <tr>\n",
       "      <td>2017-01-14</td>\n",
       "      <td>5.0</td>\n",
       "      <td>True</td>\n",
       "      <td>01 14, 2017</td>\n",
       "      <td>AJEDVHTLS9P3V</td>\n",
       "      <td>B01HJ2UY1G</td>\n",
       "      <td>1484352000</td>\n",
       "      <td>{'Size:': ' 3.4 Fluid Ounce', 'Color:': ' Multi'}</td>\n",
       "      <td>Juicy Couture I Love Juicy Couture, 3.4 fl. Oz...</td>\n",
       "      <td>[B071NZZW3K]</td>\n",
       "      <td>181,383inBeautyPersonalCare(</td>\n",
       "      <td>...</td>\n",
       "      <td>Luxury Beauty</td>\n",
       "      <td>$96.00</td>\n",
       "      <td>No brand</td>\n",
       "      <td>NaN</td>\n",
       "      <td>2017-01-14</td>\n",
       "      <td>2017-07-13</td>\n",
       "      <td>0</td>\n",
       "      <td>2017-01-14</td>\n",
       "      <td>0</td>\n",
       "      <td>0</td>\n",
       "    </tr>\n",
       "  </tbody>\n",
       "</table>\n",
       "<p>30266 rows × 21 columns</p>\n",
       "</div>"
      ],
      "text/plain": [
       "               overall  verified   reviewTime      reviewerID        asin  \\\n",
       "DatetimeIndex                                                               \n",
       "2010-06-15         2.0      True  06 15, 2010  A1Q6MUU0B2ZDQG  B00004U9V2   \n",
       "2010-06-15         2.0      True  06 15, 2010  A1Q6MUU0B2ZDQG  B00004U9V2   \n",
       "2010-01-07         5.0      True   01 7, 2010  A3HO2SQDCZIE9S  B00004U9V2   \n",
       "2010-01-07         5.0      True   01 7, 2010  A3HO2SQDCZIE9S  B00004U9V2   \n",
       "2013-04-22         4.0      True  04 22, 2013  A3TXIN5QWZMHCH  B00005A77F   \n",
       "...                ...       ...          ...             ...         ...   \n",
       "2017-07-21         3.0      True  07 21, 2017   A1UKPVDCE6VGN  B01HIIO7Q4   \n",
       "2017-04-15         5.0      True  04 15, 2017   AOUIF4QULQVXO  B01HIIO7Q4   \n",
       "2017-02-01         3.0      True   02 1, 2017   AY8WT4WMDDUX0  B01HIIO7Q4   \n",
       "2016-12-05         1.0      True   12 5, 2016  A23DRCOMC2RIXF  B01HJ2UY0W   \n",
       "2017-01-14         5.0      True  01 14, 2017   AJEDVHTLS9P3V  B01HJ2UY1G   \n",
       "\n",
       "               unixReviewTime  \\\n",
       "DatetimeIndex                   \n",
       "2010-06-15         1276560000   \n",
       "2010-06-15         1276560000   \n",
       "2010-01-07         1262822400   \n",
       "2010-01-07         1262822400   \n",
       "2013-04-22         1366588800   \n",
       "...                       ...   \n",
       "2017-07-21         1500595200   \n",
       "2017-04-15         1492214400   \n",
       "2017-02-01         1485907200   \n",
       "2016-12-05         1480896000   \n",
       "2017-01-14         1484352000   \n",
       "\n",
       "                                                           style  \\\n",
       "DatetimeIndex                                                      \n",
       "2010-06-15                                                   NaN   \n",
       "2010-06-15                                                   NaN   \n",
       "2010-01-07                                                   NaN   \n",
       "2010-01-07                                                   NaN   \n",
       "2013-04-22                                                   NaN   \n",
       "...                                                          ...   \n",
       "2017-07-21                             {'Size:': ' 1.6 fl. oz.'}   \n",
       "2017-04-15                             {'Size:': ' 6.7 fl. oz.'}   \n",
       "2017-02-01                             {'Size:': ' 1.6 fl. oz.'}   \n",
       "2016-12-05     {'Size:': ' 1.7 Fluid Ounce', 'Color:': ' Multi'}   \n",
       "2017-01-14     {'Size:': ' 3.4 Fluid Ounce', 'Color:': ' Multi'}   \n",
       "\n",
       "                                                           title  \\\n",
       "DatetimeIndex                                                      \n",
       "2010-06-15     Crabtree & Evelyn - Gardener's Ultra-Moisturis...   \n",
       "2010-06-15     Crabtree & Evelyn - Gardener's Ultra-Moisturis...   \n",
       "2010-01-07     Crabtree & Evelyn - Gardener's Ultra-Moisturis...   \n",
       "2010-01-07     Crabtree & Evelyn - Gardener's Ultra-Moisturis...   \n",
       "2013-04-22     Crabtree & Evelyn Hand Soap, Gardeners, 10.1 f...   \n",
       "...                                                          ...   \n",
       "2017-07-21     Klorane Conditioner with Pomegranate - Color-T...   \n",
       "2017-04-15     Klorane Conditioner with Pomegranate - Color-T...   \n",
       "2017-02-01     Klorane Conditioner with Pomegranate - Color-T...   \n",
       "2016-12-05     Juicy Couture I Love Juicy Couture, 1.7 fl. Oz...   \n",
       "2017-01-14     Juicy Couture I Love Juicy Couture, 3.4 fl. Oz...   \n",
       "\n",
       "                                                        also_buy  \\\n",
       "DatetimeIndex                                                      \n",
       "2010-06-15     [B00GHX7H0A, B00FRERO7G, B00R68QXCS, B000Z65AZ...   \n",
       "2010-06-15     [B00GHX7H0A, B00FRERO7G, B00R68QXCS, B000Z65AZ...   \n",
       "2010-01-07     [B00GHX7H0A, B00FRERO7G, B00R68QXCS, B000Z65AZ...   \n",
       "2010-01-07     [B00GHX7H0A, B00FRERO7G, B00R68QXCS, B000Z65AZ...   \n",
       "2013-04-22                                                   NaN   \n",
       "...                                                          ...   \n",
       "2017-07-21     [B01KLCQV90, B000A408T4, B002KPE8W4, B01LWLCZZ...   \n",
       "2017-04-15     [B01KLCQV90, B000A408T4, B002KPE8W4, B01LWLCZZ...   \n",
       "2017-02-01     [B01KLCQV90, B000A408T4, B002KPE8W4, B01LWLCZZ...   \n",
       "2016-12-05                                                   NaN   \n",
       "2017-01-14                                          [B071NZZW3K]   \n",
       "\n",
       "                                       rank  ...       main_cat   price  \\\n",
       "DatetimeIndex                                ...                          \n",
       "2010-06-15       4,324inBeautyPersonalCare(  ...  Luxury Beauty  $30.00   \n",
       "2010-06-15       4,324inBeautyPersonalCare(  ...  Luxury Beauty  $30.00   \n",
       "2010-01-07       4,324inBeautyPersonalCare(  ...  Luxury Beauty  $30.00   \n",
       "2010-01-07       4,324inBeautyPersonalCare(  ...  Luxury Beauty  $30.00   \n",
       "2013-04-22                              NaN  ...  Luxury Beauty  $15.99   \n",
       "...                                     ...  ...            ...     ...   \n",
       "2017-07-21     139,076inBeautyPersonalCare(  ...  Luxury Beauty  $20.00   \n",
       "2017-04-15     139,076inBeautyPersonalCare(  ...  Luxury Beauty  $20.00   \n",
       "2017-02-01     139,076inBeautyPersonalCare(  ...  Luxury Beauty  $20.00   \n",
       "2016-12-05     490,755inBeautyPersonalCare(  ...  Luxury Beauty  $76.00   \n",
       "2017-01-14     181,383inBeautyPersonalCare(  ...  Luxury Beauty  $96.00   \n",
       "\n",
       "                  brand feature start_date   end_date #Days  last_review  \\\n",
       "DatetimeIndex                                                              \n",
       "2010-06-15     No brand     NaN 2010-01-07 2010-07-06   159   2010-06-15   \n",
       "2010-06-15     No brand     NaN 2010-01-07 2010-07-06   159   2010-06-15   \n",
       "2010-01-07     No brand     NaN 2010-01-07 2010-07-06     0   2010-06-15   \n",
       "2010-01-07     No brand     NaN 2010-01-07 2010-07-06     0   2010-06-15   \n",
       "2013-04-22     No brand     NaN 2012-10-31 2013-04-29   173   2013-04-22   \n",
       "...                 ...     ...        ...        ...   ...          ...   \n",
       "2017-07-21     No brand     NaN 2017-02-01 2017-07-31   170   2017-07-21   \n",
       "2017-04-15     No brand     NaN 2017-02-01 2017-07-31    73   2017-07-21   \n",
       "2017-02-01     No brand     NaN 2017-02-01 2017-07-31     0   2017-07-21   \n",
       "2016-12-05     No brand     NaN 2016-12-05 2017-06-03     0   2016-12-05   \n",
       "2017-01-14     No brand     NaN 2017-01-14 2017-07-13     0   2017-01-14   \n",
       "\n",
       "              review_gap  #Weeks  \n",
       "DatetimeIndex                     \n",
       "2010-06-15           159      22  \n",
       "2010-06-15           159      22  \n",
       "2010-01-07           159       0  \n",
       "2010-01-07           159       0  \n",
       "2013-04-22           173      24  \n",
       "...                  ...     ...  \n",
       "2017-07-21           170      24  \n",
       "2017-04-15           170      10  \n",
       "2017-02-01           170       0  \n",
       "2016-12-05             0       0  \n",
       "2017-01-14             0       0  \n",
       "\n",
       "[30266 rows x 21 columns]"
      ]
     },
     "execution_count": 504,
     "metadata": {},
     "output_type": "execute_result"
    }
   ],
   "source": [
    "# Fill NaN with 0 and then replace with 'No brand'\n",
    "df_ab['brand']=df_ab['brand'].fillna(value= 0)\n",
    "df_lb['brand']=df_lb['brand'].fillna(value= 0)\n",
    "df_ab['brand']=df_ab['brand'].replace(0, 'No brand')\n",
    "df_lb['brand']=df_lb['brand'].replace(0, 'No brand')\n",
    "df_lb"
   ]
  },
  {
   "cell_type": "code",
   "execution_count": 506,
   "metadata": {
    "ExecuteTime": {
     "end_time": "2019-11-09T17:10:27.997550Z",
     "start_time": "2019-11-09T17:10:27.964127Z"
    }
   },
   "outputs": [
    {
     "data": {
      "text/html": [
       "<div>\n",
       "<style scoped>\n",
       "    .dataframe tbody tr th:only-of-type {\n",
       "        vertical-align: middle;\n",
       "    }\n",
       "\n",
       "    .dataframe tbody tr th {\n",
       "        vertical-align: top;\n",
       "    }\n",
       "\n",
       "    .dataframe thead th {\n",
       "        text-align: right;\n",
       "    }\n",
       "</style>\n",
       "<table border=\"1\" class=\"dataframe\">\n",
       "  <thead>\n",
       "    <tr style=\"text-align: right;\">\n",
       "      <th></th>\n",
       "      <th>overall</th>\n",
       "    </tr>\n",
       "    <tr>\n",
       "      <th>brand</th>\n",
       "      <th></th>\n",
       "    </tr>\n",
       "  </thead>\n",
       "  <tbody>\n",
       "    <tr>\n",
       "      <td>No brand</td>\n",
       "      <td>7905</td>\n",
       "    </tr>\n",
       "    <tr>\n",
       "      <td>Italia-Deluxe</td>\n",
       "      <td>502</td>\n",
       "    </tr>\n",
       "    <tr>\n",
       "      <td>VAGA</td>\n",
       "      <td>447</td>\n",
       "    </tr>\n",
       "    <tr>\n",
       "      <td>OZ Naturals</td>\n",
       "      <td>290</td>\n",
       "    </tr>\n",
       "    <tr>\n",
       "      <td>TOULON</td>\n",
       "      <td>256</td>\n",
       "    </tr>\n",
       "    <tr>\n",
       "      <td>...</td>\n",
       "      <td>...</td>\n",
       "    </tr>\n",
       "    <tr>\n",
       "      <td>Mott's</td>\n",
       "      <td>1</td>\n",
       "    </tr>\n",
       "    <tr>\n",
       "      <td>MothPro</td>\n",
       "      <td>1</td>\n",
       "    </tr>\n",
       "    <tr>\n",
       "      <td>Mosbeau</td>\n",
       "      <td>1</td>\n",
       "    </tr>\n",
       "    <tr>\n",
       "      <td>Morris</td>\n",
       "      <td>1</td>\n",
       "    </tr>\n",
       "    <tr>\n",
       "      <td>-417</td>\n",
       "      <td>1</td>\n",
       "    </tr>\n",
       "  </tbody>\n",
       "</table>\n",
       "<p>4046 rows × 1 columns</p>\n",
       "</div>"
      ],
      "text/plain": [
       "               overall\n",
       "brand                 \n",
       "No brand          7905\n",
       "Italia-Deluxe      502\n",
       "VAGA               447\n",
       "OZ Naturals        290\n",
       "TOULON             256\n",
       "...                ...\n",
       "Mott's               1\n",
       "MothPro              1\n",
       "Mosbeau              1\n",
       "Morris               1\n",
       "-417                 1\n",
       "\n",
       "[4046 rows x 1 columns]"
      ]
     },
     "execution_count": 506,
     "metadata": {},
     "output_type": "execute_result"
    }
   ],
   "source": [
    "# Create a new dataframe which measures the strength of each brand, namely number of reviews per brand\n",
    "lb_brand=pd.DataFrame(df_lb.groupby(['brand','asin'])['overall'].count())\n",
    "ab_brand=pd.DataFrame(df_ab.groupby(['brand','asin'])['overall'].count())\n",
    "lb_brand = lb_brand.sort_values(by='overall', ascending=False)\n",
    "ab_brand = ab_brand.sort_values(by='overall', ascending=False)\n",
    "ab_brand"
   ]
  },
  {
   "cell_type": "code",
   "execution_count": 463,
   "metadata": {
    "ExecuteTime": {
     "end_time": "2019-11-09T16:51:07.348788Z",
     "start_time": "2019-11-09T16:51:07.332803Z"
    }
   },
   "outputs": [],
   "source": [
    "#Reset index\n",
    "df_lb_g.reset_index(inplace=True)\n",
    "df_ab_g.reset_index(inplace=True)"
   ]
  },
  {
   "cell_type": "code",
   "execution_count": 464,
   "metadata": {
    "ExecuteTime": {
     "end_time": "2019-11-09T16:51:07.958631Z",
     "start_time": "2019-11-09T16:51:07.922407Z"
    }
   },
   "outputs": [],
   "source": [
    "# Prepared data in order to be able to remove outliers\n",
    "df3_ab = df_ab_g.sort_values(by='overall')\n",
    "df3_ab['overall']=df3_ab['overall'].apply(to_float)\n",
    "df3_lb = df_lb_g.sort_values(by='overall')\n",
    "df3_lb['overall']=df3_lb['overall'].apply(to_float)\n",
    "df3_ab.reset_index(inplace=True)\n",
    "df3_lb.reset_index(inplace=True)"
   ]
  },
  {
   "cell_type": "code",
   "execution_count": 465,
   "metadata": {
    "ExecuteTime": {
     "end_time": "2019-11-09T16:51:08.591148Z",
     "start_time": "2019-11-09T16:51:08.553401Z"
    }
   },
   "outputs": [],
   "source": [
    "# Remove outliers\n",
    "df3_ab = remove_outlier(df3_ab,'overall')\n",
    "df3_lb = remove_outlier(df3_lb,'overall')\n",
    "df4_ab = remove_outlier(df4_ab,'overall')\n",
    "df4_lb = remove_outlier(df4_lb,'overall')"
   ]
  },
  {
   "cell_type": "code",
   "execution_count": 487,
   "metadata": {
    "ExecuteTime": {
     "end_time": "2019-11-09T16:57:35.137431Z",
     "start_time": "2019-11-09T16:57:35.118518Z"
    }
   },
   "outputs": [
    {
     "data": {
      "text/html": [
       "<div>\n",
       "<style scoped>\n",
       "    .dataframe tbody tr th:only-of-type {\n",
       "        vertical-align: middle;\n",
       "    }\n",
       "\n",
       "    .dataframe tbody tr th {\n",
       "        vertical-align: top;\n",
       "    }\n",
       "\n",
       "    .dataframe thead th {\n",
       "        text-align: right;\n",
       "    }\n",
       "</style>\n",
       "<table border=\"1\" class=\"dataframe\">\n",
       "  <thead>\n",
       "    <tr style=\"text-align: right;\">\n",
       "      <th></th>\n",
       "      <th>asin</th>\n",
       "      <th>review_gap</th>\n",
       "      <th>overall</th>\n",
       "      <th>average pace</th>\n",
       "      <th>round avg pace</th>\n",
       "    </tr>\n",
       "  </thead>\n",
       "  <tbody>\n",
       "    <tr>\n",
       "      <td>0</td>\n",
       "      <td>014789302X</td>\n",
       "      <td>132</td>\n",
       "      <td>5</td>\n",
       "      <td>26.40</td>\n",
       "      <td>26.0</td>\n",
       "    </tr>\n",
       "    <tr>\n",
       "      <td>1</td>\n",
       "      <td>0977217213</td>\n",
       "      <td>0</td>\n",
       "      <td>1</td>\n",
       "      <td>0.00</td>\n",
       "      <td>0.0</td>\n",
       "    </tr>\n",
       "    <tr>\n",
       "      <td>2</td>\n",
       "      <td>0977217221</td>\n",
       "      <td>0</td>\n",
       "      <td>1</td>\n",
       "      <td>0.00</td>\n",
       "      <td>0.0</td>\n",
       "    </tr>\n",
       "    <tr>\n",
       "      <td>3</td>\n",
       "      <td>0982629281</td>\n",
       "      <td>0</td>\n",
       "      <td>1</td>\n",
       "      <td>0.00</td>\n",
       "      <td>0.0</td>\n",
       "    </tr>\n",
       "    <tr>\n",
       "      <td>4</td>\n",
       "      <td>1592723721</td>\n",
       "      <td>0</td>\n",
       "      <td>1</td>\n",
       "      <td>0.00</td>\n",
       "      <td>0.0</td>\n",
       "    </tr>\n",
       "    <tr>\n",
       "      <td>...</td>\n",
       "      <td>...</td>\n",
       "      <td>...</td>\n",
       "      <td>...</td>\n",
       "      <td>...</td>\n",
       "      <td>...</td>\n",
       "    </tr>\n",
       "    <tr>\n",
       "      <td>10876</td>\n",
       "      <td>B01HIM3A3G</td>\n",
       "      <td>0</td>\n",
       "      <td>1</td>\n",
       "      <td>0.00</td>\n",
       "      <td>0.0</td>\n",
       "    </tr>\n",
       "    <tr>\n",
       "      <td>10878</td>\n",
       "      <td>B01HIUEEHO</td>\n",
       "      <td>100</td>\n",
       "      <td>4</td>\n",
       "      <td>25.00</td>\n",
       "      <td>25.0</td>\n",
       "    </tr>\n",
       "    <tr>\n",
       "      <td>10879</td>\n",
       "      <td>B01HIWLLUK</td>\n",
       "      <td>0</td>\n",
       "      <td>1</td>\n",
       "      <td>0.00</td>\n",
       "      <td>0.0</td>\n",
       "    </tr>\n",
       "    <tr>\n",
       "      <td>10880</td>\n",
       "      <td>B01HJ84SGM</td>\n",
       "      <td>147</td>\n",
       "      <td>4</td>\n",
       "      <td>36.75</td>\n",
       "      <td>37.0</td>\n",
       "    </tr>\n",
       "    <tr>\n",
       "      <td>10881</td>\n",
       "      <td>B01HJASD20</td>\n",
       "      <td>0</td>\n",
       "      <td>1</td>\n",
       "      <td>0.00</td>\n",
       "      <td>0.0</td>\n",
       "    </tr>\n",
       "  </tbody>\n",
       "</table>\n",
       "<p>10710 rows × 5 columns</p>\n",
       "</div>"
      ],
      "text/plain": [
       "             asin  review_gap  overall  average pace  round avg pace\n",
       "0      014789302X         132        5         26.40            26.0\n",
       "1      0977217213           0        1          0.00             0.0\n",
       "2      0977217221           0        1          0.00             0.0\n",
       "3      0982629281           0        1          0.00             0.0\n",
       "4      1592723721           0        1          0.00             0.0\n",
       "...           ...         ...      ...           ...             ...\n",
       "10876  B01HIM3A3G           0        1          0.00             0.0\n",
       "10878  B01HIUEEHO         100        4         25.00            25.0\n",
       "10879  B01HIWLLUK           0        1          0.00             0.0\n",
       "10880  B01HJ84SGM         147        4         36.75            37.0\n",
       "10881  B01HJASD20           0        1          0.00             0.0\n",
       "\n",
       "[10710 rows x 5 columns]"
      ]
     },
     "execution_count": 487,
     "metadata": {},
     "output_type": "execute_result"
    }
   ],
   "source": [
    "df4_ab"
   ]
  },
  {
   "cell_type": "code",
   "execution_count": 467,
   "metadata": {
    "ExecuteTime": {
     "end_time": "2019-11-09T16:51:09.927775Z",
     "start_time": "2019-11-09T16:51:09.752968Z"
    }
   },
   "outputs": [
    {
     "data": {
      "text/plain": [
       "<function matplotlib.pyplot.show(*args, **kw)>"
      ]
     },
     "execution_count": 467,
     "metadata": {},
     "output_type": "execute_result"
    },
    {
     "data": {
      "image/png": "[encoded data removed]",
      "text/plain": [
       "<Figure size 432x288 with 1 Axes>"
      ]
     },
     "metadata": {},
     "output_type": "display_data"
    }
   ],
   "source": [
    "# I was trying to test the normality of our raw data, but well it seems more like a Poisson distribution\n",
    "plt.hist(df3_ab['overall'])\n",
    "plt.show"
   ]
  },
  {
   "cell_type": "code",
   "execution_count": 468,
   "metadata": {
    "ExecuteTime": {
     "end_time": "2019-11-09T16:51:10.564792Z",
     "start_time": "2019-11-09T16:51:10.559268Z"
    }
   },
   "outputs": [
    {
     "data": {
      "text/plain": [
       "'\\nk2, p = stats.shapiro(df_ab_g[\\'overall\\'])\\nprint(format(k2), format(p))\\nalpha=0.001\\nif float(format(p)) < alpha:  # null hypothesis: x comes from a normal distribution\\n    print(\"The null hypothesis can be rejected\")\\nelse:\\n    print(\"The null hypothesis cannot be rejected\")\\n'"
      ]
     },
     "execution_count": 468,
     "metadata": {},
     "output_type": "execute_result"
    }
   ],
   "source": [
    "# I was trying to test the normality of our raw data, but well it seems more like a Poisson distribution\n",
    "'''\n",
    "k2, p = stats.shapiro(df_ab_g['overall'])\n",
    "print(format(k2), format(p))\n",
    "alpha=0.001\n",
    "if float(format(p)) < alpha:  # null hypothesis: x comes from a normal distribution\n",
    "    print(\"The null hypothesis can be rejected\")\n",
    "else:\n",
    "    print(\"The null hypothesis cannot be rejected\")\n",
    "'''"
   ]
  },
  {
   "cell_type": "code",
   "execution_count": 469,
   "metadata": {
    "ExecuteTime": {
     "end_time": "2019-11-09T16:51:11.130688Z",
     "start_time": "2019-11-09T16:51:11.123706Z"
    }
   },
   "outputs": [
    {
     "data": {
      "text/plain": [
       "\"\\nlen(detect_outlier(df_ab_g['overall']))\\nindex_names = np.where(ab_z>4).index_names\\ndf_ab_g.drop(index_names, inplace=True)\\ndf_ab_g = df_ab_g[(np.abs(stats.zscore(df_ab_g['overall'])) < 4 ).all(axis=1)]\\ndf_lb_g = df_lb_g[(np.abs(stats.zscore(df_lb_g['overall'])) < 4 ).all(axis=1)]\\n\""
      ]
     },
     "execution_count": 469,
     "metadata": {},
     "output_type": "execute_result"
    }
   ],
   "source": [
    "# I was trying to test the normality of our raw data, but well it seems more like a Poisson distribution\n",
    "'''\n",
    "len(detect_outlier(df_ab_g['overall']))\n",
    "index_names = np.where(ab_z>4).index_names\n",
    "df_ab_g.drop(index_names, inplace=True)\n",
    "df_ab_g = df_ab_g[(np.abs(stats.zscore(df_ab_g['overall'])) < 4 ).all(axis=1)]\n",
    "df_lb_g = df_lb_g[(np.abs(stats.zscore(df_lb_g['overall'])) < 4 ).all(axis=1)]\n",
    "'''"
   ]
  },
  {
   "cell_type": "code",
   "execution_count": 470,
   "metadata": {
    "ExecuteTime": {
     "end_time": "2019-11-09T16:51:11.698778Z",
     "start_time": "2019-11-09T16:51:11.686556Z"
    }
   },
   "outputs": [],
   "source": [
    "# Temporary dataframes to use for average calculation for dataframes a and b\n",
    "df_lb_avg = pd.DataFrame(df3_lb.groupby('#Weeks')['overall'].count())\n",
    "df_ab_avg = pd.DataFrame(df3_ab.groupby('#Weeks')['overall'].count())"
   ]
  },
  {
   "cell_type": "code",
   "execution_count": 471,
   "metadata": {
    "ExecuteTime": {
     "end_time": "2019-11-09T16:51:12.238309Z",
     "start_time": "2019-11-09T16:51:12.226818Z"
    }
   },
   "outputs": [],
   "source": [
    "# Main dataframes to use for plot 1 and 2\n",
    "a = pd.DataFrame(df3_lb.groupby('#Weeks')['overall'].aggregate(np.sum))\n",
    "b = pd.DataFrame(df3_ab.groupby('#Weeks')['overall'].aggregate(np.sum))"
   ]
  },
  {
   "cell_type": "code",
   "execution_count": 472,
   "metadata": {
    "ExecuteTime": {
     "end_time": "2019-11-09T16:51:12.842245Z",
     "start_time": "2019-11-09T16:51:12.830275Z"
    }
   },
   "outputs": [],
   "source": [
    "# Calculate and add average column\n",
    "a.loc[:,'avg'] = a['overall'] / df_lb_avg['overall'] \n",
    "b.loc[:,'avg'] = b['overall'] / df_ab_avg['overall']"
   ]
  },
  {
   "cell_type": "code",
   "execution_count": 473,
   "metadata": {
    "ExecuteTime": {
     "end_time": "2019-11-09T16:51:13.525547Z",
     "start_time": "2019-11-09T16:51:13.518569Z"
    }
   },
   "outputs": [],
   "source": [
    "# Convert values in overall to float so we can plot them\n",
    "a['overall']=a['overall'].apply(to_float)\n",
    "b['overall']=b['overall'].apply(to_float)"
   ]
  },
  {
   "cell_type": "code",
   "execution_count": 474,
   "metadata": {
    "ExecuteTime": {
     "end_time": "2019-11-09T16:51:14.163186Z",
     "start_time": "2019-11-09T16:51:14.156204Z"
    }
   },
   "outputs": [],
   "source": [
    "# Reset index for a and b for esthetic reasons\n",
    "a.reset_index(inplace=True)\n",
    "b.reset_index(inplace=True)"
   ]
  },
  {
   "cell_type": "code",
   "execution_count": 475,
   "metadata": {
    "ExecuteTime": {
     "end_time": "2019-11-09T16:51:14.784801Z",
     "start_time": "2019-11-09T16:51:14.775251Z"
    }
   },
   "outputs": [],
   "source": [
    "# Add cumulative sum column to plot a trajectory of an average product in both categories\n",
    "a.loc[:,'cumsum']=a['avg'].transform(np.cumsum)\n",
    "b.loc[:,'cumsum']=b['avg'].transform(np.cumsum)"
   ]
  },
  {
   "cell_type": "code",
   "execution_count": null,
   "metadata": {
    "ExecuteTime": {
     "end_time": "2019-11-08T20:55:21.029912Z",
     "start_time": "2019-11-08T20:55:21.014953Z"
    }
   },
   "outputs": [],
   "source": []
  },
  {
   "cell_type": "code",
   "execution_count": 507,
   "metadata": {
    "ExecuteTime": {
     "end_time": "2019-11-09T17:22:29.314705Z",
     "start_time": "2019-11-09T17:22:28.722771Z"
    }
   },
   "outputs": [
    {
     "data": {
      "image/png": "[encoded data removed]",
      "text/plain": [
       "<Figure size 841.68x595.44 with 4 Axes>"
      ]
     },
     "metadata": {},
     "output_type": "display_data"
    }
   ],
   "source": [
    "#Figure creation\n",
    "fig = plt.figure(figsize=(11.69,8.27)) #figure size in inches to fit A4\n",
    "\n",
    "# parition the figure into 4 subplots with 'gridspec'\n",
    "gs = gridspec.GridSpec(2, 2, # we want 2 rows, 2 cols\n",
    "                       figure=fig, # this gs applies to figure\n",
    "                       hspace=0.4, wspace=0.4, # separation between plots\n",
    "                       width_ratios=[1, 1], # ration between the first and second column\n",
    "                       height_ratios=[1, 1]) # ration between the first ans second row\n",
    "\n",
    "# add plots\n",
    "ax0 = fig.add_subplot(gs[0, 0]) # this will occupy the first row-first colum\n",
    "ax1 = fig.add_subplot(gs[0, 1]) # and so on and so forth...\n",
    "ax2 = fig.add_subplot(gs[1, 0])\n",
    "ax3 = fig.add_subplot(gs[1, 1])"
   ]
  },
  {
   "cell_type": "code",
   "execution_count": null,
   "metadata": {},
   "outputs": [],
   "source": []
  },
  {
   "cell_type": "code",
   "execution_count": 508,
   "metadata": {
    "ExecuteTime": {
     "end_time": "2019-11-09T17:22:29.930131Z",
     "start_time": "2019-11-09T17:22:29.903198Z"
    },
    "scrolled": true
   },
   "outputs": [
    {
     "data": {
      "text/plain": [
       "[<matplotlib.lines.Line2D at 0x18c2174d648>]"
      ]
     },
     "execution_count": 508,
     "metadata": {},
     "output_type": "execute_result"
    }
   ],
   "source": [
    "#Plot 1\n",
    "ax0.plot('#Weeks','overall',data=df3_lb,\n",
    "         color='red',\n",
    "         alpha=0.5,\n",
    "         linewidth=0.2)\n",
    "ax0.plot('#Weeks','overall',data=df3_ab,\n",
    "         color='green',\n",
    "         alpha=0.5,\n",
    "         linewidth=0.2)\n",
    "\n",
    "ax0.plot('#Weeks','avg',data=a,\n",
    "         color='orange',\n",
    "         alpha=1,\n",
    "         marker='o',\n",
    "         linewidth=1)\n",
    "ax0.plot('#Weeks','avg',data=b,\n",
    "         color='blue',\n",
    "         alpha=1,\n",
    "         marker='^',\n",
    "         linewidth=1)\n"
   ]
  },
  {
   "cell_type": "code",
   "execution_count": 509,
   "metadata": {
    "ExecuteTime": {
     "end_time": "2019-11-09T17:22:30.509148Z",
     "start_time": "2019-11-09T17:22:30.494670Z"
    }
   },
   "outputs": [
    {
     "data": {
      "text/plain": [
       "[<matplotlib.lines.Line2D at 0x18c2175fa88>]"
      ]
     },
     "execution_count": 509,
     "metadata": {},
     "output_type": "execute_result"
    }
   ],
   "source": [
    "# Plot2\n",
    "ax1.plot('cumsum', data=a,\n",
    "         color='orange',\n",
    "         alpha=1,\n",
    "         marker='^',\n",
    "         linewidth=1)\n",
    "ax1.plot('cumsum', data=b,\n",
    "         color='blue',\n",
    "         alpha=1,\n",
    "         marker='o',\n",
    "         linewidth=1)"
   ]
  },
  {
   "cell_type": "code",
   "execution_count": 510,
   "metadata": {
    "ExecuteTime": {
     "end_time": "2019-11-09T17:22:31.249204Z",
     "start_time": "2019-11-09T17:22:31.233244Z"
    }
   },
   "outputs": [
    {
     "data": {
      "text/plain": [
       "\"\\nax3.plot('round avg pace','average count',data=df4_lb_avg,\\n         color='red',\\n         alpha=1,\\n         linewidth=1)\\nax3.plot('round avg pace','average count',data=df4_ab_avg,\\n         color='blue',\\n         alpha=1,\\n         linewidth=1)\\n\""
      ]
     },
     "execution_count": 510,
     "metadata": {},
     "output_type": "execute_result"
    }
   ],
   "source": [
    "#Plot 4 - Association between count of ratings and average pacing between reviews\n",
    "ax3.plot('average pace','overall',data=df4_lb,\n",
    "         color='green',\n",
    "         alpha=0.5,\n",
    "         linewidth=0.2)\n",
    "ax3.plot('average pace','overall',data=df4_ab,\n",
    "         color='orange',\n",
    "         alpha=0.5,\n",
    "         linewidth=0.2)\n",
    "# The average trend is not really representative right now\n",
    "'''\n",
    "ax3.plot('round avg pace','average count',data=df4_lb_avg,\n",
    "         color='red',\n",
    "         alpha=1,\n",
    "         linewidth=1)\n",
    "ax3.plot('round avg pace','average count',data=df4_ab_avg,\n",
    "         color='blue',\n",
    "         alpha=1,\n",
    "         linewidth=1)\n",
    "'''\n"
   ]
  },
  {
   "cell_type": "code",
   "execution_count": 511,
   "metadata": {
    "ExecuteTime": {
     "end_time": "2019-11-09T17:22:32.860800Z",
     "start_time": "2019-11-09T17:22:31.946871Z"
    },
    "scrolled": false
   },
   "outputs": [
    {
     "data": {
      "image/png": "[encoded data removed]",
      "text/plain": [
       "<Figure size 841.68x595.44 with 4 Axes>"
      ]
     },
     "execution_count": 511,
     "metadata": {},
     "output_type": "execute_result"
    }
   ],
   "source": [
    "fig"
   ]
  },
  {
   "cell_type": "code",
   "execution_count": null,
   "metadata": {},
   "outputs": [],
   "source": []
  },
  {
   "cell_type": "code",
   "execution_count": null,
   "metadata": {},
   "outputs": [],
   "source": []
  }
 ],
 "metadata": {
  "kernelspec": {
   "display_name": "Python 3",
   "language": "python",
   "name": "python3"
  },
  "language_info": {
   "codemirror_mode": {
    "name": "ipython",
    "version": 3
   },
   "file_extension": ".py",
   "mimetype": "text/x-python",
   "name": "python",
   "nbconvert_exporter": "python",
   "pygments_lexer": "ipython3",
   "version": "3.7.4"
  },
  "toc": {
   "base_numbering": 1,
   "nav_menu": {},
   "number_sections": true,
   "sideBar": true,
   "skip_h1_title": false,
   "title_cell": "Table of Contents",
   "title_sidebar": "Contents",
   "toc_cell": false,
   "toc_position": {},
   "toc_section_display": true,
   "toc_window_display": false
  },
  "varInspector": {
   "cols": {
    "lenName": 16,
    "lenType": 16,
    "lenVar": 40
   },
   "kernels_config": {
    "python": {
     "delete_cmd_postfix": "",
     "delete_cmd_prefix": "del ",
     "library": "var_list.py",
     "varRefreshCmd": "print(var_dic_list())"
    },
    "r": {
     "delete_cmd_postfix": ") ",
     "delete_cmd_prefix": "rm(",
     "library": "var_list.r",
     "varRefreshCmd": "cat(var_dic_list()) "
    }
   },
   "oldHeight": 366.000454,
   "position": {
    "height": "40px",
    "left": "1060px",
    "right": "20px",
    "top": "34px",
    "width": "338px"
   },
   "types_to_exclude": [
    "module",
    "function",
    "builtin_function_or_method",
    "instance",
    "_Feature"
   ],
   "varInspector_section_display": "none",
   "window_display": true
  }
 },
 "nbformat": 4,
 "nbformat_minor": 2
}
