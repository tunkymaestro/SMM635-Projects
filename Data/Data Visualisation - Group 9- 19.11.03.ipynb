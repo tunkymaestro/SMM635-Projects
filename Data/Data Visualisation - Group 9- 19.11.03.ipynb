{
 "cells": [
  {
   "cell_type": "markdown",
   "metadata": {},
   "source": [
    "# Import relevant libraries"
   ]
  },
  {
   "cell_type": "code",
   "execution_count": 1,
   "metadata": {
    "ExecuteTime": {
     "end_time": "2019-11-05T02:05:27.530778Z",
     "start_time": "2019-11-05T02:05:26.804848Z"
    }
   },
   "outputs": [],
   "source": [
    "import json\n",
    "import gzip\n",
    "import pandas as pd \n",
    "import numpy as np"
   ]
  },
  {
   "cell_type": "markdown",
   "metadata": {
    "ExecuteTime": {
     "end_time": "2019-10-30T16:31:59.325160Z",
     "start_time": "2019-10-30T16:31:59.319178Z"
    }
   },
   "source": [
    "# Read data"
   ]
  },
  {
   "cell_type": "code",
   "execution_count": 2,
   "metadata": {
    "ExecuteTime": {
     "end_time": "2019-11-05T02:05:27.539305Z",
     "start_time": "2019-11-05T02:05:27.534104Z"
    }
   },
   "outputs": [],
   "source": [
    "def parse(path):\n",
    "    g = gzip.open(path, 'rb')\n",
    "    for i in g:\n",
    "        yield json.loads(i)\n",
    "        \n",
    "def getDF(path):\n",
    "    i = 0\n",
    "    df = {}\n",
    "    for d in parse(path):\n",
    "        df[i] = d\n",
    "        i += 1\n",
    "    return pd.DataFrame.from_dict(df, orient = 'index')"
   ]
  },
  {
   "cell_type": "code",
   "execution_count": 3,
   "metadata": {
    "ExecuteTime": {
     "end_time": "2019-11-05T02:05:57.308565Z",
     "start_time": "2019-11-05T02:05:27.541803Z"
    }
   },
   "outputs": [],
   "source": [
    "df_ab_r = getDF('All_Beauty.json.gz')\n",
    "df_ab_m = getDF('meta_All_Beauty.json.gz')\n",
    "df_lb_r = getDF('Luxury_Beauty.json.gz')\n",
    "df_lb_m = getDF('meta_Luxury_Beauty.json.gz')"
   ]
  },
  {
   "cell_type": "code",
   "execution_count": 4,
   "metadata": {
    "ExecuteTime": {
     "end_time": "2019-11-05T02:05:57.339061Z",
     "start_time": "2019-11-05T02:05:57.310504Z"
    }
   },
   "outputs": [
    {
     "data": {
      "text/html": [
       "<div>\n",
       "<style scoped>\n",
       "    .dataframe tbody tr th:only-of-type {\n",
       "        vertical-align: middle;\n",
       "    }\n",
       "\n",
       "    .dataframe tbody tr th {\n",
       "        vertical-align: top;\n",
       "    }\n",
       "\n",
       "    .dataframe thead th {\n",
       "        text-align: right;\n",
       "    }\n",
       "</style>\n",
       "<table border=\"1\" class=\"dataframe\">\n",
       "  <thead>\n",
       "    <tr style=\"text-align: right;\">\n",
       "      <th></th>\n",
       "      <th>overall</th>\n",
       "      <th>verified</th>\n",
       "      <th>reviewTime</th>\n",
       "      <th>reviewerID</th>\n",
       "      <th>asin</th>\n",
       "      <th>reviewerName</th>\n",
       "      <th>reviewText</th>\n",
       "      <th>summary</th>\n",
       "      <th>unixReviewTime</th>\n",
       "      <th>vote</th>\n",
       "      <th>style</th>\n",
       "      <th>image</th>\n",
       "    </tr>\n",
       "  </thead>\n",
       "  <tbody>\n",
       "    <tr>\n",
       "      <td>0</td>\n",
       "      <td>1.0</td>\n",
       "      <td>True</td>\n",
       "      <td>02 19, 2015</td>\n",
       "      <td>A1V6B6TNIC10QE</td>\n",
       "      <td>0143026860</td>\n",
       "      <td>theodore j bigham</td>\n",
       "      <td>great</td>\n",
       "      <td>One Star</td>\n",
       "      <td>1424304000</td>\n",
       "      <td>NaN</td>\n",
       "      <td>NaN</td>\n",
       "      <td>NaN</td>\n",
       "    </tr>\n",
       "    <tr>\n",
       "      <td>1</td>\n",
       "      <td>4.0</td>\n",
       "      <td>True</td>\n",
       "      <td>12 18, 2014</td>\n",
       "      <td>A2F5GHSXFQ0W6J</td>\n",
       "      <td>0143026860</td>\n",
       "      <td>Mary K. Byke</td>\n",
       "      <td>My  husband wanted to reading about the Negro ...</td>\n",
       "      <td>... to reading about the Negro Baseball and th...</td>\n",
       "      <td>1418860800</td>\n",
       "      <td>NaN</td>\n",
       "      <td>NaN</td>\n",
       "      <td>NaN</td>\n",
       "    </tr>\n",
       "    <tr>\n",
       "      <td>2</td>\n",
       "      <td>4.0</td>\n",
       "      <td>True</td>\n",
       "      <td>08 10, 2014</td>\n",
       "      <td>A1572GUYS7DGSR</td>\n",
       "      <td>0143026860</td>\n",
       "      <td>David G</td>\n",
       "      <td>This book was very informative, covering all a...</td>\n",
       "      <td>Worth the Read</td>\n",
       "      <td>1407628800</td>\n",
       "      <td>NaN</td>\n",
       "      <td>NaN</td>\n",
       "      <td>NaN</td>\n",
       "    </tr>\n",
       "    <tr>\n",
       "      <td>3</td>\n",
       "      <td>5.0</td>\n",
       "      <td>True</td>\n",
       "      <td>03 11, 2013</td>\n",
       "      <td>A1PSGLFK1NSVO</td>\n",
       "      <td>0143026860</td>\n",
       "      <td>TamB</td>\n",
       "      <td>I am already a baseball fan and knew a bit abo...</td>\n",
       "      <td>Good Read</td>\n",
       "      <td>1362960000</td>\n",
       "      <td>NaN</td>\n",
       "      <td>NaN</td>\n",
       "      <td>NaN</td>\n",
       "    </tr>\n",
       "    <tr>\n",
       "      <td>4</td>\n",
       "      <td>5.0</td>\n",
       "      <td>True</td>\n",
       "      <td>12 25, 2011</td>\n",
       "      <td>A6IKXKZMTKGSC</td>\n",
       "      <td>0143026860</td>\n",
       "      <td>shoecanary</td>\n",
       "      <td>This was a good story of the Black leagues. I ...</td>\n",
       "      <td>More than facts, a good story read!</td>\n",
       "      <td>1324771200</td>\n",
       "      <td>5</td>\n",
       "      <td>NaN</td>\n",
       "      <td>NaN</td>\n",
       "    </tr>\n",
       "    <tr>\n",
       "      <td>5</td>\n",
       "      <td>5.0</td>\n",
       "      <td>False</td>\n",
       "      <td>02 26, 2010</td>\n",
       "      <td>A36NF437WZLQ9E</td>\n",
       "      <td>0143026860</td>\n",
       "      <td>W. Powell</td>\n",
       "      <td>Today I gave a book about the Negro Leagues of...</td>\n",
       "      <td>The Gift of Black Baseball</td>\n",
       "      <td>1267142400</td>\n",
       "      <td>4</td>\n",
       "      <td>NaN</td>\n",
       "      <td>NaN</td>\n",
       "    </tr>\n",
       "    <tr>\n",
       "      <td>6</td>\n",
       "      <td>4.0</td>\n",
       "      <td>False</td>\n",
       "      <td>03 7, 2001</td>\n",
       "      <td>A10Q8NIFOVOHFV</td>\n",
       "      <td>0143026860</td>\n",
       "      <td>Robert S. Clay Jr.</td>\n",
       "      <td>The story of race relations in American histor...</td>\n",
       "      <td>Baseball, America, and racism.</td>\n",
       "      <td>983923200</td>\n",
       "      <td>14</td>\n",
       "      <td>NaN</td>\n",
       "      <td>NaN</td>\n",
       "    </tr>\n",
       "    <tr>\n",
       "      <td>7</td>\n",
       "      <td>1.0</td>\n",
       "      <td>True</td>\n",
       "      <td>04 10, 2017</td>\n",
       "      <td>A26PO1B2Q2G1CS</td>\n",
       "      <td>014789302X</td>\n",
       "      <td>Jacqueline Diaz</td>\n",
       "      <td>I didn't like this product it smudged all unde...</td>\n",
       "      <td>One Star</td>\n",
       "      <td>1491782400</td>\n",
       "      <td>NaN</td>\n",
       "      <td>NaN</td>\n",
       "      <td>NaN</td>\n",
       "    </tr>\n",
       "    <tr>\n",
       "      <td>8</td>\n",
       "      <td>5.0</td>\n",
       "      <td>True</td>\n",
       "      <td>01 3, 2017</td>\n",
       "      <td>AQ812VYVTC2RJ</td>\n",
       "      <td>014789302X</td>\n",
       "      <td>Khadijah Ali-Evans</td>\n",
       "      <td>I simply love the product. I appreciate print ...</td>\n",
       "      <td>Five Stars</td>\n",
       "      <td>1483401600</td>\n",
       "      <td>NaN</td>\n",
       "      <td>NaN</td>\n",
       "      <td>NaN</td>\n",
       "    </tr>\n",
       "    <tr>\n",
       "      <td>9</td>\n",
       "      <td>1.0</td>\n",
       "      <td>True</td>\n",
       "      <td>11 19, 2016</td>\n",
       "      <td>AMACNEW14ADMX</td>\n",
       "      <td>014789302X</td>\n",
       "      <td>rabiyaa123</td>\n",
       "      <td>it burns your eyes when u put it on  and very ...</td>\n",
       "      <td>i do not recommend.</td>\n",
       "      <td>1479513600</td>\n",
       "      <td>3</td>\n",
       "      <td>NaN</td>\n",
       "      <td>NaN</td>\n",
       "    </tr>\n",
       "  </tbody>\n",
       "</table>\n",
       "</div>"
      ],
      "text/plain": [
       "   overall  verified   reviewTime      reviewerID        asin  \\\n",
       "0      1.0      True  02 19, 2015  A1V6B6TNIC10QE  0143026860   \n",
       "1      4.0      True  12 18, 2014  A2F5GHSXFQ0W6J  0143026860   \n",
       "2      4.0      True  08 10, 2014  A1572GUYS7DGSR  0143026860   \n",
       "3      5.0      True  03 11, 2013   A1PSGLFK1NSVO  0143026860   \n",
       "4      5.0      True  12 25, 2011   A6IKXKZMTKGSC  0143026860   \n",
       "5      5.0     False  02 26, 2010  A36NF437WZLQ9E  0143026860   \n",
       "6      4.0     False   03 7, 2001  A10Q8NIFOVOHFV  0143026860   \n",
       "7      1.0      True  04 10, 2017  A26PO1B2Q2G1CS  014789302X   \n",
       "8      5.0      True   01 3, 2017   AQ812VYVTC2RJ  014789302X   \n",
       "9      1.0      True  11 19, 2016   AMACNEW14ADMX  014789302X   \n",
       "\n",
       "         reviewerName                                         reviewText  \\\n",
       "0   theodore j bigham                                              great   \n",
       "1        Mary K. Byke  My  husband wanted to reading about the Negro ...   \n",
       "2             David G  This book was very informative, covering all a...   \n",
       "3                TamB  I am already a baseball fan and knew a bit abo...   \n",
       "4          shoecanary  This was a good story of the Black leagues. I ...   \n",
       "5           W. Powell  Today I gave a book about the Negro Leagues of...   \n",
       "6  Robert S. Clay Jr.  The story of race relations in American histor...   \n",
       "7     Jacqueline Diaz  I didn't like this product it smudged all unde...   \n",
       "8  Khadijah Ali-Evans  I simply love the product. I appreciate print ...   \n",
       "9          rabiyaa123  it burns your eyes when u put it on  and very ...   \n",
       "\n",
       "                                             summary  unixReviewTime vote  \\\n",
       "0                                           One Star      1424304000  NaN   \n",
       "1  ... to reading about the Negro Baseball and th...      1418860800  NaN   \n",
       "2                                     Worth the Read      1407628800  NaN   \n",
       "3                                          Good Read      1362960000  NaN   \n",
       "4                More than facts, a good story read!      1324771200    5   \n",
       "5                         The Gift of Black Baseball      1267142400    4   \n",
       "6                     Baseball, America, and racism.       983923200   14   \n",
       "7                                           One Star      1491782400  NaN   \n",
       "8                                         Five Stars      1483401600  NaN   \n",
       "9                                i do not recommend.      1479513600    3   \n",
       "\n",
       "  style image  \n",
       "0   NaN   NaN  \n",
       "1   NaN   NaN  \n",
       "2   NaN   NaN  \n",
       "3   NaN   NaN  \n",
       "4   NaN   NaN  \n",
       "5   NaN   NaN  \n",
       "6   NaN   NaN  \n",
       "7   NaN   NaN  \n",
       "8   NaN   NaN  \n",
       "9   NaN   NaN  "
      ]
     },
     "execution_count": 4,
     "metadata": {},
     "output_type": "execute_result"
    }
   ],
   "source": [
    "df_ab_r.head(10)"
   ]
  },
  {
   "cell_type": "code",
   "execution_count": 5,
   "metadata": {
    "ExecuteTime": {
     "end_time": "2019-11-05T02:05:57.358666Z",
     "start_time": "2019-11-05T02:05:57.340833Z"
    }
   },
   "outputs": [
    {
     "name": "stdout",
     "output_type": "stream",
     "text": [
      "This was a good story of the Black leagues. I bought the book to teach in my high school reading class. I found it very informative and exciting. I would recommend to anyone interested in the history of the black leagues. It is well written, unlike a book of facts. The McKissack's continue to write good books for young audiences that can also be enjoyed by adults!\n"
     ]
    }
   ],
   "source": [
    "pd.set_option('display.max_columns', None)\n",
    "print(df_ab_r.loc[4]['reviewText'])"
   ]
  },
  {
   "cell_type": "code",
   "execution_count": 6,
   "metadata": {
    "ExecuteTime": {
     "end_time": "2019-11-05T02:05:57.379814Z",
     "start_time": "2019-11-05T02:05:57.360414Z"
    }
   },
   "outputs": [
    {
     "data": {
      "text/html": [
       "<div>\n",
       "<style scoped>\n",
       "    .dataframe tbody tr th:only-of-type {\n",
       "        vertical-align: middle;\n",
       "    }\n",
       "\n",
       "    .dataframe tbody tr th {\n",
       "        vertical-align: top;\n",
       "    }\n",
       "\n",
       "    .dataframe thead th {\n",
       "        text-align: right;\n",
       "    }\n",
       "</style>\n",
       "<table border=\"1\" class=\"dataframe\">\n",
       "  <thead>\n",
       "    <tr style=\"text-align: right;\">\n",
       "      <th></th>\n",
       "      <th>title</th>\n",
       "      <th>image</th>\n",
       "      <th>brand</th>\n",
       "      <th>rank</th>\n",
       "      <th>main_cat</th>\n",
       "      <th>asin</th>\n",
       "      <th>description</th>\n",
       "      <th>also_view</th>\n",
       "      <th>also_buy</th>\n",
       "      <th>price</th>\n",
       "      <th>similar_item</th>\n",
       "      <th>details</th>\n",
       "      <th>feature</th>\n",
       "      <th>tech1</th>\n",
       "      <th>date</th>\n",
       "    </tr>\n",
       "  </thead>\n",
       "  <tbody>\n",
       "    <tr>\n",
       "      <td>32988</td>\n",
       "      <td>(Buy 3 Get 1 Free) Salon Perfect Eye Makeup Co...</td>\n",
       "      <td>NaN</td>\n",
       "      <td>Salon Perfect</td>\n",
       "      <td>1,639,713inBeautyPersonalCare(</td>\n",
       "      <td>All Beauty</td>\n",
       "      <td>B01HJ1K3YK</td>\n",
       "      <td>NaN</td>\n",
       "      <td>NaN</td>\n",
       "      <td>NaN</td>\n",
       "      <td>NaN</td>\n",
       "      <td>NaN</td>\n",
       "      <td>\\n      &lt;div class=\"content\"&gt;\\n\\n\\n\\n\\n\\n\\n&lt;ul...</td>\n",
       "      <td>NaN</td>\n",
       "      <td>NaN</td>\n",
       "      <td>NaN</td>\n",
       "    </tr>\n",
       "    <tr>\n",
       "      <td>32989</td>\n",
       "      <td>NOW D-Mannose 500 mg - 120 Veg Capsules (Pack ...</td>\n",
       "      <td>NaN</td>\n",
       "      <td>NaN</td>\n",
       "      <td>207,410inBeautyPersonalCare(</td>\n",
       "      <td>All Beauty</td>\n",
       "      <td>B01HJ84SGM</td>\n",
       "      <td>NaN</td>\n",
       "      <td>[B01KON9B4S, B000JN4CR0, B071ZHMRHS, B01HJ84TN...</td>\n",
       "      <td>[B01KON9B4S, B079X3YFXS, B00M79OYS6, B000JN4CR...</td>\n",
       "      <td>$55.63</td>\n",
       "      <td>NaN</td>\n",
       "      <td>\\n      &lt;div class=\"content\"&gt;\\n\\n\\n\\n\\n\\n\\n&lt;ul...</td>\n",
       "      <td>NaN</td>\n",
       "      <td>NaN</td>\n",
       "      <td>NaN</td>\n",
       "    </tr>\n",
       "    <tr>\n",
       "      <td>32990</td>\n",
       "      <td>12 White Feather Shuttlecocks Birdies Badminto...</td>\n",
       "      <td>[https://images-na.ssl-images-amazon.com/image...</td>\n",
       "      <td>GBSTORE</td>\n",
       "      <td>965,673inBeautyPersonalCare(</td>\n",
       "      <td>All Beauty</td>\n",
       "      <td>B01HJASD20</td>\n",
       "      <td>[Brand new and high quality Enables fast volle...</td>\n",
       "      <td>NaN</td>\n",
       "      <td>NaN</td>\n",
       "      <td>$12.99</td>\n",
       "      <td>NaN</td>\n",
       "      <td>\\n      &lt;div class=\"content\"&gt;\\n\\n\\n\\n\\n\\n\\n&lt;ul...</td>\n",
       "      <td>NaN</td>\n",
       "      <td>NaN</td>\n",
       "      <td>NaN</td>\n",
       "    </tr>\n",
       "    <tr>\n",
       "      <td>32991</td>\n",
       "      <td>FESHFEN Scrunchy Scrunchies Synthetic Hair Bun...</td>\n",
       "      <td>[https://images-na.ssl-images-amazon.com/image...</td>\n",
       "      <td>NaN</td>\n",
       "      <td>478,123inBeautyPersonalCare(</td>\n",
       "      <td>All Beauty</td>\n",
       "      <td>B01HJEGTYK</td>\n",
       "      <td>NaN</td>\n",
       "      <td>[B06XNM7CGD, B071D7TMQS]</td>\n",
       "      <td>[B01HJEGQ6Q, B01L66EYCG, B00H7YZ7HI, B00CHKKWZ...</td>\n",
       "      <td>NaN</td>\n",
       "      <td>NaN</td>\n",
       "      <td>\\n      &lt;div class=\"content\"&gt;\\n\\n\\n\\n\\n\\n\\n&lt;ul...</td>\n",
       "      <td>NaN</td>\n",
       "      <td>NaN</td>\n",
       "      <td>NaN</td>\n",
       "    </tr>\n",
       "    <tr>\n",
       "      <td>27117</td>\n",
       "      <td>NaN</td>\n",
       "      <td>[https://images-na.ssl-images-amazon.com/image...</td>\n",
       "      <td>BCW</td>\n",
       "      <td>NaN</td>\n",
       "      <td>All Beauty</td>\n",
       "      <td>B01A9MZLS4</td>\n",
       "      <td>NaN</td>\n",
       "      <td>[B00WRYQWW2, B00QGQTVHK, B00VUAYN70, B00W2N65F...</td>\n",
       "      <td>[B00QGQTVHK, B00WRYQWW2, B00WRYP1WO, B01M122DM...</td>\n",
       "      <td>$2.89 - $13.99</td>\n",
       "      <td>NaN</td>\n",
       "      <td>\\n      &lt;div class=\"content\"&gt;\\n\\n\\n\\n\\n\\n\\n&lt;ul...</td>\n",
       "      <td>NaN</td>\n",
       "      <td>NaN</td>\n",
       "      <td>NaN</td>\n",
       "    </tr>\n",
       "  </tbody>\n",
       "</table>\n",
       "</div>"
      ],
      "text/plain": [
       "                                                   title  \\\n",
       "32988  (Buy 3 Get 1 Free) Salon Perfect Eye Makeup Co...   \n",
       "32989  NOW D-Mannose 500 mg - 120 Veg Capsules (Pack ...   \n",
       "32990  12 White Feather Shuttlecocks Birdies Badminto...   \n",
       "32991  FESHFEN Scrunchy Scrunchies Synthetic Hair Bun...   \n",
       "27117                                                NaN   \n",
       "\n",
       "                                                   image          brand  \\\n",
       "32988                                                NaN  Salon Perfect   \n",
       "32989                                                NaN            NaN   \n",
       "32990  [https://images-na.ssl-images-amazon.com/image...        GBSTORE   \n",
       "32991  [https://images-na.ssl-images-amazon.com/image...            NaN   \n",
       "27117  [https://images-na.ssl-images-amazon.com/image...            BCW   \n",
       "\n",
       "                                 rank    main_cat        asin  \\\n",
       "32988  1,639,713inBeautyPersonalCare(  All Beauty  B01HJ1K3YK   \n",
       "32989    207,410inBeautyPersonalCare(  All Beauty  B01HJ84SGM   \n",
       "32990    965,673inBeautyPersonalCare(  All Beauty  B01HJASD20   \n",
       "32991    478,123inBeautyPersonalCare(  All Beauty  B01HJEGTYK   \n",
       "27117                             NaN  All Beauty  B01A9MZLS4   \n",
       "\n",
       "                                             description  \\\n",
       "32988                                                NaN   \n",
       "32989                                                NaN   \n",
       "32990  [Brand new and high quality Enables fast volle...   \n",
       "32991                                                NaN   \n",
       "27117                                                NaN   \n",
       "\n",
       "                                               also_view  \\\n",
       "32988                                                NaN   \n",
       "32989  [B01KON9B4S, B000JN4CR0, B071ZHMRHS, B01HJ84TN...   \n",
       "32990                                                NaN   \n",
       "32991                           [B06XNM7CGD, B071D7TMQS]   \n",
       "27117  [B00WRYQWW2, B00QGQTVHK, B00VUAYN70, B00W2N65F...   \n",
       "\n",
       "                                                also_buy           price  \\\n",
       "32988                                                NaN             NaN   \n",
       "32989  [B01KON9B4S, B079X3YFXS, B00M79OYS6, B000JN4CR...          $55.63   \n",
       "32990                                                NaN          $12.99   \n",
       "32991  [B01HJEGQ6Q, B01L66EYCG, B00H7YZ7HI, B00CHKKWZ...             NaN   \n",
       "27117  [B00QGQTVHK, B00WRYQWW2, B00WRYP1WO, B01M122DM...  $2.89 - $13.99   \n",
       "\n",
       "      similar_item                                            details feature  \\\n",
       "32988          NaN  \\n      <div class=\"content\">\\n\\n\\n\\n\\n\\n\\n<ul...     NaN   \n",
       "32989          NaN  \\n      <div class=\"content\">\\n\\n\\n\\n\\n\\n\\n<ul...     NaN   \n",
       "32990          NaN  \\n      <div class=\"content\">\\n\\n\\n\\n\\n\\n\\n<ul...     NaN   \n",
       "32991          NaN  \\n      <div class=\"content\">\\n\\n\\n\\n\\n\\n\\n<ul...     NaN   \n",
       "27117          NaN  \\n      <div class=\"content\">\\n\\n\\n\\n\\n\\n\\n<ul...     NaN   \n",
       "\n",
       "      tech1 date  \n",
       "32988   NaN  NaN  \n",
       "32989   NaN  NaN  \n",
       "32990   NaN  NaN  \n",
       "32991   NaN  NaN  \n",
       "27117   NaN  NaN  "
      ]
     },
     "execution_count": 6,
     "metadata": {},
     "output_type": "execute_result"
    }
   ],
   "source": [
    "df_ab_m.tail()"
   ]
  },
  {
   "cell_type": "code",
   "execution_count": 7,
   "metadata": {
    "ExecuteTime": {
     "end_time": "2019-11-05T02:05:58.817294Z",
     "start_time": "2019-11-05T02:05:57.383661Z"
    }
   },
   "outputs": [],
   "source": [
    "# merge the data\n",
    "\n",
    "df_ab_merged = pd.merge(df_ab_r, df_ab_m, how='inner', on ='asin')\n",
    "df_lb_merged = pd.merge(df_lb_r, df_lb_m, how='inner', on ='asin')"
   ]
  },
  {
   "cell_type": "markdown",
   "metadata": {},
   "source": [
    "# Data Cleaning"
   ]
  },
  {
   "cell_type": "code",
   "execution_count": 8,
   "metadata": {
    "ExecuteTime": {
     "end_time": "2019-11-05T02:06:01.019108Z",
     "start_time": "2019-11-05T02:05:58.820237Z"
    }
   },
   "outputs": [],
   "source": [
    "# data cleaning\n",
    "to_drop = ['vote','reviewText', 'reviewerName', 'summary','image_x', 'image_y', 'description', 'details']\n",
    "\n",
    "df_ab_merged.drop(to_drop, inplace=True, axis=1)\n",
    "df_lb_merged.drop(to_drop, inplace=True, axis=1)"
   ]
  },
  {
   "cell_type": "code",
   "execution_count": 9,
   "metadata": {
    "ExecuteTime": {
     "end_time": "2019-11-05T02:06:01.158711Z",
     "start_time": "2019-11-05T02:06:01.021182Z"
    }
   },
   "outputs": [
    {
     "data": {
      "text/html": [
       "<div>\n",
       "<style scoped>\n",
       "    .dataframe tbody tr th:only-of-type {\n",
       "        vertical-align: middle;\n",
       "    }\n",
       "\n",
       "    .dataframe tbody tr th {\n",
       "        vertical-align: top;\n",
       "    }\n",
       "\n",
       "    .dataframe thead th {\n",
       "        text-align: right;\n",
       "    }\n",
       "</style>\n",
       "<table border=\"1\" class=\"dataframe\">\n",
       "  <thead>\n",
       "    <tr style=\"text-align: right;\">\n",
       "      <th></th>\n",
       "      <th>overall</th>\n",
       "      <th>verified</th>\n",
       "      <th>reviewTime</th>\n",
       "      <th>reviewerID</th>\n",
       "      <th>asin</th>\n",
       "      <th>unixReviewTime</th>\n",
       "      <th>style</th>\n",
       "      <th>title</th>\n",
       "      <th>also_buy</th>\n",
       "      <th>rank</th>\n",
       "      <th>also_view</th>\n",
       "      <th>main_cat</th>\n",
       "      <th>price</th>\n",
       "      <th>brand</th>\n",
       "      <th>feature</th>\n",
       "    </tr>\n",
       "  </thead>\n",
       "  <tbody>\n",
       "    <tr>\n",
       "      <td>0</td>\n",
       "      <td>2.0</td>\n",
       "      <td>True</td>\n",
       "      <td>06 15, 2010</td>\n",
       "      <td>A1Q6MUU0B2ZDQG</td>\n",
       "      <td>B00004U9V2</td>\n",
       "      <td>1276560000</td>\n",
       "      <td>NaN</td>\n",
       "      <td>Crabtree &amp; Evelyn - Gardener's Ultra-Moisturis...</td>\n",
       "      <td>[B00GHX7H0A, B00FRERO7G, B00R68QXCS, B000Z65AZ...</td>\n",
       "      <td>4,324inBeautyPersonalCare(</td>\n",
       "      <td>[B00FRERO7G, B00GHX7H0A, B07GFHJRMX, B00TJ3NBN...</td>\n",
       "      <td>Luxury Beauty</td>\n",
       "      <td>$30.00</td>\n",
       "      <td>NaN</td>\n",
       "      <td>NaN</td>\n",
       "    </tr>\n",
       "    <tr>\n",
       "      <td>1</td>\n",
       "      <td>2.0</td>\n",
       "      <td>True</td>\n",
       "      <td>06 15, 2010</td>\n",
       "      <td>A1Q6MUU0B2ZDQG</td>\n",
       "      <td>B00004U9V2</td>\n",
       "      <td>1276560000</td>\n",
       "      <td>NaN</td>\n",
       "      <td>Crabtree &amp; Evelyn - Gardener's Ultra-Moisturis...</td>\n",
       "      <td>[B00GHX7H0A, B00FRERO7G, B00R68QXCS, B000Z65AZ...</td>\n",
       "      <td>4,324inBeautyPersonalCare(</td>\n",
       "      <td>[B00FRERO7G, B00GHX7H0A, B07GFHJRMX, B00TJ3NBN...</td>\n",
       "      <td>Luxury Beauty</td>\n",
       "      <td>$30.00</td>\n",
       "      <td>NaN</td>\n",
       "      <td>NaN</td>\n",
       "    </tr>\n",
       "    <tr>\n",
       "      <td>2</td>\n",
       "      <td>5.0</td>\n",
       "      <td>True</td>\n",
       "      <td>01 7, 2010</td>\n",
       "      <td>A3HO2SQDCZIE9S</td>\n",
       "      <td>B00004U9V2</td>\n",
       "      <td>1262822400</td>\n",
       "      <td>NaN</td>\n",
       "      <td>Crabtree &amp; Evelyn - Gardener's Ultra-Moisturis...</td>\n",
       "      <td>[B00GHX7H0A, B00FRERO7G, B00R68QXCS, B000Z65AZ...</td>\n",
       "      <td>4,324inBeautyPersonalCare(</td>\n",
       "      <td>[B00FRERO7G, B00GHX7H0A, B07GFHJRMX, B00TJ3NBN...</td>\n",
       "      <td>Luxury Beauty</td>\n",
       "      <td>$30.00</td>\n",
       "      <td>NaN</td>\n",
       "      <td>NaN</td>\n",
       "    </tr>\n",
       "    <tr>\n",
       "      <td>3</td>\n",
       "      <td>5.0</td>\n",
       "      <td>True</td>\n",
       "      <td>01 7, 2010</td>\n",
       "      <td>A3HO2SQDCZIE9S</td>\n",
       "      <td>B00004U9V2</td>\n",
       "      <td>1262822400</td>\n",
       "      <td>NaN</td>\n",
       "      <td>Crabtree &amp; Evelyn - Gardener's Ultra-Moisturis...</td>\n",
       "      <td>[B00GHX7H0A, B00FRERO7G, B00R68QXCS, B000Z65AZ...</td>\n",
       "      <td>4,324inBeautyPersonalCare(</td>\n",
       "      <td>[B00FRERO7G, B00GHX7H0A, B07GFHJRMX, B00TJ3NBN...</td>\n",
       "      <td>Luxury Beauty</td>\n",
       "      <td>$30.00</td>\n",
       "      <td>NaN</td>\n",
       "      <td>NaN</td>\n",
       "    </tr>\n",
       "    <tr>\n",
       "      <td>4</td>\n",
       "      <td>5.0</td>\n",
       "      <td>True</td>\n",
       "      <td>04 18, 2018</td>\n",
       "      <td>A2EM03F99X3RJZ</td>\n",
       "      <td>B00004U9V2</td>\n",
       "      <td>1524009600</td>\n",
       "      <td>{'Size:': ' 3.5 oz.'}</td>\n",
       "      <td>Crabtree &amp; Evelyn - Gardener's Ultra-Moisturis...</td>\n",
       "      <td>[B00GHX7H0A, B00FRERO7G, B00R68QXCS, B000Z65AZ...</td>\n",
       "      <td>4,324inBeautyPersonalCare(</td>\n",
       "      <td>[B00FRERO7G, B00GHX7H0A, B07GFHJRMX, B00TJ3NBN...</td>\n",
       "      <td>Luxury Beauty</td>\n",
       "      <td>$30.00</td>\n",
       "      <td>NaN</td>\n",
       "      <td>NaN</td>\n",
       "    </tr>\n",
       "  </tbody>\n",
       "</table>\n",
       "</div>"
      ],
      "text/plain": [
       "   overall  verified   reviewTime      reviewerID        asin  unixReviewTime  \\\n",
       "0      2.0      True  06 15, 2010  A1Q6MUU0B2ZDQG  B00004U9V2      1276560000   \n",
       "1      2.0      True  06 15, 2010  A1Q6MUU0B2ZDQG  B00004U9V2      1276560000   \n",
       "2      5.0      True   01 7, 2010  A3HO2SQDCZIE9S  B00004U9V2      1262822400   \n",
       "3      5.0      True   01 7, 2010  A3HO2SQDCZIE9S  B00004U9V2      1262822400   \n",
       "4      5.0      True  04 18, 2018  A2EM03F99X3RJZ  B00004U9V2      1524009600   \n",
       "\n",
       "                   style                                              title  \\\n",
       "0                    NaN  Crabtree & Evelyn - Gardener's Ultra-Moisturis...   \n",
       "1                    NaN  Crabtree & Evelyn - Gardener's Ultra-Moisturis...   \n",
       "2                    NaN  Crabtree & Evelyn - Gardener's Ultra-Moisturis...   \n",
       "3                    NaN  Crabtree & Evelyn - Gardener's Ultra-Moisturis...   \n",
       "4  {'Size:': ' 3.5 oz.'}  Crabtree & Evelyn - Gardener's Ultra-Moisturis...   \n",
       "\n",
       "                                            also_buy  \\\n",
       "0  [B00GHX7H0A, B00FRERO7G, B00R68QXCS, B000Z65AZ...   \n",
       "1  [B00GHX7H0A, B00FRERO7G, B00R68QXCS, B000Z65AZ...   \n",
       "2  [B00GHX7H0A, B00FRERO7G, B00R68QXCS, B000Z65AZ...   \n",
       "3  [B00GHX7H0A, B00FRERO7G, B00R68QXCS, B000Z65AZ...   \n",
       "4  [B00GHX7H0A, B00FRERO7G, B00R68QXCS, B000Z65AZ...   \n",
       "\n",
       "                         rank  \\\n",
       "0  4,324inBeautyPersonalCare(   \n",
       "1  4,324inBeautyPersonalCare(   \n",
       "2  4,324inBeautyPersonalCare(   \n",
       "3  4,324inBeautyPersonalCare(   \n",
       "4  4,324inBeautyPersonalCare(   \n",
       "\n",
       "                                           also_view       main_cat   price  \\\n",
       "0  [B00FRERO7G, B00GHX7H0A, B07GFHJRMX, B00TJ3NBN...  Luxury Beauty  $30.00   \n",
       "1  [B00FRERO7G, B00GHX7H0A, B07GFHJRMX, B00TJ3NBN...  Luxury Beauty  $30.00   \n",
       "2  [B00FRERO7G, B00GHX7H0A, B07GFHJRMX, B00TJ3NBN...  Luxury Beauty  $30.00   \n",
       "3  [B00FRERO7G, B00GHX7H0A, B07GFHJRMX, B00TJ3NBN...  Luxury Beauty  $30.00   \n",
       "4  [B00FRERO7G, B00GHX7H0A, B07GFHJRMX, B00TJ3NBN...  Luxury Beauty  $30.00   \n",
       "\n",
       "  brand feature  \n",
       "0   NaN     NaN  \n",
       "1   NaN     NaN  \n",
       "2   NaN     NaN  \n",
       "3   NaN     NaN  \n",
       "4   NaN     NaN  "
      ]
     },
     "execution_count": 9,
     "metadata": {},
     "output_type": "execute_result"
    }
   ],
   "source": [
    "df_lb_merged_dropnon = df_lb_merged.dropna(subset=['price'])\n",
    "df_lb_merged_dropnon.head()"
   ]
  },
  {
   "cell_type": "code",
   "execution_count": 10,
   "metadata": {
    "ExecuteTime": {
     "end_time": "2019-11-05T02:06:01.225660Z",
     "start_time": "2019-11-05T02:06:01.161166Z"
    }
   },
   "outputs": [
    {
     "name": "stderr",
     "output_type": "stream",
     "text": [
      "/Users/zhihuipan/anaconda3/envs/Data_visualisation/lib/python3.7/site-packages/ipykernel_launcher.py:2: SettingWithCopyWarning: \n",
      "A value is trying to be set on a copy of a slice from a DataFrame.\n",
      "Try using .loc[row_indexer,col_indexer] = value instead\n",
      "\n",
      "See the caveats in the documentation: http://pandas.pydata.org/pandas-docs/stable/user_guide/indexing.html#returning-a-view-versus-a-copy\n",
      "  \n"
     ]
    },
    {
     "data": {
      "text/html": [
       "<div>\n",
       "<style scoped>\n",
       "    .dataframe tbody tr th:only-of-type {\n",
       "        vertical-align: middle;\n",
       "    }\n",
       "\n",
       "    .dataframe tbody tr th {\n",
       "        vertical-align: top;\n",
       "    }\n",
       "\n",
       "    .dataframe thead th {\n",
       "        text-align: right;\n",
       "    }\n",
       "</style>\n",
       "<table border=\"1\" class=\"dataframe\">\n",
       "  <thead>\n",
       "    <tr style=\"text-align: right;\">\n",
       "      <th></th>\n",
       "      <th>overall</th>\n",
       "      <th>verified</th>\n",
       "      <th>reviewTime</th>\n",
       "      <th>reviewerID</th>\n",
       "      <th>asin</th>\n",
       "      <th>unixReviewTime</th>\n",
       "      <th>style</th>\n",
       "      <th>title</th>\n",
       "      <th>also_buy</th>\n",
       "      <th>rank</th>\n",
       "      <th>also_view</th>\n",
       "      <th>main_cat</th>\n",
       "      <th>price</th>\n",
       "      <th>brand</th>\n",
       "      <th>feature</th>\n",
       "      <th>DatetimeIndex</th>\n",
       "    </tr>\n",
       "  </thead>\n",
       "  <tbody>\n",
       "    <tr>\n",
       "      <td>0</td>\n",
       "      <td>2.0</td>\n",
       "      <td>True</td>\n",
       "      <td>06 15, 2010</td>\n",
       "      <td>A1Q6MUU0B2ZDQG</td>\n",
       "      <td>B00004U9V2</td>\n",
       "      <td>1276560000</td>\n",
       "      <td>NaN</td>\n",
       "      <td>Crabtree &amp; Evelyn - Gardener's Ultra-Moisturis...</td>\n",
       "      <td>[B00GHX7H0A, B00FRERO7G, B00R68QXCS, B000Z65AZ...</td>\n",
       "      <td>4,324inBeautyPersonalCare(</td>\n",
       "      <td>[B00FRERO7G, B00GHX7H0A, B07GFHJRMX, B00TJ3NBN...</td>\n",
       "      <td>Luxury Beauty</td>\n",
       "      <td>$30.00</td>\n",
       "      <td>NaN</td>\n",
       "      <td>NaN</td>\n",
       "      <td>2010-06-15</td>\n",
       "    </tr>\n",
       "    <tr>\n",
       "      <td>1</td>\n",
       "      <td>2.0</td>\n",
       "      <td>True</td>\n",
       "      <td>06 15, 2010</td>\n",
       "      <td>A1Q6MUU0B2ZDQG</td>\n",
       "      <td>B00004U9V2</td>\n",
       "      <td>1276560000</td>\n",
       "      <td>NaN</td>\n",
       "      <td>Crabtree &amp; Evelyn - Gardener's Ultra-Moisturis...</td>\n",
       "      <td>[B00GHX7H0A, B00FRERO7G, B00R68QXCS, B000Z65AZ...</td>\n",
       "      <td>4,324inBeautyPersonalCare(</td>\n",
       "      <td>[B00FRERO7G, B00GHX7H0A, B07GFHJRMX, B00TJ3NBN...</td>\n",
       "      <td>Luxury Beauty</td>\n",
       "      <td>$30.00</td>\n",
       "      <td>NaN</td>\n",
       "      <td>NaN</td>\n",
       "      <td>2010-06-15</td>\n",
       "    </tr>\n",
       "    <tr>\n",
       "      <td>2</td>\n",
       "      <td>5.0</td>\n",
       "      <td>True</td>\n",
       "      <td>01 7, 2010</td>\n",
       "      <td>A3HO2SQDCZIE9S</td>\n",
       "      <td>B00004U9V2</td>\n",
       "      <td>1262822400</td>\n",
       "      <td>NaN</td>\n",
       "      <td>Crabtree &amp; Evelyn - Gardener's Ultra-Moisturis...</td>\n",
       "      <td>[B00GHX7H0A, B00FRERO7G, B00R68QXCS, B000Z65AZ...</td>\n",
       "      <td>4,324inBeautyPersonalCare(</td>\n",
       "      <td>[B00FRERO7G, B00GHX7H0A, B07GFHJRMX, B00TJ3NBN...</td>\n",
       "      <td>Luxury Beauty</td>\n",
       "      <td>$30.00</td>\n",
       "      <td>NaN</td>\n",
       "      <td>NaN</td>\n",
       "      <td>2010-01-07</td>\n",
       "    </tr>\n",
       "    <tr>\n",
       "      <td>3</td>\n",
       "      <td>5.0</td>\n",
       "      <td>True</td>\n",
       "      <td>01 7, 2010</td>\n",
       "      <td>A3HO2SQDCZIE9S</td>\n",
       "      <td>B00004U9V2</td>\n",
       "      <td>1262822400</td>\n",
       "      <td>NaN</td>\n",
       "      <td>Crabtree &amp; Evelyn - Gardener's Ultra-Moisturis...</td>\n",
       "      <td>[B00GHX7H0A, B00FRERO7G, B00R68QXCS, B000Z65AZ...</td>\n",
       "      <td>4,324inBeautyPersonalCare(</td>\n",
       "      <td>[B00FRERO7G, B00GHX7H0A, B07GFHJRMX, B00TJ3NBN...</td>\n",
       "      <td>Luxury Beauty</td>\n",
       "      <td>$30.00</td>\n",
       "      <td>NaN</td>\n",
       "      <td>NaN</td>\n",
       "      <td>2010-01-07</td>\n",
       "    </tr>\n",
       "    <tr>\n",
       "      <td>4</td>\n",
       "      <td>5.0</td>\n",
       "      <td>True</td>\n",
       "      <td>04 18, 2018</td>\n",
       "      <td>A2EM03F99X3RJZ</td>\n",
       "      <td>B00004U9V2</td>\n",
       "      <td>1524009600</td>\n",
       "      <td>{'Size:': ' 3.5 oz.'}</td>\n",
       "      <td>Crabtree &amp; Evelyn - Gardener's Ultra-Moisturis...</td>\n",
       "      <td>[B00GHX7H0A, B00FRERO7G, B00R68QXCS, B000Z65AZ...</td>\n",
       "      <td>4,324inBeautyPersonalCare(</td>\n",
       "      <td>[B00FRERO7G, B00GHX7H0A, B07GFHJRMX, B00TJ3NBN...</td>\n",
       "      <td>Luxury Beauty</td>\n",
       "      <td>$30.00</td>\n",
       "      <td>NaN</td>\n",
       "      <td>NaN</td>\n",
       "      <td>2018-04-18</td>\n",
       "    </tr>\n",
       "  </tbody>\n",
       "</table>\n",
       "</div>"
      ],
      "text/plain": [
       "   overall  verified   reviewTime      reviewerID        asin  unixReviewTime  \\\n",
       "0      2.0      True  06 15, 2010  A1Q6MUU0B2ZDQG  B00004U9V2      1276560000   \n",
       "1      2.0      True  06 15, 2010  A1Q6MUU0B2ZDQG  B00004U9V2      1276560000   \n",
       "2      5.0      True   01 7, 2010  A3HO2SQDCZIE9S  B00004U9V2      1262822400   \n",
       "3      5.0      True   01 7, 2010  A3HO2SQDCZIE9S  B00004U9V2      1262822400   \n",
       "4      5.0      True  04 18, 2018  A2EM03F99X3RJZ  B00004U9V2      1524009600   \n",
       "\n",
       "                   style                                              title  \\\n",
       "0                    NaN  Crabtree & Evelyn - Gardener's Ultra-Moisturis...   \n",
       "1                    NaN  Crabtree & Evelyn - Gardener's Ultra-Moisturis...   \n",
       "2                    NaN  Crabtree & Evelyn - Gardener's Ultra-Moisturis...   \n",
       "3                    NaN  Crabtree & Evelyn - Gardener's Ultra-Moisturis...   \n",
       "4  {'Size:': ' 3.5 oz.'}  Crabtree & Evelyn - Gardener's Ultra-Moisturis...   \n",
       "\n",
       "                                            also_buy  \\\n",
       "0  [B00GHX7H0A, B00FRERO7G, B00R68QXCS, B000Z65AZ...   \n",
       "1  [B00GHX7H0A, B00FRERO7G, B00R68QXCS, B000Z65AZ...   \n",
       "2  [B00GHX7H0A, B00FRERO7G, B00R68QXCS, B000Z65AZ...   \n",
       "3  [B00GHX7H0A, B00FRERO7G, B00R68QXCS, B000Z65AZ...   \n",
       "4  [B00GHX7H0A, B00FRERO7G, B00R68QXCS, B000Z65AZ...   \n",
       "\n",
       "                         rank  \\\n",
       "0  4,324inBeautyPersonalCare(   \n",
       "1  4,324inBeautyPersonalCare(   \n",
       "2  4,324inBeautyPersonalCare(   \n",
       "3  4,324inBeautyPersonalCare(   \n",
       "4  4,324inBeautyPersonalCare(   \n",
       "\n",
       "                                           also_view       main_cat   price  \\\n",
       "0  [B00FRERO7G, B00GHX7H0A, B07GFHJRMX, B00TJ3NBN...  Luxury Beauty  $30.00   \n",
       "1  [B00FRERO7G, B00GHX7H0A, B07GFHJRMX, B00TJ3NBN...  Luxury Beauty  $30.00   \n",
       "2  [B00FRERO7G, B00GHX7H0A, B07GFHJRMX, B00TJ3NBN...  Luxury Beauty  $30.00   \n",
       "3  [B00FRERO7G, B00GHX7H0A, B07GFHJRMX, B00TJ3NBN...  Luxury Beauty  $30.00   \n",
       "4  [B00FRERO7G, B00GHX7H0A, B07GFHJRMX, B00TJ3NBN...  Luxury Beauty  $30.00   \n",
       "\n",
       "  brand feature DatetimeIndex  \n",
       "0   NaN     NaN    2010-06-15  \n",
       "1   NaN     NaN    2010-06-15  \n",
       "2   NaN     NaN    2010-01-07  \n",
       "3   NaN     NaN    2010-01-07  \n",
       "4   NaN     NaN    2018-04-18  "
      ]
     },
     "execution_count": 10,
     "metadata": {},
     "output_type": "execute_result"
    }
   ],
   "source": [
    "# Convert unixReviewTime to the datetime\n",
    "df_lb_merged_dropnon['DatetimeIndex'] = pd.to_datetime(df_lb_merged_dropnon['unixReviewTime'],unit='s')\n",
    "df_lb_merged_dropnon.head()"
   ]
  },
  {
   "cell_type": "code",
   "execution_count": 11,
   "metadata": {
    "ExecuteTime": {
     "end_time": "2019-11-05T02:06:02.333651Z",
     "start_time": "2019-11-05T02:06:01.227856Z"
    }
   },
   "outputs": [
    {
     "data": {
      "text/html": [
       "<div>\n",
       "<style scoped>\n",
       "    .dataframe tbody tr th:only-of-type {\n",
       "        vertical-align: middle;\n",
       "    }\n",
       "\n",
       "    .dataframe tbody tr th {\n",
       "        vertical-align: top;\n",
       "    }\n",
       "\n",
       "    .dataframe thead th {\n",
       "        text-align: right;\n",
       "    }\n",
       "</style>\n",
       "<table border=\"1\" class=\"dataframe\">\n",
       "  <thead>\n",
       "    <tr style=\"text-align: right;\">\n",
       "      <th></th>\n",
       "      <th></th>\n",
       "      <th>overall</th>\n",
       "    </tr>\n",
       "    <tr>\n",
       "      <th>asin</th>\n",
       "      <th>DatetimeIndex</th>\n",
       "      <th></th>\n",
       "    </tr>\n",
       "  </thead>\n",
       "  <tbody>\n",
       "    <tr>\n",
       "      <td rowspan=\"10\" valign=\"top\">B00004U9V2</td>\n",
       "      <td>2010-01-01</td>\n",
       "      <td>2</td>\n",
       "    </tr>\n",
       "    <tr>\n",
       "      <td>2010-06-01</td>\n",
       "      <td>2</td>\n",
       "    </tr>\n",
       "    <tr>\n",
       "      <td>2010-11-01</td>\n",
       "      <td>2</td>\n",
       "    </tr>\n",
       "    <tr>\n",
       "      <td>2011-01-01</td>\n",
       "      <td>2</td>\n",
       "    </tr>\n",
       "    <tr>\n",
       "      <td>2011-03-01</td>\n",
       "      <td>2</td>\n",
       "    </tr>\n",
       "    <tr>\n",
       "      <td>2011-11-01</td>\n",
       "      <td>2</td>\n",
       "    </tr>\n",
       "    <tr>\n",
       "      <td>2012-01-01</td>\n",
       "      <td>2</td>\n",
       "    </tr>\n",
       "    <tr>\n",
       "      <td>2012-02-01</td>\n",
       "      <td>2</td>\n",
       "    </tr>\n",
       "    <tr>\n",
       "      <td>2012-03-01</td>\n",
       "      <td>2</td>\n",
       "    </tr>\n",
       "    <tr>\n",
       "      <td>2012-06-01</td>\n",
       "      <td>4</td>\n",
       "    </tr>\n",
       "  </tbody>\n",
       "</table>\n",
       "</div>"
      ],
      "text/plain": [
       "                          overall\n",
       "asin       DatetimeIndex         \n",
       "B00004U9V2 2010-01-01           2\n",
       "           2010-06-01           2\n",
       "           2010-11-01           2\n",
       "           2011-01-01           2\n",
       "           2011-03-01           2\n",
       "           2011-11-01           2\n",
       "           2012-01-01           2\n",
       "           2012-02-01           2\n",
       "           2012-03-01           2\n",
       "           2012-06-01           4"
      ]
     },
     "execution_count": 11,
     "metadata": {},
     "output_type": "execute_result"
    }
   ],
   "source": [
    "# set the datetime as indext\n",
    "test_df = df_lb_merged_dropnon.set_index('DatetimeIndex')\n",
    "# Groupby \n",
    "a=pd.DataFrame(test_df.groupby(['asin', pd.Grouper(freq='MS')])['overall'].count())\n",
    "a.head(10)"
   ]
  },
  {
   "cell_type": "code",
   "execution_count": 51,
   "metadata": {
    "ExecuteTime": {
     "end_time": "2019-11-05T03:11:07.849788Z",
     "start_time": "2019-11-05T03:10:34.442384Z"
    }
   },
   "outputs": [
    {
     "name": "stderr",
     "output_type": "stream",
     "text": [
      "/Users/zhihuipan/anaconda3/envs/Data_visualisation/lib/python3.7/site-packages/ipykernel_launcher.py:1: FutureWarning: how in .resample() is deprecated\n",
      "the new syntax is .resample(...).first()\n",
      "  \"\"\"Entry point for launching an IPython kernel.\n"
     ]
    },
    {
     "data": {
      "text/html": [
       "<div>\n",
       "<style scoped>\n",
       "    .dataframe tbody tr th:only-of-type {\n",
       "        vertical-align: middle;\n",
       "    }\n",
       "\n",
       "    .dataframe tbody tr th {\n",
       "        vertical-align: top;\n",
       "    }\n",
       "\n",
       "    .dataframe thead th {\n",
       "        text-align: right;\n",
       "    }\n",
       "</style>\n",
       "<table border=\"1\" class=\"dataframe\">\n",
       "  <thead>\n",
       "    <tr style=\"text-align: right;\">\n",
       "      <th></th>\n",
       "      <th></th>\n",
       "      <th>overall</th>\n",
       "    </tr>\n",
       "    <tr>\n",
       "      <th>asin</th>\n",
       "      <th>DatetimeIndex</th>\n",
       "      <th></th>\n",
       "    </tr>\n",
       "  </thead>\n",
       "  <tbody>\n",
       "    <tr>\n",
       "      <td rowspan=\"5\" valign=\"top\">B00004U9V2</td>\n",
       "      <td>2010-01-31</td>\n",
       "      <td>2.0</td>\n",
       "    </tr>\n",
       "    <tr>\n",
       "      <td>2010-02-28</td>\n",
       "      <td>NaN</td>\n",
       "    </tr>\n",
       "    <tr>\n",
       "      <td>2010-03-31</td>\n",
       "      <td>NaN</td>\n",
       "    </tr>\n",
       "    <tr>\n",
       "      <td>2010-04-30</td>\n",
       "      <td>NaN</td>\n",
       "    </tr>\n",
       "    <tr>\n",
       "      <td>2010-05-31</td>\n",
       "      <td>NaN</td>\n",
       "    </tr>\n",
       "    <tr>\n",
       "      <td>...</td>\n",
       "      <td>...</td>\n",
       "      <td>...</td>\n",
       "    </tr>\n",
       "    <tr>\n",
       "      <td rowspan=\"3\" valign=\"top\">B01HIQIEYC</td>\n",
       "      <td>2018-05-31</td>\n",
       "      <td>NaN</td>\n",
       "    </tr>\n",
       "    <tr>\n",
       "      <td>2018-06-30</td>\n",
       "      <td>NaN</td>\n",
       "    </tr>\n",
       "    <tr>\n",
       "      <td>2018-07-31</td>\n",
       "      <td>1.0</td>\n",
       "    </tr>\n",
       "    <tr>\n",
       "      <td>B01HJ2UY0W</td>\n",
       "      <td>2016-12-31</td>\n",
       "      <td>1.0</td>\n",
       "    </tr>\n",
       "    <tr>\n",
       "      <td>B01HJ2UY1G</td>\n",
       "      <td>2017-01-31</td>\n",
       "      <td>1.0</td>\n",
       "    </tr>\n",
       "  </tbody>\n",
       "</table>\n",
       "<p>323531 rows × 1 columns</p>\n",
       "</div>"
      ],
      "text/plain": [
       "                          overall\n",
       "asin       DatetimeIndex         \n",
       "B00004U9V2 2010-01-31         2.0\n",
       "           2010-02-28         NaN\n",
       "           2010-03-31         NaN\n",
       "           2010-04-30         NaN\n",
       "           2010-05-31         NaN\n",
       "...                           ...\n",
       "B01HIQIEYC 2018-05-31         NaN\n",
       "           2018-06-30         NaN\n",
       "           2018-07-31         1.0\n",
       "B01HJ2UY0W 2016-12-31         1.0\n",
       "B01HJ2UY1G 2017-01-31         1.0\n",
       "\n",
       "[323531 rows x 1 columns]"
      ]
     },
     "execution_count": 51,
     "metadata": {},
     "output_type": "execute_result"
    }
   ],
   "source": [
    "#fill missing timeseries data \n",
    "f = lambda df: df.resample(rule='M', how='first')\n",
    "b = a.reset_index(level=0).groupby('asin').apply(f).drop('asin', axis=1)\n",
    "b"
   ]
  },
  {
   "cell_type": "code",
   "execution_count": 52,
   "metadata": {
    "ExecuteTime": {
     "end_time": "2019-11-05T03:17:56.954695Z",
     "start_time": "2019-11-05T03:17:56.941721Z"
    }
   },
   "outputs": [
    {
     "data": {
      "text/plain": [
       "asin        DatetimeIndex\n",
       "B00004U9V2  2010-01-31       2.0\n",
       "            2010-02-28       0.0\n",
       "            2010-03-31       0.0\n",
       "            2010-04-30       0.0\n",
       "            2010-05-31       0.0\n",
       "                            ... \n",
       "B01HIQIEYC  2018-05-31       0.0\n",
       "            2018-06-30       0.0\n",
       "            2018-07-31       1.0\n",
       "B01HJ2UY0W  2016-12-31       1.0\n",
       "B01HJ2UY1G  2017-01-31       1.0\n",
       "Name: overall, Length: 323531, dtype: float64"
      ]
     },
     "execution_count": 52,
     "metadata": {},
     "output_type": "execute_result"
    }
   ],
   "source": [
    "#replace none with zero\n",
    "b['overall'].fillna(0)"
   ]
  },
  {
   "cell_type": "code",
   "execution_count": 76,
   "metadata": {
    "ExecuteTime": {
     "end_time": "2019-11-05T04:13:36.251948Z",
     "start_time": "2019-11-05T04:13:36.248214Z"
    }
   },
   "outputs": [
    {
     "ename": "SyntaxError",
     "evalue": "invalid syntax (<ipython-input-76-baf1dbc79de7>, line 3)",
     "output_type": "error",
     "traceback": [
      "\u001b[0;36m  File \u001b[0;32m\"<ipython-input-76-baf1dbc79de7>\"\u001b[0;36m, line \u001b[0;32m3\u001b[0m\n\u001b[0;31m    b.loc[idx[:,[1:2]],:]\u001b[0m\n\u001b[0m                  ^\u001b[0m\n\u001b[0;31mSyntaxError\u001b[0m\u001b[0;31m:\u001b[0m invalid syntax\n"
     ]
    }
   ],
   "source": [
    "idx = pd.IndexSlice \n",
    "# Top 6 \n",
    "b.loc[idx[:,[12]],:]\n"
   ]
  },
  {
   "cell_type": "code",
   "execution_count": 12,
   "metadata": {
    "ExecuteTime": {
     "end_time": "2019-11-05T02:06:02.444953Z",
     "start_time": "2019-11-05T02:06:02.336661Z"
    }
   },
   "outputs": [
    {
     "data": {
      "text/plain": [
       "array(['B00004U9V2', 'B00005A77F', 'B00005NDTD', ..., 'B01HIIO7Q4',\n",
       "       'B01HJ2UY0W', 'B01HJ2UY1G'], dtype=object)"
      ]
     },
     "execution_count": 12,
     "metadata": {},
     "output_type": "execute_result"
    }
   ],
   "source": [
    "df_lb_merged_dropnon['asin'].unique()"
   ]
  },
  {
   "cell_type": "code",
   "execution_count": 50,
   "metadata": {
    "ExecuteTime": {
     "end_time": "2019-11-05T03:07:45.522329Z",
     "start_time": "2019-11-05T03:07:45.511565Z"
    }
   },
   "outputs": [
    {
     "data": {
      "text/html": [
       "<div>\n",
       "<style scoped>\n",
       "    .dataframe tbody tr th:only-of-type {\n",
       "        vertical-align: middle;\n",
       "    }\n",
       "\n",
       "    .dataframe tbody tr th {\n",
       "        vertical-align: top;\n",
       "    }\n",
       "\n",
       "    .dataframe thead th {\n",
       "        text-align: right;\n",
       "    }\n",
       "</style>\n",
       "<table border=\"1\" class=\"dataframe\">\n",
       "  <thead>\n",
       "    <tr style=\"text-align: right;\">\n",
       "      <th></th>\n",
       "      <th>overall</th>\n",
       "    </tr>\n",
       "    <tr>\n",
       "      <th>DatetimeIndex</th>\n",
       "      <th></th>\n",
       "    </tr>\n",
       "  </thead>\n",
       "  <tbody>\n",
       "    <tr>\n",
       "      <td>2017-08-31</td>\n",
       "      <td>2.0</td>\n",
       "    </tr>\n",
       "    <tr>\n",
       "      <td>2017-09-30</td>\n",
       "      <td>NaN</td>\n",
       "    </tr>\n",
       "    <tr>\n",
       "      <td>2017-10-31</td>\n",
       "      <td>NaN</td>\n",
       "    </tr>\n",
       "    <tr>\n",
       "      <td>2017-11-30</td>\n",
       "      <td>NaN</td>\n",
       "    </tr>\n",
       "    <tr>\n",
       "      <td>2017-12-31</td>\n",
       "      <td>2.0</td>\n",
       "    </tr>\n",
       "    <tr>\n",
       "      <td>2018-01-31</td>\n",
       "      <td>2.0</td>\n",
       "    </tr>\n",
       "    <tr>\n",
       "      <td>2018-02-28</td>\n",
       "      <td>6.0</td>\n",
       "    </tr>\n",
       "    <tr>\n",
       "      <td>2018-03-31</td>\n",
       "      <td>NaN</td>\n",
       "    </tr>\n",
       "    <tr>\n",
       "      <td>2018-04-30</td>\n",
       "      <td>2.0</td>\n",
       "    </tr>\n",
       "    <tr>\n",
       "      <td>2018-05-31</td>\n",
       "      <td>2.0</td>\n",
       "    </tr>\n",
       "  </tbody>\n",
       "</table>\n",
       "</div>"
      ],
      "text/plain": [
       "               overall\n",
       "DatetimeIndex         \n",
       "2017-08-31         2.0\n",
       "2017-09-30         NaN\n",
       "2017-10-31         NaN\n",
       "2017-11-30         NaN\n",
       "2017-12-31         2.0\n",
       "2018-01-31         2.0\n",
       "2018-02-28         6.0\n",
       "2018-03-31         NaN\n",
       "2018-04-30         2.0\n",
       "2018-05-31         2.0"
      ]
     },
     "execution_count": 50,
     "metadata": {},
     "output_type": "execute_result"
    }
   ],
   "source": [
    "\n",
    "b.loc['B00005NDTD'].tail(10)"
   ]
  },
  {
   "cell_type": "code",
   "execution_count": 14,
   "metadata": {
    "ExecuteTime": {
     "end_time": "2019-11-05T02:06:02.465077Z",
     "start_time": "2019-11-05T02:06:02.462708Z"
    }
   },
   "outputs": [],
   "source": [
    "###################"
   ]
  },
  {
   "cell_type": "code",
   "execution_count": 15,
   "metadata": {
    "ExecuteTime": {
     "end_time": "2019-11-05T02:06:02.719292Z",
     "start_time": "2019-11-05T02:06:02.466738Z"
    }
   },
   "outputs": [
    {
     "ename": "NameError",
     "evalue": "name 'df_ab_merged_dropnon' is not defined",
     "output_type": "error",
     "traceback": [
      "\u001b[0;31m---------------------------------------------------------------------------\u001b[0m",
      "\u001b[0;31mNameError\u001b[0m                                 Traceback (most recent call last)",
      "\u001b[0;32m<ipython-input-15-0a5458d2dc99>\u001b[0m in \u001b[0;36m<module>\u001b[0;34m\u001b[0m\n\u001b[1;32m      1\u001b[0m \u001b[0mdf_ab_merged\u001b[0m\u001b[0;34m.\u001b[0m\u001b[0mdropna\u001b[0m\u001b[0;34m(\u001b[0m\u001b[0msubset\u001b[0m\u001b[0;34m=\u001b[0m\u001b[0;34m[\u001b[0m\u001b[0;34m'price'\u001b[0m\u001b[0;34m]\u001b[0m\u001b[0;34m)\u001b[0m\u001b[0;34m\u001b[0m\u001b[0;34m\u001b[0m\u001b[0m\n\u001b[0;32m----> 2\u001b[0;31m \u001b[0mdf_ab_merged_dropnon\u001b[0m\u001b[0;34m.\u001b[0m\u001b[0mhead\u001b[0m\u001b[0;34m(\u001b[0m\u001b[0;34m)\u001b[0m\u001b[0;34m\u001b[0m\u001b[0;34m\u001b[0m\u001b[0m\n\u001b[0m",
      "\u001b[0;31mNameError\u001b[0m: name 'df_ab_merged_dropnon' is not defined"
     ]
    }
   ],
   "source": [
    "df_ab_merged.dropna(subset=['price'])\n",
    "df_ab_merged_dropnon.head()"
   ]
  },
  {
   "cell_type": "code",
   "execution_count": null,
   "metadata": {
    "ExecuteTime": {
     "end_time": "2019-11-05T02:06:02.724252Z",
     "start_time": "2019-11-05T02:05:26.823Z"
    }
   },
   "outputs": [],
   "source": [
    "df_ab_merged.head()"
   ]
  },
  {
   "cell_type": "code",
   "execution_count": null,
   "metadata": {},
   "outputs": [],
   "source": []
  },
  {
   "cell_type": "code",
   "execution_count": null,
   "metadata": {},
   "outputs": [],
   "source": []
  },
  {
   "cell_type": "code",
   "execution_count": null,
   "metadata": {},
   "outputs": [],
   "source": []
  },
  {
   "cell_type": "code",
   "execution_count": null,
   "metadata": {},
   "outputs": [],
   "source": []
  },
  {
   "cell_type": "code",
   "execution_count": null,
   "metadata": {},
   "outputs": [],
   "source": []
  },
  {
   "cell_type": "code",
   "execution_count": null,
   "metadata": {},
   "outputs": [],
   "source": []
  },
  {
   "cell_type": "code",
   "execution_count": null,
   "metadata": {},
   "outputs": [],
   "source": []
  },
  {
   "cell_type": "code",
   "execution_count": null,
   "metadata": {
    "ExecuteTime": {
     "end_time": "2019-11-05T02:06:02.725774Z",
     "start_time": "2019-11-05T02:05:26.829Z"
    }
   },
   "outputs": [],
   "source": [
    "# groupby count - after cleaning\n",
    "df_ab_merged.groupby('asin')['price'].agg('count')\n",
    "df_lb_merged.groupby('asin')['price'].agg('count')"
   ]
  },
  {
   "cell_type": "code",
   "execution_count": null,
   "metadata": {
    "ExecuteTime": {
     "end_time": "2019-11-05T02:06:02.727486Z",
     "start_time": "2019-11-05T02:05:26.831Z"
    }
   },
   "outputs": [],
   "source": [
    "df_lb_r.tail(10)"
   ]
  },
  {
   "cell_type": "code",
   "execution_count": null,
   "metadata": {
    "ExecuteTime": {
     "end_time": "2019-11-05T02:06:02.728953Z",
     "start_time": "2019-11-05T02:05:26.833Z"
    }
   },
   "outputs": [],
   "source": [
    "df_lb_m.head()"
   ]
  },
  {
   "cell_type": "code",
   "execution_count": null,
   "metadata": {
    "ExecuteTime": {
     "end_time": "2019-11-05T02:06:02.731016Z",
     "start_time": "2019-11-05T02:05:26.834Z"
    }
   },
   "outputs": [],
   "source": [
    "#compute average rating\n",
    "ratings = []\n",
    "\n",
    "for review in parse('All_Beauty.json.gz'):\n",
    "    ratings.append(review['overall'])\n",
    "    \n",
    "print (sum(ratings) / len(ratings))"
   ]
  }
 ],
 "metadata": {
  "kernelspec": {
   "display_name": "Python 3",
   "language": "python",
   "name": "python3"
  },
  "language_info": {
   "codemirror_mode": {
    "name": "ipython",
    "version": 3
   },
   "file_extension": ".py",
   "mimetype": "text/x-python",
   "name": "python",
   "nbconvert_exporter": "python",
   "pygments_lexer": "ipython3",
   "version": "3.7.4"
  },
  "toc": {
   "base_numbering": 1,
   "nav_menu": {},
   "number_sections": true,
   "sideBar": true,
   "skip_h1_title": false,
   "title_cell": "Table of Contents",
   "title_sidebar": "Contents",
   "toc_cell": false,
   "toc_position": {},
   "toc_section_display": true,
   "toc_window_display": false
  },
  "varInspector": {
   "cols": {
    "lenName": 16,
    "lenType": 16,
    "lenVar": 40
   },
   "kernels_config": {
    "python": {
     "delete_cmd_postfix": "",
     "delete_cmd_prefix": "del ",
     "library": "var_list.py",
     "varRefreshCmd": "print(var_dic_list())"
    },
    "r": {
     "delete_cmd_postfix": ") ",
     "delete_cmd_prefix": "rm(",
     "library": "var_list.r",
     "varRefreshCmd": "cat(var_dic_list()) "
    }
   },
   "oldHeight": 280.984375,
   "position": {
    "height": "322.984375px",
    "left": "1158px",
    "right": "20px",
    "top": "112px",
    "width": "250px"
   },
   "types_to_exclude": [
    "module",
    "function",
    "builtin_function_or_method",
    "instance",
    "_Feature"
   ],
   "varInspector_section_display": "block",
   "window_display": true
  }
 },
 "nbformat": 4,
 "nbformat_minor": 2
}
