{
 "cells": [
  {
   "cell_type": "markdown",
   "metadata": {},
   "source": [
    "# Import relevant libraries"
   ]
  },
  {
   "cell_type": "code",
   "execution_count": 7,
   "metadata": {
    "ExecuteTime": {
     "end_time": "2019-11-08T15:45:01.560463Z",
     "start_time": "2019-11-08T15:45:01.554712Z"
    }
   },
   "outputs": [],
   "source": [
    "#set up\n",
    "import json\n",
    "import gzip\n",
    "import pandas as pd \n",
    "import numpy as np\n",
    "import matplotlib.pyplot as plt\n",
    "import matplotlib.gridspec as gridspec\n",
    "import datetime\n"
   ]
  },
  {
   "cell_type": "code",
   "execution_count": 8,
   "metadata": {
    "ExecuteTime": {
     "end_time": "2019-11-08T15:45:03.185774Z",
     "start_time": "2019-11-08T15:45:03.179896Z"
    }
   },
   "outputs": [],
   "source": [
    "plt.style.use('fivethirtyeight')"
   ]
  },
  {
   "cell_type": "markdown",
   "metadata": {
    "ExecuteTime": {
     "end_time": "2019-10-30T16:31:59.325160Z",
     "start_time": "2019-10-30T16:31:59.319178Z"
    }
   },
   "source": [
    "# Read data"
   ]
  },
  {
   "cell_type": "code",
   "execution_count": 9,
   "metadata": {
    "ExecuteTime": {
     "end_time": "2019-11-08T15:45:04.712622Z",
     "start_time": "2019-11-08T15:45:04.705095Z"
    }
   },
   "outputs": [],
   "source": [
    "def parse(path):\n",
    "    g = gzip.open(path, 'rb')\n",
    "    for i in g:\n",
    "        yield json.loads(i)\n",
    "        \n",
    "def getDF(path):\n",
    "    i = 0\n",
    "    df = {}\n",
    "    for d in parse(path):\n",
    "        df[i] = d\n",
    "        i += 1\n",
    "    return pd.DataFrame.from_dict(df, orient = 'index')"
   ]
  },
  {
   "cell_type": "code",
   "execution_count": 10,
   "metadata": {
    "ExecuteTime": {
     "end_time": "2019-11-08T15:46:17.281686Z",
     "start_time": "2019-11-08T15:45:06.067073Z"
    }
   },
   "outputs": [],
   "source": [
    "ab_r = getDF('All_Beauty.json.gz')\n",
    "ab_m = getDF('meta_All_Beauty.json.gz')\n",
    "lb_r = getDF('Luxury_Beauty.json.gz')\n",
    "lb_m = getDF('meta_Luxury_Beauty.json.gz')"
   ]
  },
  {
   "cell_type": "code",
   "execution_count": 38,
   "metadata": {
    "ExecuteTime": {
     "end_time": "2019-11-08T16:01:31.487573Z",
     "start_time": "2019-11-08T16:01:29.490375Z"
    }
   },
   "outputs": [],
   "source": [
    "# merge the data\n",
    "\n",
    "ab_merged = pd.merge(ab_r, ab_m, how='inner', on ='asin')\n",
    "lb_merged = pd.merge(lb_r, lb_m, how='inner', on ='asin')"
   ]
  },
  {
   "cell_type": "code",
   "execution_count": 39,
   "metadata": {
    "ExecuteTime": {
     "end_time": "2019-11-08T16:01:53.839716Z",
     "start_time": "2019-11-08T16:01:53.798296Z"
    }
   },
   "outputs": [
    {
     "data": {
      "text/html": [
       "<div>\n",
       "<style scoped>\n",
       "    .dataframe tbody tr th:only-of-type {\n",
       "        vertical-align: middle;\n",
       "    }\n",
       "\n",
       "    .dataframe tbody tr th {\n",
       "        vertical-align: top;\n",
       "    }\n",
       "\n",
       "    .dataframe thead th {\n",
       "        text-align: right;\n",
       "    }\n",
       "</style>\n",
       "<table border=\"1\" class=\"dataframe\">\n",
       "  <thead>\n",
       "    <tr style=\"text-align: right;\">\n",
       "      <th></th>\n",
       "      <th>overall</th>\n",
       "      <th>verified</th>\n",
       "      <th>reviewTime</th>\n",
       "      <th>reviewerID</th>\n",
       "      <th>asin</th>\n",
       "      <th>reviewerName</th>\n",
       "      <th>reviewText</th>\n",
       "      <th>summary</th>\n",
       "      <th>unixReviewTime</th>\n",
       "      <th>vote</th>\n",
       "      <th>...</th>\n",
       "      <th>main_cat</th>\n",
       "      <th>description</th>\n",
       "      <th>also_view</th>\n",
       "      <th>also_buy</th>\n",
       "      <th>price</th>\n",
       "      <th>similar_item</th>\n",
       "      <th>details</th>\n",
       "      <th>feature</th>\n",
       "      <th>tech1</th>\n",
       "      <th>date</th>\n",
       "    </tr>\n",
       "  </thead>\n",
       "  <tbody>\n",
       "    <tr>\n",
       "      <td>0</td>\n",
       "      <td>1.0</td>\n",
       "      <td>True</td>\n",
       "      <td>02 19, 2015</td>\n",
       "      <td>A1V6B6TNIC10QE</td>\n",
       "      <td>0143026860</td>\n",
       "      <td>theodore j bigham</td>\n",
       "      <td>great</td>\n",
       "      <td>One Star</td>\n",
       "      <td>1424304000</td>\n",
       "      <td>NaN</td>\n",
       "      <td>...</td>\n",
       "      <td>All Beauty</td>\n",
       "      <td>[This is the NEW PURPLE BOTTLE that just came ...</td>\n",
       "      <td>[B000LXTNMW]</td>\n",
       "      <td>NaN</td>\n",
       "      <td>NaN</td>\n",
       "      <td>NaN</td>\n",
       "      <td>NaN</td>\n",
       "      <td>NaN</td>\n",
       "      <td>NaN</td>\n",
       "      <td>NaN</td>\n",
       "    </tr>\n",
       "    <tr>\n",
       "      <td>1</td>\n",
       "      <td>4.0</td>\n",
       "      <td>True</td>\n",
       "      <td>12 18, 2014</td>\n",
       "      <td>A2F5GHSXFQ0W6J</td>\n",
       "      <td>0143026860</td>\n",
       "      <td>Mary K. Byke</td>\n",
       "      <td>My  husband wanted to reading about the Negro ...</td>\n",
       "      <td>... to reading about the Negro Baseball and th...</td>\n",
       "      <td>1418860800</td>\n",
       "      <td>NaN</td>\n",
       "      <td>...</td>\n",
       "      <td>All Beauty</td>\n",
       "      <td>[This is the NEW PURPLE BOTTLE that just came ...</td>\n",
       "      <td>[B000LXTNMW]</td>\n",
       "      <td>NaN</td>\n",
       "      <td>NaN</td>\n",
       "      <td>NaN</td>\n",
       "      <td>NaN</td>\n",
       "      <td>NaN</td>\n",
       "      <td>NaN</td>\n",
       "      <td>NaN</td>\n",
       "    </tr>\n",
       "    <tr>\n",
       "      <td>2</td>\n",
       "      <td>4.0</td>\n",
       "      <td>True</td>\n",
       "      <td>08 10, 2014</td>\n",
       "      <td>A1572GUYS7DGSR</td>\n",
       "      <td>0143026860</td>\n",
       "      <td>David G</td>\n",
       "      <td>This book was very informative, covering all a...</td>\n",
       "      <td>Worth the Read</td>\n",
       "      <td>1407628800</td>\n",
       "      <td>NaN</td>\n",
       "      <td>...</td>\n",
       "      <td>All Beauty</td>\n",
       "      <td>[This is the NEW PURPLE BOTTLE that just came ...</td>\n",
       "      <td>[B000LXTNMW]</td>\n",
       "      <td>NaN</td>\n",
       "      <td>NaN</td>\n",
       "      <td>NaN</td>\n",
       "      <td>NaN</td>\n",
       "      <td>NaN</td>\n",
       "      <td>NaN</td>\n",
       "      <td>NaN</td>\n",
       "    </tr>\n",
       "    <tr>\n",
       "      <td>3</td>\n",
       "      <td>5.0</td>\n",
       "      <td>True</td>\n",
       "      <td>03 11, 2013</td>\n",
       "      <td>A1PSGLFK1NSVO</td>\n",
       "      <td>0143026860</td>\n",
       "      <td>TamB</td>\n",
       "      <td>I am already a baseball fan and knew a bit abo...</td>\n",
       "      <td>Good Read</td>\n",
       "      <td>1362960000</td>\n",
       "      <td>NaN</td>\n",
       "      <td>...</td>\n",
       "      <td>All Beauty</td>\n",
       "      <td>[This is the NEW PURPLE BOTTLE that just came ...</td>\n",
       "      <td>[B000LXTNMW]</td>\n",
       "      <td>NaN</td>\n",
       "      <td>NaN</td>\n",
       "      <td>NaN</td>\n",
       "      <td>NaN</td>\n",
       "      <td>NaN</td>\n",
       "      <td>NaN</td>\n",
       "      <td>NaN</td>\n",
       "    </tr>\n",
       "    <tr>\n",
       "      <td>4</td>\n",
       "      <td>5.0</td>\n",
       "      <td>True</td>\n",
       "      <td>12 25, 2011</td>\n",
       "      <td>A6IKXKZMTKGSC</td>\n",
       "      <td>0143026860</td>\n",
       "      <td>shoecanary</td>\n",
       "      <td>This was a good story of the Black leagues. I ...</td>\n",
       "      <td>More than facts, a good story read!</td>\n",
       "      <td>1324771200</td>\n",
       "      <td>5</td>\n",
       "      <td>...</td>\n",
       "      <td>All Beauty</td>\n",
       "      <td>[This is the NEW PURPLE BOTTLE that just came ...</td>\n",
       "      <td>[B000LXTNMW]</td>\n",
       "      <td>NaN</td>\n",
       "      <td>NaN</td>\n",
       "      <td>NaN</td>\n",
       "      <td>NaN</td>\n",
       "      <td>NaN</td>\n",
       "      <td>NaN</td>\n",
       "      <td>NaN</td>\n",
       "    </tr>\n",
       "  </tbody>\n",
       "</table>\n",
       "<p>5 rows × 26 columns</p>\n",
       "</div>"
      ],
      "text/plain": [
       "   overall  verified   reviewTime      reviewerID        asin  \\\n",
       "0      1.0      True  02 19, 2015  A1V6B6TNIC10QE  0143026860   \n",
       "1      4.0      True  12 18, 2014  A2F5GHSXFQ0W6J  0143026860   \n",
       "2      4.0      True  08 10, 2014  A1572GUYS7DGSR  0143026860   \n",
       "3      5.0      True  03 11, 2013   A1PSGLFK1NSVO  0143026860   \n",
       "4      5.0      True  12 25, 2011   A6IKXKZMTKGSC  0143026860   \n",
       "\n",
       "        reviewerName                                         reviewText  \\\n",
       "0  theodore j bigham                                              great   \n",
       "1       Mary K. Byke  My  husband wanted to reading about the Negro ...   \n",
       "2            David G  This book was very informative, covering all a...   \n",
       "3               TamB  I am already a baseball fan and knew a bit abo...   \n",
       "4         shoecanary  This was a good story of the Black leagues. I ...   \n",
       "\n",
       "                                             summary  unixReviewTime vote  \\\n",
       "0                                           One Star      1424304000  NaN   \n",
       "1  ... to reading about the Negro Baseball and th...      1418860800  NaN   \n",
       "2                                     Worth the Read      1407628800  NaN   \n",
       "3                                          Good Read      1362960000  NaN   \n",
       "4                More than facts, a good story read!      1324771200    5   \n",
       "\n",
       "   ...    main_cat                                        description  \\\n",
       "0  ...  All Beauty  [This is the NEW PURPLE BOTTLE that just came ...   \n",
       "1  ...  All Beauty  [This is the NEW PURPLE BOTTLE that just came ...   \n",
       "2  ...  All Beauty  [This is the NEW PURPLE BOTTLE that just came ...   \n",
       "3  ...  All Beauty  [This is the NEW PURPLE BOTTLE that just came ...   \n",
       "4  ...  All Beauty  [This is the NEW PURPLE BOTTLE that just came ...   \n",
       "\n",
       "      also_view also_buy price similar_item details feature tech1 date  \n",
       "0  [B000LXTNMW]      NaN   NaN          NaN     NaN     NaN   NaN  NaN  \n",
       "1  [B000LXTNMW]      NaN   NaN          NaN     NaN     NaN   NaN  NaN  \n",
       "2  [B000LXTNMW]      NaN   NaN          NaN     NaN     NaN   NaN  NaN  \n",
       "3  [B000LXTNMW]      NaN   NaN          NaN     NaN     NaN   NaN  NaN  \n",
       "4  [B000LXTNMW]      NaN   NaN          NaN     NaN     NaN   NaN  NaN  \n",
       "\n",
       "[5 rows x 26 columns]"
      ]
     },
     "execution_count": 39,
     "metadata": {},
     "output_type": "execute_result"
    }
   ],
   "source": [
    "ab_merged.head()"
   ]
  },
  {
   "cell_type": "markdown",
   "metadata": {},
   "source": [
    "# Data Cleaning"
   ]
  },
  {
   "cell_type": "code",
   "execution_count": 40,
   "metadata": {
    "ExecuteTime": {
     "end_time": "2019-11-08T16:02:17.202961Z",
     "start_time": "2019-11-08T16:02:15.938308Z"
    }
   },
   "outputs": [],
   "source": [
    "# data cleaning\n",
    "to_drop = ['vote','reviewText', 'reviewerName', 'summary','image_x', 'image_y', 'description', 'details']\n",
    "ab_merged.drop(to_drop, inplace=True, axis=1)\n",
    "lb_merged.drop(to_drop, inplace=True, axis=1)"
   ]
  },
  {
   "cell_type": "code",
   "execution_count": 42,
   "metadata": {
    "ExecuteTime": {
     "end_time": "2019-11-08T16:02:39.019669Z",
     "start_time": "2019-11-08T16:02:38.748395Z"
    }
   },
   "outputs": [],
   "source": [
    "## drop NaN\n",
    "\n",
    "lb_merged_non = lb_merged.dropna(subset=['price'])\n",
    "ab_merged_non = ab_merged.dropna(subset=['price'])"
   ]
  },
  {
   "cell_type": "code",
   "execution_count": 484,
   "metadata": {
    "ExecuteTime": {
     "end_time": "2019-11-08T22:05:59.293424Z",
     "start_time": "2019-11-08T22:05:59.224610Z"
    }
   },
   "outputs": [
    {
     "name": "stderr",
     "output_type": "stream",
     "text": [
      "C:\\Users\\Tunky\\Anaconda3\\envs\\smn635\\lib\\site-packages\\ipykernel_launcher.py:2: SettingWithCopyWarning: \n",
      "A value is trying to be set on a copy of a slice from a DataFrame.\n",
      "Try using .loc[row_indexer,col_indexer] = value instead\n",
      "\n",
      "See the caveats in the documentation: http://pandas.pydata.org/pandas-docs/stable/user_guide/indexing.html#returning-a-view-versus-a-copy\n",
      "  \n",
      "C:\\Users\\Tunky\\Anaconda3\\envs\\smn635\\lib\\site-packages\\ipykernel_launcher.py:3: SettingWithCopyWarning: \n",
      "A value is trying to be set on a copy of a slice from a DataFrame.\n",
      "Try using .loc[row_indexer,col_indexer] = value instead\n",
      "\n",
      "See the caveats in the documentation: http://pandas.pydata.org/pandas-docs/stable/user_guide/indexing.html#returning-a-view-versus-a-copy\n",
      "  This is separate from the ipykernel package so we can avoid doing imports until\n"
     ]
    }
   ],
   "source": [
    "## Convert unixReviewTime to the datetime\n",
    "ab_merged_non['DatetimeIndex'] = pd.to_datetime(ab_merged_non['unixReviewTime'],unit='s')\n",
    "lb_merged_non['DatetimeIndex'] = pd.to_datetime(lb_merged_non['unixReviewTime'],unit='s')"
   ]
  },
  {
   "cell_type": "code",
   "execution_count": 485,
   "metadata": {
    "ExecuteTime": {
     "end_time": "2019-11-08T22:06:04.513730Z",
     "start_time": "2019-11-08T22:06:04.505740Z"
    }
   },
   "outputs": [],
   "source": [
    "## build a conver_currency function\n",
    "def conver_currency(value):\n",
    "    \"\"\"\n",
    "    =============================\n",
    "    Argument: string\n",
    "    convert currency \n",
    "    - remove $\n",
    "    - convert string to float\n",
    "    \n",
    "    Return: float\n",
    "    =============================\n",
    "    \n",
    "    \"\"\"\n",
    "    new_value = value.replace(',','').replace('$','')\n",
    "    return np.float(new_value)\n",
    "\n",
    "def to_float(x):\n",
    "    return np.float(x)"
   ]
  },
  {
   "cell_type": "code",
   "execution_count": 486,
   "metadata": {
    "ExecuteTime": {
     "end_time": "2019-11-08T22:06:15.919793Z",
     "start_time": "2019-11-08T22:06:15.766204Z"
    }
   },
   "outputs": [
    {
     "ename": "ValueError",
     "evalue": "could not convert string to float: '12.90 - 169.95'",
     "output_type": "error",
     "traceback": [
      "\u001b[1;31m---------------------------------------------------------------------------\u001b[0m",
      "\u001b[1;31mValueError\u001b[0m                                Traceback (most recent call last)",
      "\u001b[1;32m<ipython-input-486-af04b1c23784>\u001b[0m in \u001b[0;36m<module>\u001b[1;34m\u001b[0m\n\u001b[0;32m      1\u001b[0m \u001b[1;31m## convert string to float\u001b[0m\u001b[1;33m\u001b[0m\u001b[1;33m\u001b[0m\u001b[1;33m\u001b[0m\u001b[0m\n\u001b[1;32m----> 2\u001b[1;33m \u001b[0mab_merged_non\u001b[0m\u001b[1;33m[\u001b[0m\u001b[1;34m'price'\u001b[0m\u001b[1;33m]\u001b[0m \u001b[1;33m=\u001b[0m \u001b[0mab_merged_non\u001b[0m\u001b[1;33m[\u001b[0m\u001b[1;34m'price'\u001b[0m\u001b[1;33m]\u001b[0m\u001b[1;33m.\u001b[0m\u001b[0mapply\u001b[0m\u001b[1;33m(\u001b[0m\u001b[0mconver_currency\u001b[0m\u001b[1;33m)\u001b[0m\u001b[1;33m\u001b[0m\u001b[1;33m\u001b[0m\u001b[0m\n\u001b[0m\u001b[0;32m      3\u001b[0m \u001b[0mlb_merged_non\u001b[0m\u001b[1;33m[\u001b[0m\u001b[1;34m'price'\u001b[0m\u001b[1;33m]\u001b[0m \u001b[1;33m=\u001b[0m \u001b[0mlb_merged_non\u001b[0m\u001b[1;33m[\u001b[0m\u001b[1;34m'price'\u001b[0m\u001b[1;33m]\u001b[0m\u001b[1;33m.\u001b[0m\u001b[0mapply\u001b[0m\u001b[1;33m(\u001b[0m\u001b[0mconver_currency\u001b[0m\u001b[1;33m)\u001b[0m\u001b[1;33m\u001b[0m\u001b[1;33m\u001b[0m\u001b[0m\n",
      "\u001b[1;32m~\\Anaconda3\\envs\\smn635\\lib\\site-packages\\pandas\\core\\series.py\u001b[0m in \u001b[0;36mapply\u001b[1;34m(self, func, convert_dtype, args, **kwds)\u001b[0m\n\u001b[0;32m   4040\u001b[0m             \u001b[1;32melse\u001b[0m\u001b[1;33m:\u001b[0m\u001b[1;33m\u001b[0m\u001b[1;33m\u001b[0m\u001b[0m\n\u001b[0;32m   4041\u001b[0m                 \u001b[0mvalues\u001b[0m \u001b[1;33m=\u001b[0m \u001b[0mself\u001b[0m\u001b[1;33m.\u001b[0m\u001b[0mastype\u001b[0m\u001b[1;33m(\u001b[0m\u001b[0mobject\u001b[0m\u001b[1;33m)\u001b[0m\u001b[1;33m.\u001b[0m\u001b[0mvalues\u001b[0m\u001b[1;33m\u001b[0m\u001b[1;33m\u001b[0m\u001b[0m\n\u001b[1;32m-> 4042\u001b[1;33m                 \u001b[0mmapped\u001b[0m \u001b[1;33m=\u001b[0m \u001b[0mlib\u001b[0m\u001b[1;33m.\u001b[0m\u001b[0mmap_infer\u001b[0m\u001b[1;33m(\u001b[0m\u001b[0mvalues\u001b[0m\u001b[1;33m,\u001b[0m \u001b[0mf\u001b[0m\u001b[1;33m,\u001b[0m \u001b[0mconvert\u001b[0m\u001b[1;33m=\u001b[0m\u001b[0mconvert_dtype\u001b[0m\u001b[1;33m)\u001b[0m\u001b[1;33m\u001b[0m\u001b[1;33m\u001b[0m\u001b[0m\n\u001b[0m\u001b[0;32m   4043\u001b[0m \u001b[1;33m\u001b[0m\u001b[0m\n\u001b[0;32m   4044\u001b[0m         \u001b[1;32mif\u001b[0m \u001b[0mlen\u001b[0m\u001b[1;33m(\u001b[0m\u001b[0mmapped\u001b[0m\u001b[1;33m)\u001b[0m \u001b[1;32mand\u001b[0m \u001b[0misinstance\u001b[0m\u001b[1;33m(\u001b[0m\u001b[0mmapped\u001b[0m\u001b[1;33m[\u001b[0m\u001b[1;36m0\u001b[0m\u001b[1;33m]\u001b[0m\u001b[1;33m,\u001b[0m \u001b[0mSeries\u001b[0m\u001b[1;33m)\u001b[0m\u001b[1;33m:\u001b[0m\u001b[1;33m\u001b[0m\u001b[1;33m\u001b[0m\u001b[0m\n",
      "\u001b[1;32mpandas\\_libs\\lib.pyx\u001b[0m in \u001b[0;36mpandas._libs.lib.map_infer\u001b[1;34m()\u001b[0m\n",
      "\u001b[1;32m<ipython-input-485-45c74887c96f>\u001b[0m in \u001b[0;36mconver_currency\u001b[1;34m(value)\u001b[0m\n\u001b[0;32m     13\u001b[0m     \"\"\"\n\u001b[0;32m     14\u001b[0m     \u001b[0mnew_value\u001b[0m \u001b[1;33m=\u001b[0m \u001b[0mvalue\u001b[0m\u001b[1;33m.\u001b[0m\u001b[0mreplace\u001b[0m\u001b[1;33m(\u001b[0m\u001b[1;34m','\u001b[0m\u001b[1;33m,\u001b[0m\u001b[1;34m''\u001b[0m\u001b[1;33m)\u001b[0m\u001b[1;33m.\u001b[0m\u001b[0mreplace\u001b[0m\u001b[1;33m(\u001b[0m\u001b[1;34m'$'\u001b[0m\u001b[1;33m,\u001b[0m\u001b[1;34m''\u001b[0m\u001b[1;33m)\u001b[0m\u001b[1;33m\u001b[0m\u001b[1;33m\u001b[0m\u001b[0m\n\u001b[1;32m---> 15\u001b[1;33m     \u001b[1;32mreturn\u001b[0m \u001b[0mnp\u001b[0m\u001b[1;33m.\u001b[0m\u001b[0mfloat\u001b[0m\u001b[1;33m(\u001b[0m\u001b[0mnew_value\u001b[0m\u001b[1;33m)\u001b[0m\u001b[1;33m\u001b[0m\u001b[1;33m\u001b[0m\u001b[0m\n\u001b[0m\u001b[0;32m     16\u001b[0m \u001b[1;33m\u001b[0m\u001b[0m\n\u001b[0;32m     17\u001b[0m \u001b[1;32mdef\u001b[0m \u001b[0mto_float\u001b[0m\u001b[1;33m(\u001b[0m\u001b[0mx\u001b[0m\u001b[1;33m)\u001b[0m\u001b[1;33m:\u001b[0m\u001b[1;33m\u001b[0m\u001b[1;33m\u001b[0m\u001b[0m\n",
      "\u001b[1;31mValueError\u001b[0m: could not convert string to float: '12.90 - 169.95'"
     ]
    }
   ],
   "source": [
    "## convert string to float\n",
    "ab_merged_non['price'] = ab_merged_non['price'].apply(conver_currency)\n",
    "lb_merged_non['price'] = lb_merged_non['price'].apply(conver_currency)"
   ]
  },
  {
   "cell_type": "markdown",
   "metadata": {},
   "source": [
    "## extract products that have reviews over 6 months"
   ]
  },
  {
   "cell_type": "code",
   "execution_count": 487,
   "metadata": {
    "ExecuteTime": {
     "end_time": "2019-11-08T22:06:36.882201Z",
     "start_time": "2019-11-08T22:06:33.643823Z"
    }
   },
   "outputs": [],
   "source": [
    "# Find the lastest date\n",
    "lb_edate = min(lb_merged_non['DatetimeIndex'])\n",
    "lb_ldate = max(lb_merged_non['DatetimeIndex'])\n",
    "lb_threshold = lb_ldate - datetime.timedelta(days=180)\n",
    "ab_edate = min(ab_merged_non['DatetimeIndex'])\n",
    "ab_ldate = max(ab_merged_non['DatetimeIndex'])\n",
    "ab_threshold = ab_ldate - datetime.timedelta(days=180)"
   ]
  },
  {
   "cell_type": "code",
   "execution_count": 488,
   "metadata": {
    "ExecuteTime": {
     "end_time": "2019-11-08T22:06:41.952300Z",
     "start_time": "2019-11-08T22:06:41.695595Z"
    }
   },
   "outputs": [],
   "source": [
    "# creat start_date and end_date column \n",
    "ab_sdate = ab_merged_non.groupby(by=['asin'], as_index=False)['DatetimeIndex'].min()\n",
    "ab_sdate.rename(columns={'DatetimeIndex': 'start_date'}, inplace=True)\n",
    "lb_sdate = lb_merged_non.groupby(by=['asin'], as_index=False)['DatetimeIndex'].min()\n",
    "lb_sdate.rename(columns={'DatetimeIndex': 'start_date'}, inplace=True)"
   ]
  },
  {
   "cell_type": "code",
   "execution_count": 489,
   "metadata": {
    "ExecuteTime": {
     "end_time": "2019-11-08T22:06:46.920295Z",
     "start_time": "2019-11-08T22:06:46.743764Z"
    }
   },
   "outputs": [],
   "source": [
    "cal_6months = lambda x: (x+ datetime.timedelta(days=180))\n",
    "ab_sdate['end_date'] = ab_sdate['start_date'].apply(cal_6months)\n",
    "lb_sdate['end_date'] = lb_sdate['start_date'].apply(cal_6months)"
   ]
  },
  {
   "cell_type": "code",
   "execution_count": 490,
   "metadata": {
    "ExecuteTime": {
     "end_time": "2019-11-08T22:06:52.153870Z",
     "start_time": "2019-11-08T22:06:51.280629Z"
    }
   },
   "outputs": [],
   "source": [
    "# merge the dataframe \n",
    "df_lb = pd.merge(lb_merged_non, lb_sdate, how='inner', on ='asin')\n",
    "df_ab = pd.merge(ab_merged_non, ab_sdate, how='inner', on ='asin')"
   ]
  },
  {
   "cell_type": "code",
   "execution_count": 491,
   "metadata": {
    "ExecuteTime": {
     "end_time": "2019-11-08T22:06:59.733556Z",
     "start_time": "2019-11-08T22:06:59.076799Z"
    }
   },
   "outputs": [],
   "source": [
    "# Exclude products whose first score has been posted by less than six months\n",
    "df_lb = df_lb[df_lb['start_date'] < lb_threshold]\n",
    "df_ab = df_ab[df_ab['start_date'] < ab_threshold]"
   ]
  },
  {
   "cell_type": "code",
   "execution_count": 492,
   "metadata": {
    "ExecuteTime": {
     "end_time": "2019-11-08T22:07:05.396454Z",
     "start_time": "2019-11-08T22:07:05.276244Z"
    }
   },
   "outputs": [],
   "source": [
    "# the very first reviews up to six months later\n",
    "df_lb = df_lb[df_lb['DatetimeIndex'] < df_lb['end_date']]\n",
    "df_ab = df_ab[df_ab['DatetimeIndex'] < df_ab['end_date']]\n"
   ]
  },
  {
   "cell_type": "code",
   "execution_count": 493,
   "metadata": {
    "ExecuteTime": {
     "end_time": "2019-11-08T22:07:09.658209Z",
     "start_time": "2019-11-08T22:07:09.017218Z"
    }
   },
   "outputs": [],
   "source": [
    "df_lb['#Days'] = df_lb['DatetimeIndex'] - df_lb['start_date']\n",
    "df_lb['#Days'] = df_lb['#Days'].apply(lambda x: x.days)\n",
    "df_ab['#Days'] = df_ab['DatetimeIndex'] - df_ab['start_date']\n",
    "df_ab['#Days'] = df_ab['#Days'].apply(lambda x: x.days)"
   ]
  },
  {
   "cell_type": "code",
   "execution_count": null,
   "metadata": {
    "ExecuteTime": {
     "end_time": "2019-11-08T21:47:16.860607Z",
     "start_time": "2019-11-08T21:47:16.802764Z"
    }
   },
   "outputs": [],
   "source": []
  },
  {
   "cell_type": "code",
   "execution_count": 494,
   "metadata": {
    "ExecuteTime": {
     "end_time": "2019-11-08T22:07:13.980864Z",
     "start_time": "2019-11-08T22:07:13.168499Z"
    }
   },
   "outputs": [],
   "source": [
    "#Max date within 6 months\n",
    "series_lb = df_lb.groupby(by=['asin'], as_index=False)['DatetimeIndex'].max()\n",
    "series_lb.rename(columns={'DatetimeIndex': 'last_review'}, inplace=True)\n",
    "series_ab = df_ab.groupby(by=['asin'], as_index=False)['DatetimeIndex'].max()\n",
    "series_ab.rename(columns={'DatetimeIndex': 'last_review'}, inplace=True)\n",
    "\n",
    "df_lb = pd.merge(df_lb, series_lb, how='inner', on ='asin')\n",
    "df_ab = pd.merge(df_ab, series_ab, how='inner', on ='asin')\n",
    "\n",
    "# calculate between first review and last reviws\n",
    "df_lb['review_gap'] = df_lb['last_review'] - df_lb['start_date']\n",
    "df_lb['review_gap'] = df_lb['review_gap'].apply(lambda x: x.days)\n",
    "df_ab['review_gap'] = df_ab['last_review'] - df_ab['start_date']\n",
    "df_ab['review_gap'] = df_ab['review_gap'].apply(lambda x: x.days)"
   ]
  },
  {
   "cell_type": "code",
   "execution_count": 497,
   "metadata": {
    "ExecuteTime": {
     "end_time": "2019-11-08T22:09:47.979819Z",
     "start_time": "2019-11-08T22:09:47.936934Z"
    }
   },
   "outputs": [
    {
     "data": {
      "text/html": [
       "<div>\n",
       "<style scoped>\n",
       "    .dataframe tbody tr th:only-of-type {\n",
       "        vertical-align: middle;\n",
       "    }\n",
       "\n",
       "    .dataframe tbody tr th {\n",
       "        vertical-align: top;\n",
       "    }\n",
       "\n",
       "    .dataframe thead th {\n",
       "        text-align: right;\n",
       "    }\n",
       "</style>\n",
       "<table border=\"1\" class=\"dataframe\">\n",
       "  <thead>\n",
       "    <tr style=\"text-align: right;\">\n",
       "      <th></th>\n",
       "      <th>overall</th>\n",
       "      <th>verified</th>\n",
       "      <th>reviewTime</th>\n",
       "      <th>reviewerID</th>\n",
       "      <th>asin</th>\n",
       "      <th>unixReviewTime</th>\n",
       "      <th>style</th>\n",
       "      <th>title</th>\n",
       "      <th>also_buy</th>\n",
       "      <th>rank</th>\n",
       "      <th>...</th>\n",
       "      <th>main_cat</th>\n",
       "      <th>price</th>\n",
       "      <th>brand</th>\n",
       "      <th>feature</th>\n",
       "      <th>DatetimeIndex</th>\n",
       "      <th>start_date</th>\n",
       "      <th>end_date</th>\n",
       "      <th>#Days</th>\n",
       "      <th>last_review</th>\n",
       "      <th>review_gap</th>\n",
       "    </tr>\n",
       "  </thead>\n",
       "  <tbody>\n",
       "    <tr>\n",
       "      <td>0</td>\n",
       "      <td>2.0</td>\n",
       "      <td>True</td>\n",
       "      <td>06 15, 2010</td>\n",
       "      <td>A1Q6MUU0B2ZDQG</td>\n",
       "      <td>B00004U9V2</td>\n",
       "      <td>1276560000</td>\n",
       "      <td>NaN</td>\n",
       "      <td>Crabtree &amp; Evelyn - Gardener's Ultra-Moisturis...</td>\n",
       "      <td>[B00GHX7H0A, B00FRERO7G, B00R68QXCS, B000Z65AZ...</td>\n",
       "      <td>4,324inBeautyPersonalCare(</td>\n",
       "      <td>...</td>\n",
       "      <td>Luxury Beauty</td>\n",
       "      <td>$30.00</td>\n",
       "      <td>NaN</td>\n",
       "      <td>NaN</td>\n",
       "      <td>2010-06-15</td>\n",
       "      <td>2010-01-07</td>\n",
       "      <td>2010-07-06</td>\n",
       "      <td>159</td>\n",
       "      <td>2010-06-15</td>\n",
       "      <td>159</td>\n",
       "    </tr>\n",
       "    <tr>\n",
       "      <td>1</td>\n",
       "      <td>2.0</td>\n",
       "      <td>True</td>\n",
       "      <td>06 15, 2010</td>\n",
       "      <td>A1Q6MUU0B2ZDQG</td>\n",
       "      <td>B00004U9V2</td>\n",
       "      <td>1276560000</td>\n",
       "      <td>NaN</td>\n",
       "      <td>Crabtree &amp; Evelyn - Gardener's Ultra-Moisturis...</td>\n",
       "      <td>[B00GHX7H0A, B00FRERO7G, B00R68QXCS, B000Z65AZ...</td>\n",
       "      <td>4,324inBeautyPersonalCare(</td>\n",
       "      <td>...</td>\n",
       "      <td>Luxury Beauty</td>\n",
       "      <td>$30.00</td>\n",
       "      <td>NaN</td>\n",
       "      <td>NaN</td>\n",
       "      <td>2010-06-15</td>\n",
       "      <td>2010-01-07</td>\n",
       "      <td>2010-07-06</td>\n",
       "      <td>159</td>\n",
       "      <td>2010-06-15</td>\n",
       "      <td>159</td>\n",
       "    </tr>\n",
       "    <tr>\n",
       "      <td>2</td>\n",
       "      <td>5.0</td>\n",
       "      <td>True</td>\n",
       "      <td>01 7, 2010</td>\n",
       "      <td>A3HO2SQDCZIE9S</td>\n",
       "      <td>B00004U9V2</td>\n",
       "      <td>1262822400</td>\n",
       "      <td>NaN</td>\n",
       "      <td>Crabtree &amp; Evelyn - Gardener's Ultra-Moisturis...</td>\n",
       "      <td>[B00GHX7H0A, B00FRERO7G, B00R68QXCS, B000Z65AZ...</td>\n",
       "      <td>4,324inBeautyPersonalCare(</td>\n",
       "      <td>...</td>\n",
       "      <td>Luxury Beauty</td>\n",
       "      <td>$30.00</td>\n",
       "      <td>NaN</td>\n",
       "      <td>NaN</td>\n",
       "      <td>2010-01-07</td>\n",
       "      <td>2010-01-07</td>\n",
       "      <td>2010-07-06</td>\n",
       "      <td>0</td>\n",
       "      <td>2010-06-15</td>\n",
       "      <td>159</td>\n",
       "    </tr>\n",
       "    <tr>\n",
       "      <td>3</td>\n",
       "      <td>5.0</td>\n",
       "      <td>True</td>\n",
       "      <td>01 7, 2010</td>\n",
       "      <td>A3HO2SQDCZIE9S</td>\n",
       "      <td>B00004U9V2</td>\n",
       "      <td>1262822400</td>\n",
       "      <td>NaN</td>\n",
       "      <td>Crabtree &amp; Evelyn - Gardener's Ultra-Moisturis...</td>\n",
       "      <td>[B00GHX7H0A, B00FRERO7G, B00R68QXCS, B000Z65AZ...</td>\n",
       "      <td>4,324inBeautyPersonalCare(</td>\n",
       "      <td>...</td>\n",
       "      <td>Luxury Beauty</td>\n",
       "      <td>$30.00</td>\n",
       "      <td>NaN</td>\n",
       "      <td>NaN</td>\n",
       "      <td>2010-01-07</td>\n",
       "      <td>2010-01-07</td>\n",
       "      <td>2010-07-06</td>\n",
       "      <td>0</td>\n",
       "      <td>2010-06-15</td>\n",
       "      <td>159</td>\n",
       "    </tr>\n",
       "    <tr>\n",
       "      <td>4</td>\n",
       "      <td>4.0</td>\n",
       "      <td>True</td>\n",
       "      <td>04 22, 2013</td>\n",
       "      <td>A3TXIN5QWZMHCH</td>\n",
       "      <td>B00005A77F</td>\n",
       "      <td>1366588800</td>\n",
       "      <td>NaN</td>\n",
       "      <td>Crabtree &amp; Evelyn Hand Soap, Gardeners, 10.1 f...</td>\n",
       "      <td>NaN</td>\n",
       "      <td>NaN</td>\n",
       "      <td>...</td>\n",
       "      <td>Luxury Beauty</td>\n",
       "      <td>$15.99</td>\n",
       "      <td>NaN</td>\n",
       "      <td>NaN</td>\n",
       "      <td>2013-04-22</td>\n",
       "      <td>2012-10-31</td>\n",
       "      <td>2013-04-29</td>\n",
       "      <td>173</td>\n",
       "      <td>2013-04-22</td>\n",
       "      <td>173</td>\n",
       "    </tr>\n",
       "  </tbody>\n",
       "</table>\n",
       "<p>5 rows × 21 columns</p>\n",
       "</div>"
      ],
      "text/plain": [
       "   overall  verified   reviewTime      reviewerID        asin  unixReviewTime  \\\n",
       "0      2.0      True  06 15, 2010  A1Q6MUU0B2ZDQG  B00004U9V2      1276560000   \n",
       "1      2.0      True  06 15, 2010  A1Q6MUU0B2ZDQG  B00004U9V2      1276560000   \n",
       "2      5.0      True   01 7, 2010  A3HO2SQDCZIE9S  B00004U9V2      1262822400   \n",
       "3      5.0      True   01 7, 2010  A3HO2SQDCZIE9S  B00004U9V2      1262822400   \n",
       "4      4.0      True  04 22, 2013  A3TXIN5QWZMHCH  B00005A77F      1366588800   \n",
       "\n",
       "  style                                              title  \\\n",
       "0   NaN  Crabtree & Evelyn - Gardener's Ultra-Moisturis...   \n",
       "1   NaN  Crabtree & Evelyn - Gardener's Ultra-Moisturis...   \n",
       "2   NaN  Crabtree & Evelyn - Gardener's Ultra-Moisturis...   \n",
       "3   NaN  Crabtree & Evelyn - Gardener's Ultra-Moisturis...   \n",
       "4   NaN  Crabtree & Evelyn Hand Soap, Gardeners, 10.1 f...   \n",
       "\n",
       "                                            also_buy  \\\n",
       "0  [B00GHX7H0A, B00FRERO7G, B00R68QXCS, B000Z65AZ...   \n",
       "1  [B00GHX7H0A, B00FRERO7G, B00R68QXCS, B000Z65AZ...   \n",
       "2  [B00GHX7H0A, B00FRERO7G, B00R68QXCS, B000Z65AZ...   \n",
       "3  [B00GHX7H0A, B00FRERO7G, B00R68QXCS, B000Z65AZ...   \n",
       "4                                                NaN   \n",
       "\n",
       "                         rank  ...       main_cat   price brand feature  \\\n",
       "0  4,324inBeautyPersonalCare(  ...  Luxury Beauty  $30.00   NaN     NaN   \n",
       "1  4,324inBeautyPersonalCare(  ...  Luxury Beauty  $30.00   NaN     NaN   \n",
       "2  4,324inBeautyPersonalCare(  ...  Luxury Beauty  $30.00   NaN     NaN   \n",
       "3  4,324inBeautyPersonalCare(  ...  Luxury Beauty  $30.00   NaN     NaN   \n",
       "4                         NaN  ...  Luxury Beauty  $15.99   NaN     NaN   \n",
       "\n",
       "  DatetimeIndex start_date   end_date #Days  last_review review_gap  \n",
       "0    2010-06-15 2010-01-07 2010-07-06   159   2010-06-15        159  \n",
       "1    2010-06-15 2010-01-07 2010-07-06   159   2010-06-15        159  \n",
       "2    2010-01-07 2010-01-07 2010-07-06     0   2010-06-15        159  \n",
       "3    2010-01-07 2010-01-07 2010-07-06     0   2010-06-15        159  \n",
       "4    2013-04-22 2012-10-31 2013-04-29   173   2013-04-22        173  \n",
       "\n",
       "[5 rows x 21 columns]"
      ]
     },
     "execution_count": 497,
     "metadata": {},
     "output_type": "execute_result"
    }
   ],
   "source": [
    "df_lb.head()"
   ]
  },
  {
   "cell_type": "code",
   "execution_count": 502,
   "metadata": {
    "ExecuteTime": {
     "end_time": "2019-11-08T22:23:43.806199Z",
     "start_time": "2019-11-08T22:23:43.713485Z"
    }
   },
   "outputs": [],
   "source": [
    "#dataset for plot 4\n",
    "df4_lb=pd.DataFrame(df_lb.groupby(by=['asin','review_gap'],as_index=False)['overall'].count())\n",
    "df4_ab=pd.DataFrame(df_ab.groupby(by=['asin','review_gap'],as_index=False)['overall'].count())"
   ]
  },
  {
   "cell_type": "code",
   "execution_count": 503,
   "metadata": {
    "ExecuteTime": {
     "end_time": "2019-11-08T22:25:01.793951Z",
     "start_time": "2019-11-08T22:25:01.777959Z"
    }
   },
   "outputs": [],
   "source": [
    "df4_lb['average pace']=df4_lb['review_gap']/df4_lb['overall']\n",
    "df4_ab['average pace']=df4_ab['review_gap']/df4_ab['overall']"
   ]
  },
  {
   "cell_type": "code",
   "execution_count": 504,
   "metadata": {
    "ExecuteTime": {
     "end_time": "2019-11-08T22:25:06.681047Z",
     "start_time": "2019-11-08T22:25:06.653124Z"
    }
   },
   "outputs": [
    {
     "data": {
      "text/html": [
       "<div>\n",
       "<style scoped>\n",
       "    .dataframe tbody tr th:only-of-type {\n",
       "        vertical-align: middle;\n",
       "    }\n",
       "\n",
       "    .dataframe tbody tr th {\n",
       "        vertical-align: top;\n",
       "    }\n",
       "\n",
       "    .dataframe thead th {\n",
       "        text-align: right;\n",
       "    }\n",
       "</style>\n",
       "<table border=\"1\" class=\"dataframe\">\n",
       "  <thead>\n",
       "    <tr style=\"text-align: right;\">\n",
       "      <th></th>\n",
       "      <th>asin</th>\n",
       "      <th>review_gap</th>\n",
       "      <th>overall</th>\n",
       "      <th>average pace</th>\n",
       "    </tr>\n",
       "  </thead>\n",
       "  <tbody>\n",
       "    <tr>\n",
       "      <td>0</td>\n",
       "      <td>B00004U9V2</td>\n",
       "      <td>159</td>\n",
       "      <td>4</td>\n",
       "      <td>39.750000</td>\n",
       "    </tr>\n",
       "    <tr>\n",
       "      <td>1</td>\n",
       "      <td>B00005A77F</td>\n",
       "      <td>173</td>\n",
       "      <td>4</td>\n",
       "      <td>43.250000</td>\n",
       "    </tr>\n",
       "    <tr>\n",
       "      <td>2</td>\n",
       "      <td>B00005NDTD</td>\n",
       "      <td>0</td>\n",
       "      <td>2</td>\n",
       "      <td>0.000000</td>\n",
       "    </tr>\n",
       "    <tr>\n",
       "      <td>3</td>\n",
       "      <td>B00005V50B</td>\n",
       "      <td>0</td>\n",
       "      <td>2</td>\n",
       "      <td>0.000000</td>\n",
       "    </tr>\n",
       "    <tr>\n",
       "      <td>4</td>\n",
       "      <td>B00005V50C</td>\n",
       "      <td>0</td>\n",
       "      <td>2</td>\n",
       "      <td>0.000000</td>\n",
       "    </tr>\n",
       "    <tr>\n",
       "      <td>...</td>\n",
       "      <td>...</td>\n",
       "      <td>...</td>\n",
       "      <td>...</td>\n",
       "      <td>...</td>\n",
       "    </tr>\n",
       "    <tr>\n",
       "      <td>6747</td>\n",
       "      <td>B01HIQEOLO</td>\n",
       "      <td>174</td>\n",
       "      <td>4</td>\n",
       "      <td>43.500000</td>\n",
       "    </tr>\n",
       "    <tr>\n",
       "      <td>6748</td>\n",
       "      <td>B01HIQHQU0</td>\n",
       "      <td>145</td>\n",
       "      <td>5</td>\n",
       "      <td>29.000000</td>\n",
       "    </tr>\n",
       "    <tr>\n",
       "      <td>6749</td>\n",
       "      <td>B01HIQIEYC</td>\n",
       "      <td>165</td>\n",
       "      <td>9</td>\n",
       "      <td>18.333333</td>\n",
       "    </tr>\n",
       "    <tr>\n",
       "      <td>6750</td>\n",
       "      <td>B01HJ2UY0W</td>\n",
       "      <td>0</td>\n",
       "      <td>1</td>\n",
       "      <td>0.000000</td>\n",
       "    </tr>\n",
       "    <tr>\n",
       "      <td>6751</td>\n",
       "      <td>B01HJ2UY1G</td>\n",
       "      <td>0</td>\n",
       "      <td>1</td>\n",
       "      <td>0.000000</td>\n",
       "    </tr>\n",
       "  </tbody>\n",
       "</table>\n",
       "<p>6752 rows × 4 columns</p>\n",
       "</div>"
      ],
      "text/plain": [
       "            asin  review_gap  overall  average pace\n",
       "0     B00004U9V2         159        4     39.750000\n",
       "1     B00005A77F         173        4     43.250000\n",
       "2     B00005NDTD           0        2      0.000000\n",
       "3     B00005V50B           0        2      0.000000\n",
       "4     B00005V50C           0        2      0.000000\n",
       "...          ...         ...      ...           ...\n",
       "6747  B01HIQEOLO         174        4     43.500000\n",
       "6748  B01HIQHQU0         145        5     29.000000\n",
       "6749  B01HIQIEYC         165        9     18.333333\n",
       "6750  B01HJ2UY0W           0        1      0.000000\n",
       "6751  B01HJ2UY1G           0        1      0.000000\n",
       "\n",
       "[6752 rows x 4 columns]"
      ]
     },
     "execution_count": 504,
     "metadata": {},
     "output_type": "execute_result"
    }
   ],
   "source": [
    "df4_lb"
   ]
  },
  {
   "cell_type": "code",
   "execution_count": 506,
   "metadata": {
    "ExecuteTime": {
     "end_time": "2019-11-08T22:29:22.625610Z",
     "start_time": "2019-11-08T22:29:22.578741Z"
    }
   },
   "outputs": [],
   "source": [
    "df_lb['#Weeks'] = df_lb['#Days'].apply(lambda x: int(x/7))\n",
    "df_ab['#Weeks'] = df_ab['#Days'].apply(lambda x: int(x/7))"
   ]
  },
  {
   "cell_type": "code",
   "execution_count": 507,
   "metadata": {
    "ExecuteTime": {
     "end_time": "2019-11-08T22:29:27.522516Z",
     "start_time": "2019-11-08T22:29:27.433750Z"
    }
   },
   "outputs": [],
   "source": [
    "# set the datetime as indext\n",
    "df_lb.set_index('DatetimeIndex', inplace=True)\n",
    "df_ab.set_index('DatetimeIndex', inplace=True)\n",
    "# Groupby \n",
    "df_lb_g=pd.DataFrame(df_lb.groupby(['asin','#Weeks'])['overall'].count())\n",
    "df_ab_g=pd.DataFrame(df_ab.groupby(['asin','#Weeks'])['overall'].count())"
   ]
  },
  {
   "cell_type": "code",
   "execution_count": 508,
   "metadata": {
    "ExecuteTime": {
     "end_time": "2019-11-08T22:29:31.760152Z",
     "start_time": "2019-11-08T22:29:31.701230Z"
    }
   },
   "outputs": [],
   "source": [
    "df_lb_4=pd.DataFrame(df_lb.groupby(['asin'])['overall'].count())\n",
    "df_ab_4=pd.DataFrame(df_ab.groupby(['asin'])['overall'].count())"
   ]
  },
  {
   "cell_type": "code",
   "execution_count": 509,
   "metadata": {
    "ExecuteTime": {
     "end_time": "2019-11-08T22:29:35.883281Z",
     "start_time": "2019-11-08T22:29:35.866410Z"
    }
   },
   "outputs": [],
   "source": [
    "df_lb_g.reset_index(inplace=True)\n",
    "df_ab_g.reset_index(inplace=True)"
   ]
  },
  {
   "cell_type": "code",
   "execution_count": 510,
   "metadata": {
    "ExecuteTime": {
     "end_time": "2019-11-08T22:29:40.121384Z",
     "start_time": "2019-11-08T22:29:40.099441Z"
    }
   },
   "outputs": [
    {
     "data": {
      "text/html": [
       "<div>\n",
       "<style scoped>\n",
       "    .dataframe tbody tr th:only-of-type {\n",
       "        vertical-align: middle;\n",
       "    }\n",
       "\n",
       "    .dataframe tbody tr th {\n",
       "        vertical-align: top;\n",
       "    }\n",
       "\n",
       "    .dataframe thead th {\n",
       "        text-align: right;\n",
       "    }\n",
       "</style>\n",
       "<table border=\"1\" class=\"dataframe\">\n",
       "  <thead>\n",
       "    <tr style=\"text-align: right;\">\n",
       "      <th></th>\n",
       "      <th>asin</th>\n",
       "      <th>#Weeks</th>\n",
       "      <th>overall</th>\n",
       "    </tr>\n",
       "  </thead>\n",
       "  <tbody>\n",
       "    <tr>\n",
       "      <td>0</td>\n",
       "      <td>014789302X</td>\n",
       "      <td>0</td>\n",
       "      <td>1</td>\n",
       "    </tr>\n",
       "    <tr>\n",
       "      <td>1</td>\n",
       "      <td>014789302X</td>\n",
       "      <td>8</td>\n",
       "      <td>1</td>\n",
       "    </tr>\n",
       "    <tr>\n",
       "      <td>2</td>\n",
       "      <td>014789302X</td>\n",
       "      <td>12</td>\n",
       "      <td>1</td>\n",
       "    </tr>\n",
       "    <tr>\n",
       "      <td>3</td>\n",
       "      <td>014789302X</td>\n",
       "      <td>17</td>\n",
       "      <td>1</td>\n",
       "    </tr>\n",
       "    <tr>\n",
       "      <td>4</td>\n",
       "      <td>014789302X</td>\n",
       "      <td>18</td>\n",
       "      <td>1</td>\n",
       "    </tr>\n",
       "    <tr>\n",
       "      <td>...</td>\n",
       "      <td>...</td>\n",
       "      <td>...</td>\n",
       "      <td>...</td>\n",
       "    </tr>\n",
       "    <tr>\n",
       "      <td>23850</td>\n",
       "      <td>B01HJ84SGM</td>\n",
       "      <td>0</td>\n",
       "      <td>1</td>\n",
       "    </tr>\n",
       "    <tr>\n",
       "      <td>23851</td>\n",
       "      <td>B01HJ84SGM</td>\n",
       "      <td>2</td>\n",
       "      <td>1</td>\n",
       "    </tr>\n",
       "    <tr>\n",
       "      <td>23852</td>\n",
       "      <td>B01HJ84SGM</td>\n",
       "      <td>15</td>\n",
       "      <td>1</td>\n",
       "    </tr>\n",
       "    <tr>\n",
       "      <td>23853</td>\n",
       "      <td>B01HJ84SGM</td>\n",
       "      <td>21</td>\n",
       "      <td>1</td>\n",
       "    </tr>\n",
       "    <tr>\n",
       "      <td>23854</td>\n",
       "      <td>B01HJASD20</td>\n",
       "      <td>0</td>\n",
       "      <td>1</td>\n",
       "    </tr>\n",
       "  </tbody>\n",
       "</table>\n",
       "<p>23855 rows × 3 columns</p>\n",
       "</div>"
      ],
      "text/plain": [
       "             asin  #Weeks  overall\n",
       "0      014789302X       0        1\n",
       "1      014789302X       8        1\n",
       "2      014789302X      12        1\n",
       "3      014789302X      17        1\n",
       "4      014789302X      18        1\n",
       "...           ...     ...      ...\n",
       "23850  B01HJ84SGM       0        1\n",
       "23851  B01HJ84SGM       2        1\n",
       "23852  B01HJ84SGM      15        1\n",
       "23853  B01HJ84SGM      21        1\n",
       "23854  B01HJASD20       0        1\n",
       "\n",
       "[23855 rows x 3 columns]"
      ]
     },
     "execution_count": 510,
     "metadata": {},
     "output_type": "execute_result"
    }
   ],
   "source": [
    "df_ab_g"
   ]
  },
  {
   "cell_type": "code",
   "execution_count": null,
   "metadata": {
    "ExecuteTime": {
     "end_time": "2019-11-08T17:55:34.399928Z",
     "start_time": "2019-11-08T17:55:34.392945Z"
    }
   },
   "outputs": [],
   "source": []
  },
  {
   "cell_type": "code",
   "execution_count": 511,
   "metadata": {
    "ExecuteTime": {
     "end_time": "2019-11-08T22:29:44.390717Z",
     "start_time": "2019-11-08T22:29:44.371767Z"
    }
   },
   "outputs": [],
   "source": [
    "df_lb_avg = pd.DataFrame(df_lb_g.groupby('#Weeks')['overall'].count())\n",
    "df_ab_avg = pd.DataFrame(df_ab_g.groupby('#Weeks')['overall'].count())\n"
   ]
  },
  {
   "cell_type": "code",
   "execution_count": 512,
   "metadata": {
    "ExecuteTime": {
     "end_time": "2019-11-08T22:29:48.508676Z",
     "start_time": "2019-11-08T22:29:48.494693Z"
    }
   },
   "outputs": [
    {
     "data": {
      "text/html": [
       "<div>\n",
       "<style scoped>\n",
       "    .dataframe tbody tr th:only-of-type {\n",
       "        vertical-align: middle;\n",
       "    }\n",
       "\n",
       "    .dataframe tbody tr th {\n",
       "        vertical-align: top;\n",
       "    }\n",
       "\n",
       "    .dataframe thead th {\n",
       "        text-align: right;\n",
       "    }\n",
       "</style>\n",
       "<table border=\"1\" class=\"dataframe\">\n",
       "  <thead>\n",
       "    <tr style=\"text-align: right;\">\n",
       "      <th></th>\n",
       "      <th>asin</th>\n",
       "      <th>#Weeks</th>\n",
       "      <th>overall</th>\n",
       "    </tr>\n",
       "  </thead>\n",
       "  <tbody>\n",
       "    <tr>\n",
       "      <td>0</td>\n",
       "      <td>B00004U9V2</td>\n",
       "      <td>0</td>\n",
       "      <td>2</td>\n",
       "    </tr>\n",
       "    <tr>\n",
       "      <td>1</td>\n",
       "      <td>B00004U9V2</td>\n",
       "      <td>22</td>\n",
       "      <td>2</td>\n",
       "    </tr>\n",
       "    <tr>\n",
       "      <td>2</td>\n",
       "      <td>B00005A77F</td>\n",
       "      <td>0</td>\n",
       "      <td>2</td>\n",
       "    </tr>\n",
       "    <tr>\n",
       "      <td>3</td>\n",
       "      <td>B00005A77F</td>\n",
       "      <td>24</td>\n",
       "      <td>2</td>\n",
       "    </tr>\n",
       "    <tr>\n",
       "      <td>4</td>\n",
       "      <td>B00005NDTD</td>\n",
       "      <td>0</td>\n",
       "      <td>2</td>\n",
       "    </tr>\n",
       "  </tbody>\n",
       "</table>\n",
       "</div>"
      ],
      "text/plain": [
       "         asin  #Weeks  overall\n",
       "0  B00004U9V2       0        2\n",
       "1  B00004U9V2      22        2\n",
       "2  B00005A77F       0        2\n",
       "3  B00005A77F      24        2\n",
       "4  B00005NDTD       0        2"
      ]
     },
     "execution_count": 512,
     "metadata": {},
     "output_type": "execute_result"
    }
   ],
   "source": [
    "df_lb_g.head()"
   ]
  },
  {
   "cell_type": "code",
   "execution_count": 513,
   "metadata": {
    "ExecuteTime": {
     "end_time": "2019-11-08T22:29:52.619856Z",
     "start_time": "2019-11-08T22:29:52.599908Z"
    }
   },
   "outputs": [],
   "source": [
    "a = pd.DataFrame(df_lb_g.groupby('#Weeks')['overall'].aggregate(np.sum))\n",
    "b = pd.DataFrame(df_ab_g.groupby('#Weeks')['overall'].aggregate(np.sum))"
   ]
  },
  {
   "cell_type": "code",
   "execution_count": 514,
   "metadata": {
    "ExecuteTime": {
     "end_time": "2019-11-08T22:29:56.750831Z",
     "start_time": "2019-11-08T22:29:56.733876Z"
    }
   },
   "outputs": [
    {
     "data": {
      "text/html": [
       "<div>\n",
       "<style scoped>\n",
       "    .dataframe tbody tr th:only-of-type {\n",
       "        vertical-align: middle;\n",
       "    }\n",
       "\n",
       "    .dataframe tbody tr th {\n",
       "        vertical-align: top;\n",
       "    }\n",
       "\n",
       "    .dataframe thead th {\n",
       "        text-align: right;\n",
       "    }\n",
       "</style>\n",
       "<table border=\"1\" class=\"dataframe\">\n",
       "  <thead>\n",
       "    <tr style=\"text-align: right;\">\n",
       "      <th></th>\n",
       "      <th>#Weeks</th>\n",
       "      <th>overall</th>\n",
       "    </tr>\n",
       "  </thead>\n",
       "  <tbody>\n",
       "    <tr>\n",
       "      <td>0</td>\n",
       "      <td>0</td>\n",
       "      <td>11843</td>\n",
       "    </tr>\n",
       "    <tr>\n",
       "      <td>1</td>\n",
       "      <td>1</td>\n",
       "      <td>12551</td>\n",
       "    </tr>\n",
       "    <tr>\n",
       "      <td>2</td>\n",
       "      <td>2</td>\n",
       "      <td>13223</td>\n",
       "    </tr>\n",
       "    <tr>\n",
       "      <td>3</td>\n",
       "      <td>3</td>\n",
       "      <td>13925</td>\n",
       "    </tr>\n",
       "    <tr>\n",
       "      <td>4</td>\n",
       "      <td>4</td>\n",
       "      <td>14594</td>\n",
       "    </tr>\n",
       "    <tr>\n",
       "      <td>5</td>\n",
       "      <td>5</td>\n",
       "      <td>15329</td>\n",
       "    </tr>\n",
       "    <tr>\n",
       "      <td>6</td>\n",
       "      <td>6</td>\n",
       "      <td>16101</td>\n",
       "    </tr>\n",
       "    <tr>\n",
       "      <td>7</td>\n",
       "      <td>7</td>\n",
       "      <td>16851</td>\n",
       "    </tr>\n",
       "    <tr>\n",
       "      <td>8</td>\n",
       "      <td>8</td>\n",
       "      <td>17662</td>\n",
       "    </tr>\n",
       "    <tr>\n",
       "      <td>9</td>\n",
       "      <td>9</td>\n",
       "      <td>18429</td>\n",
       "    </tr>\n",
       "    <tr>\n",
       "      <td>10</td>\n",
       "      <td>10</td>\n",
       "      <td>19200</td>\n",
       "    </tr>\n",
       "    <tr>\n",
       "      <td>11</td>\n",
       "      <td>11</td>\n",
       "      <td>19991</td>\n",
       "    </tr>\n",
       "    <tr>\n",
       "      <td>12</td>\n",
       "      <td>12</td>\n",
       "      <td>20789</td>\n",
       "    </tr>\n",
       "    <tr>\n",
       "      <td>13</td>\n",
       "      <td>13</td>\n",
       "      <td>21600</td>\n",
       "    </tr>\n",
       "    <tr>\n",
       "      <td>14</td>\n",
       "      <td>14</td>\n",
       "      <td>22369</td>\n",
       "    </tr>\n",
       "    <tr>\n",
       "      <td>15</td>\n",
       "      <td>15</td>\n",
       "      <td>23156</td>\n",
       "    </tr>\n",
       "    <tr>\n",
       "      <td>16</td>\n",
       "      <td>16</td>\n",
       "      <td>23955</td>\n",
       "    </tr>\n",
       "    <tr>\n",
       "      <td>17</td>\n",
       "      <td>17</td>\n",
       "      <td>24784</td>\n",
       "    </tr>\n",
       "    <tr>\n",
       "      <td>18</td>\n",
       "      <td>18</td>\n",
       "      <td>25568</td>\n",
       "    </tr>\n",
       "    <tr>\n",
       "      <td>19</td>\n",
       "      <td>19</td>\n",
       "      <td>26344</td>\n",
       "    </tr>\n",
       "    <tr>\n",
       "      <td>20</td>\n",
       "      <td>20</td>\n",
       "      <td>27195</td>\n",
       "    </tr>\n",
       "    <tr>\n",
       "      <td>21</td>\n",
       "      <td>21</td>\n",
       "      <td>28056</td>\n",
       "    </tr>\n",
       "    <tr>\n",
       "      <td>22</td>\n",
       "      <td>22</td>\n",
       "      <td>28851</td>\n",
       "    </tr>\n",
       "    <tr>\n",
       "      <td>23</td>\n",
       "      <td>23</td>\n",
       "      <td>29668</td>\n",
       "    </tr>\n",
       "    <tr>\n",
       "      <td>24</td>\n",
       "      <td>24</td>\n",
       "      <td>30500</td>\n",
       "    </tr>\n",
       "    <tr>\n",
       "      <td>25</td>\n",
       "      <td>25</td>\n",
       "      <td>31093</td>\n",
       "    </tr>\n",
       "  </tbody>\n",
       "</table>\n",
       "</div>"
      ],
      "text/plain": [
       "    #Weeks  overall\n",
       "0        0    11843\n",
       "1        1    12551\n",
       "2        2    13223\n",
       "3        3    13925\n",
       "4        4    14594\n",
       "5        5    15329\n",
       "6        6    16101\n",
       "7        7    16851\n",
       "8        8    17662\n",
       "9        9    18429\n",
       "10      10    19200\n",
       "11      11    19991\n",
       "12      12    20789\n",
       "13      13    21600\n",
       "14      14    22369\n",
       "15      15    23156\n",
       "16      16    23955\n",
       "17      17    24784\n",
       "18      18    25568\n",
       "19      19    26344\n",
       "20      20    27195\n",
       "21      21    28056\n",
       "22      22    28851\n",
       "23      23    29668\n",
       "24      24    30500\n",
       "25      25    31093"
      ]
     },
     "execution_count": 514,
     "metadata": {},
     "output_type": "execute_result"
    }
   ],
   "source": [
    "c.reset_index()\n",
    "d.reset_index()"
   ]
  },
  {
   "cell_type": "code",
   "execution_count": null,
   "metadata": {},
   "outputs": [],
   "source": []
  },
  {
   "cell_type": "code",
   "execution_count": 515,
   "metadata": {
    "ExecuteTime": {
     "end_time": "2019-11-08T22:30:01.159546Z",
     "start_time": "2019-11-08T22:30:01.147515Z"
    }
   },
   "outputs": [],
   "source": [
    "a.loc[:,'avg'] = a['overall'] / df_lb_avg['overall'] \n",
    "b.loc[:,'avg'] = b['overall'] / df_ab_avg['overall']"
   ]
  },
  {
   "cell_type": "code",
   "execution_count": 516,
   "metadata": {
    "ExecuteTime": {
     "end_time": "2019-11-08T22:30:05.845224Z",
     "start_time": "2019-11-08T22:30:05.834216Z"
    }
   },
   "outputs": [],
   "source": [
    "a['overall']=a['overall'].apply(to_float)\n",
    "b['overall']=b['overall'].apply(to_float)"
   ]
  },
  {
   "cell_type": "code",
   "execution_count": 517,
   "metadata": {
    "ExecuteTime": {
     "end_time": "2019-11-08T22:30:10.226760Z",
     "start_time": "2019-11-08T22:30:10.217320Z"
    }
   },
   "outputs": [],
   "source": [
    "a.reset_index(inplace=True)\n",
    "b.reset_index(inplace=True)"
   ]
  },
  {
   "cell_type": "code",
   "execution_count": 518,
   "metadata": {
    "ExecuteTime": {
     "end_time": "2019-11-08T22:30:14.549831Z",
     "start_time": "2019-11-08T22:30:14.533876Z"
    }
   },
   "outputs": [
    {
     "data": {
      "text/html": [
       "<div>\n",
       "<style scoped>\n",
       "    .dataframe tbody tr th:only-of-type {\n",
       "        vertical-align: middle;\n",
       "    }\n",
       "\n",
       "    .dataframe tbody tr th {\n",
       "        vertical-align: top;\n",
       "    }\n",
       "\n",
       "    .dataframe thead th {\n",
       "        text-align: right;\n",
       "    }\n",
       "</style>\n",
       "<table border=\"1\" class=\"dataframe\">\n",
       "  <thead>\n",
       "    <tr style=\"text-align: right;\">\n",
       "      <th></th>\n",
       "      <th>#Weeks</th>\n",
       "      <th>overall</th>\n",
       "      <th>avg</th>\n",
       "    </tr>\n",
       "  </thead>\n",
       "  <tbody>\n",
       "    <tr>\n",
       "      <td>0</td>\n",
       "      <td>0</td>\n",
       "      <td>8649.0</td>\n",
       "      <td>1.280954</td>\n",
       "    </tr>\n",
       "    <tr>\n",
       "      <td>1</td>\n",
       "      <td>1</td>\n",
       "      <td>1416.0</td>\n",
       "      <td>2.749515</td>\n",
       "    </tr>\n",
       "    <tr>\n",
       "      <td>2</td>\n",
       "      <td>2</td>\n",
       "      <td>974.0</td>\n",
       "      <td>1.917323</td>\n",
       "    </tr>\n",
       "    <tr>\n",
       "      <td>3</td>\n",
       "      <td>3</td>\n",
       "      <td>871.0</td>\n",
       "      <td>1.621974</td>\n",
       "    </tr>\n",
       "    <tr>\n",
       "      <td>4</td>\n",
       "      <td>4</td>\n",
       "      <td>813.0</td>\n",
       "      <td>1.489011</td>\n",
       "    </tr>\n",
       "    <tr>\n",
       "      <td>5</td>\n",
       "      <td>5</td>\n",
       "      <td>835.0</td>\n",
       "      <td>1.621359</td>\n",
       "    </tr>\n",
       "    <tr>\n",
       "      <td>6</td>\n",
       "      <td>6</td>\n",
       "      <td>913.0</td>\n",
       "      <td>1.769380</td>\n",
       "    </tr>\n",
       "    <tr>\n",
       "      <td>7</td>\n",
       "      <td>7</td>\n",
       "      <td>928.0</td>\n",
       "      <td>1.760911</td>\n",
       "    </tr>\n",
       "    <tr>\n",
       "      <td>8</td>\n",
       "      <td>8</td>\n",
       "      <td>825.0</td>\n",
       "      <td>1.556604</td>\n",
       "    </tr>\n",
       "    <tr>\n",
       "      <td>9</td>\n",
       "      <td>9</td>\n",
       "      <td>850.0</td>\n",
       "      <td>1.660156</td>\n",
       "    </tr>\n",
       "    <tr>\n",
       "      <td>10</td>\n",
       "      <td>10</td>\n",
       "      <td>754.0</td>\n",
       "      <td>1.570833</td>\n",
       "    </tr>\n",
       "    <tr>\n",
       "      <td>11</td>\n",
       "      <td>11</td>\n",
       "      <td>775.0</td>\n",
       "      <td>1.462264</td>\n",
       "    </tr>\n",
       "    <tr>\n",
       "      <td>12</td>\n",
       "      <td>12</td>\n",
       "      <td>811.0</td>\n",
       "      <td>1.530189</td>\n",
       "    </tr>\n",
       "    <tr>\n",
       "      <td>13</td>\n",
       "      <td>13</td>\n",
       "      <td>811.0</td>\n",
       "      <td>1.513060</td>\n",
       "    </tr>\n",
       "    <tr>\n",
       "      <td>14</td>\n",
       "      <td>14</td>\n",
       "      <td>837.0</td>\n",
       "      <td>1.547135</td>\n",
       "    </tr>\n",
       "    <tr>\n",
       "      <td>15</td>\n",
       "      <td>15</td>\n",
       "      <td>850.0</td>\n",
       "      <td>1.597744</td>\n",
       "    </tr>\n",
       "    <tr>\n",
       "      <td>16</td>\n",
       "      <td>16</td>\n",
       "      <td>820.0</td>\n",
       "      <td>1.521336</td>\n",
       "    </tr>\n",
       "    <tr>\n",
       "      <td>17</td>\n",
       "      <td>17</td>\n",
       "      <td>874.0</td>\n",
       "      <td>1.530648</td>\n",
       "    </tr>\n",
       "    <tr>\n",
       "      <td>18</td>\n",
       "      <td>18</td>\n",
       "      <td>816.0</td>\n",
       "      <td>1.431579</td>\n",
       "    </tr>\n",
       "    <tr>\n",
       "      <td>19</td>\n",
       "      <td>19</td>\n",
       "      <td>826.0</td>\n",
       "      <td>1.564394</td>\n",
       "    </tr>\n",
       "    <tr>\n",
       "      <td>20</td>\n",
       "      <td>20</td>\n",
       "      <td>846.0</td>\n",
       "      <td>1.508021</td>\n",
       "    </tr>\n",
       "    <tr>\n",
       "      <td>21</td>\n",
       "      <td>21</td>\n",
       "      <td>901.0</td>\n",
       "      <td>1.677840</td>\n",
       "    </tr>\n",
       "    <tr>\n",
       "      <td>22</td>\n",
       "      <td>22</td>\n",
       "      <td>841.0</td>\n",
       "      <td>1.543119</td>\n",
       "    </tr>\n",
       "    <tr>\n",
       "      <td>23</td>\n",
       "      <td>23</td>\n",
       "      <td>835.0</td>\n",
       "      <td>1.572505</td>\n",
       "    </tr>\n",
       "    <tr>\n",
       "      <td>24</td>\n",
       "      <td>24</td>\n",
       "      <td>928.0</td>\n",
       "      <td>1.628070</td>\n",
       "    </tr>\n",
       "    <tr>\n",
       "      <td>25</td>\n",
       "      <td>25</td>\n",
       "      <td>667.0</td>\n",
       "      <td>1.469163</td>\n",
       "    </tr>\n",
       "  </tbody>\n",
       "</table>\n",
       "</div>"
      ],
      "text/plain": [
       "    #Weeks  overall       avg\n",
       "0        0   8649.0  1.280954\n",
       "1        1   1416.0  2.749515\n",
       "2        2    974.0  1.917323\n",
       "3        3    871.0  1.621974\n",
       "4        4    813.0  1.489011\n",
       "5        5    835.0  1.621359\n",
       "6        6    913.0  1.769380\n",
       "7        7    928.0  1.760911\n",
       "8        8    825.0  1.556604\n",
       "9        9    850.0  1.660156\n",
       "10      10    754.0  1.570833\n",
       "11      11    775.0  1.462264\n",
       "12      12    811.0  1.530189\n",
       "13      13    811.0  1.513060\n",
       "14      14    837.0  1.547135\n",
       "15      15    850.0  1.597744\n",
       "16      16    820.0  1.521336\n",
       "17      17    874.0  1.530648\n",
       "18      18    816.0  1.431579\n",
       "19      19    826.0  1.564394\n",
       "20      20    846.0  1.508021\n",
       "21      21    901.0  1.677840\n",
       "22      22    841.0  1.543119\n",
       "23      23    835.0  1.572505\n",
       "24      24    928.0  1.628070\n",
       "25      25    667.0  1.469163"
      ]
     },
     "execution_count": 518,
     "metadata": {},
     "output_type": "execute_result"
    }
   ],
   "source": [
    "a"
   ]
  },
  {
   "cell_type": "code",
   "execution_count": 519,
   "metadata": {
    "ExecuteTime": {
     "end_time": "2019-11-08T22:30:19.231423Z",
     "start_time": "2019-11-08T22:30:19.216463Z"
    }
   },
   "outputs": [],
   "source": [
    "a.loc[:,'cumsum']=a['avg'].transform(np.cumsum)\n",
    "b.loc[:,'cumsum']=b['avg'].transform(np.cumsum)"
   ]
  },
  {
   "cell_type": "code",
   "execution_count": null,
   "metadata": {
    "ExecuteTime": {
     "end_time": "2019-11-08T20:55:21.029912Z",
     "start_time": "2019-11-08T20:55:21.014953Z"
    }
   },
   "outputs": [],
   "source": []
  },
  {
   "cell_type": "code",
   "execution_count": 520,
   "metadata": {
    "ExecuteTime": {
     "end_time": "2019-11-08T22:30:23.890635Z",
     "start_time": "2019-11-08T22:30:23.301018Z"
    }
   },
   "outputs": [
    {
     "data": {
      "image/png": "[encoded data removed]",
      "text/plain": [
       "<Figure size 841.68x595.44 with 4 Axes>"
      ]
     },
     "metadata": {},
     "output_type": "display_data"
    }
   ],
   "source": [
    "#Figure creation\n",
    "fig = plt.figure(figsize=(11.69,8.27)) #figure size in inches to fit A4\n",
    "\n",
    "# parition the figure into 4 subplots with 'gridspec'\n",
    "gs = gridspec.GridSpec(2, 2, # we want 2 rows, 2 cols\n",
    "                       figure=fig, # this gs applies to figure\n",
    "                       hspace=0.4, wspace=0.4, # separation between plots\n",
    "                       width_ratios=[1, 1], # ration between the first and second column\n",
    "                       height_ratios=[1, 1]) # ration between the first ans second row\n",
    "\n",
    "# add plots\n",
    "ax0 = fig.add_subplot(gs[0, 0]) # this will occupy the first row-first colum\n",
    "ax1 = fig.add_subplot(gs[0, 1]) # and so on and so forth...\n",
    "ax2 = fig.add_subplot(gs[1, 0])\n",
    "ax3 = fig.add_subplot(gs[1, 1])"
   ]
  },
  {
   "cell_type": "code",
   "execution_count": null,
   "metadata": {},
   "outputs": [],
   "source": []
  },
  {
   "cell_type": "code",
   "execution_count": 521,
   "metadata": {
    "ExecuteTime": {
     "end_time": "2019-11-08T22:30:23.927532Z",
     "start_time": "2019-11-08T22:30:23.893621Z"
    },
    "scrolled": true
   },
   "outputs": [
    {
     "data": {
      "text/plain": [
       "[<matplotlib.lines.Line2D at 0x1e98e995b88>]"
      ]
     },
     "execution_count": 521,
     "metadata": {},
     "output_type": "execute_result"
    }
   ],
   "source": [
    "#Plot 1\n",
    "ax0.plot('#Weeks','overall',data=df_lb_g,\n",
    "         color='red',\n",
    "         alpha=0.5,\n",
    "         linewidth=0.2)\n",
    "ax0.plot('#Weeks','overall',data=df_ab_g,\n",
    "         color='green',\n",
    "         alpha=0.5,\n",
    "         linewidth=0.2)\n",
    "\n",
    "ax0.plot('#Weeks','avg',data=a,\n",
    "         color='orange',\n",
    "         alpha=1,\n",
    "         marker='o',\n",
    "         linewidth=1)\n",
    "ax0.plot('#Weeks','avg',data=b,\n",
    "         color='blue',\n",
    "         alpha=1,\n",
    "         marker='^',\n",
    "         linewidth=1)\n"
   ]
  },
  {
   "cell_type": "code",
   "execution_count": 522,
   "metadata": {
    "ExecuteTime": {
     "end_time": "2019-11-08T22:30:33.510982Z",
     "start_time": "2019-11-08T22:30:33.493031Z"
    }
   },
   "outputs": [
    {
     "data": {
      "text/plain": [
       "[<matplotlib.lines.Line2D at 0x1e98c9b9308>]"
      ]
     },
     "execution_count": 522,
     "metadata": {},
     "output_type": "execute_result"
    }
   ],
   "source": [
    "# Plot2\n",
    "ax1.plot('cumsum', data=a,\n",
    "         color='blue',\n",
    "         alpha=1,\n",
    "         marker='^',\n",
    "         linewidth=1)\n",
    "ax1.plot('cumsum', data=b,\n",
    "         color='orange',\n",
    "         alpha=1,\n",
    "         marker='o',\n",
    "         linewidth=1)"
   ]
  },
  {
   "cell_type": "code",
   "execution_count": 523,
   "metadata": {
    "ExecuteTime": {
     "end_time": "2019-11-08T22:30:39.028660Z",
     "start_time": "2019-11-08T22:30:38.424240Z"
    }
   },
   "outputs": [
    {
     "data": {
      "image/png": "[encoded data removed]",
      "text/plain": [
       "<Figure size 841.68x595.44 with 4 Axes>"
      ]
     },
     "execution_count": 523,
     "metadata": {},
     "output_type": "execute_result"
    }
   ],
   "source": [
    "fig"
   ]
  },
  {
   "cell_type": "code",
   "execution_count": 525,
   "metadata": {
    "ExecuteTime": {
     "end_time": "2019-11-08T22:30:53.265648Z",
     "start_time": "2019-11-08T22:30:53.246699Z"
    }
   },
   "outputs": [
    {
     "data": {
      "text/plain": [
       "[<matplotlib.lines.Line2D at 0x1e98e7b83c8>]"
      ]
     },
     "execution_count": 525,
     "metadata": {},
     "output_type": "execute_result"
    }
   ],
   "source": [
    "#Plot 4 - Association between count of ratings and average pacing between reviews\n",
    "#Possibly change to log log plot with y axis being probability and x axis being average pacing\n",
    "ax3.plot('average pace','overall',data=df4_lb,\n",
    "         color='green',\n",
    "         alpha=0.5,\n",
    "         linewidth=0.2)\n",
    "ax3.plot('average pace','overall',data=df4_ab,\n",
    "         color='green',\n",
    "         alpha=0.5,\n",
    "         linewidth=0.2)"
   ]
  },
  {
   "cell_type": "code",
   "execution_count": 526,
   "metadata": {
    "ExecuteTime": {
     "end_time": "2019-11-08T22:30:58.853056Z",
     "start_time": "2019-11-08T22:30:57.981590Z"
    }
   },
   "outputs": [
    {
     "data": {
      "image/png": "[encoded data removed]",
      "text/plain": [
       "<Figure size 841.68x595.44 with 4 Axes>"
      ]
     },
     "execution_count": 526,
     "metadata": {},
     "output_type": "execute_result"
    }
   ],
   "source": [
    "fig"
   ]
  },
  {
   "cell_type": "code",
   "execution_count": null,
   "metadata": {},
   "outputs": [],
   "source": []
  }
 ],
 "metadata": {
  "kernelspec": {
   "display_name": "Python 3",
   "language": "python",
   "name": "python3"
  },
  "language_info": {
   "codemirror_mode": {
    "name": "ipython",
    "version": 3
   },
   "file_extension": ".py",
   "mimetype": "text/x-python",
   "name": "python",
   "nbconvert_exporter": "python",
   "pygments_lexer": "ipython3",
   "version": "3.7.4"
  },
  "toc": {
   "base_numbering": 1,
   "nav_menu": {},
   "number_sections": true,
   "sideBar": true,
   "skip_h1_title": false,
   "title_cell": "Table of Contents",
   "title_sidebar": "Contents",
   "toc_cell": false,
   "toc_position": {},
   "toc_section_display": true,
   "toc_window_display": false
  },
  "varInspector": {
   "cols": {
    "lenName": 16,
    "lenType": 16,
    "lenVar": 40
   },
   "kernels_config": {
    "python": {
     "delete_cmd_postfix": "",
     "delete_cmd_prefix": "del ",
     "library": "var_list.py",
     "varRefreshCmd": "print(var_dic_list())"
    },
    "r": {
     "delete_cmd_postfix": ") ",
     "delete_cmd_prefix": "rm(",
     "library": "var_list.r",
     "varRefreshCmd": "cat(var_dic_list()) "
    }
   },
   "oldHeight": 366.000454,
   "position": {
    "height": "40px",
    "left": "1060px",
    "right": "20px",
    "top": "34px",
    "width": "338px"
   },
   "types_to_exclude": [
    "module",
    "function",
    "builtin_function_or_method",
    "instance",
    "_Feature"
   ],
   "varInspector_section_display": "none",
   "window_display": true
  }
 },
 "nbformat": 4,
 "nbformat_minor": 2
}
